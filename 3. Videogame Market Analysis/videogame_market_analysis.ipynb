{
 "cells": [
  {
   "cell_type": "markdown",
   "metadata": {
    "toc": true
   },
   "source": [
    "<h1>Оглавление<span class=\"tocSkip\"></span></h1>\n",
    "<div class=\"toc\"><ul class=\"toc-item\"><li><span><a href=\"#Загрузка-данных\" data-toc-modified-id=\"Загрузка-данных-1\"><span class=\"toc-item-num\">1&nbsp;&nbsp;</span>Загрузка данных</a></span></li><li><span><a href=\"#Предобработка-данных\" data-toc-modified-id=\"Предобработка-данных-2\"><span class=\"toc-item-num\">2&nbsp;&nbsp;</span>Предобработка данных</a></span></li><li><span><a href=\"#Исследовательский-анализ-данных\" data-toc-modified-id=\"Исследовательский-анализ-данных-3\"><span class=\"toc-item-num\">3&nbsp;&nbsp;</span>Исследовательский анализ данных</a></span><ul class=\"toc-item\"><li><span><a href=\"#Анализ-выпуска-игр-в-разные-годы\" data-toc-modified-id=\"Анализ-выпуска-игр-в-разные-годы-3.1\"><span class=\"toc-item-num\">3.1&nbsp;&nbsp;</span>Анализ выпуска игр в разные годы</a></span></li><li><span><a href=\"#Анализ-изменения-продаж-по-платформам-и-их-жизненного-цикла\" data-toc-modified-id=\"Анализ-изменения-продаж-по-платформам-и-их-жизненного-цикла-3.2\"><span class=\"toc-item-num\">3.2&nbsp;&nbsp;</span>Анализ изменения продаж по платформам и их жизненного цикла</a></span></li><li><span><a href=\"#Определение-актуального-периода-исследования-и-наиболее-популярных-платформ\" data-toc-modified-id=\"Определение-актуального-периода-исследования-и-наиболее-популярных-платформ-3.3\"><span class=\"toc-item-num\">3.3&nbsp;&nbsp;</span>Определение актуального периода исследования и наиболее популярных платформ</a></span></li><li><span><a href=\"#Исследование-влияния-отзывов-на-продажи-игр\" data-toc-modified-id=\"Исследование-влияния-отзывов-на-продажи-игр-3.4\"><span class=\"toc-item-num\">3.4&nbsp;&nbsp;</span>Исследование влияния отзывов на продажи игр</a></span></li><li><span><a href=\"#Исследование-популярности-игр-по-жанрам\" data-toc-modified-id=\"Исследование-популярности-игр-по-жанрам-3.5\"><span class=\"toc-item-num\">3.5&nbsp;&nbsp;</span>Исследование популярности игр по жанрам</a></span></li></ul></li><li><span><a href=\"#Портрет-пользователя-каждого-региона\" data-toc-modified-id=\"Портрет-пользователя-каждого-региона-4\"><span class=\"toc-item-num\">4&nbsp;&nbsp;</span>Портрет пользователя каждого региона</a></span></li><li><span><a href=\"#Проверка-гипотез\" data-toc-modified-id=\"Проверка-гипотез-5\"><span class=\"toc-item-num\">5&nbsp;&nbsp;</span>Проверка гипотез</a></span><ul class=\"toc-item\"><li><span><a href=\"#Проверка-гипотезы:-средние-пользовательские-рейтинги-платформ-Xbox-One-и-PC-одинаковые\" data-toc-modified-id=\"Проверка-гипотезы:-средние-пользовательские-рейтинги-платформ-Xbox-One-и-PC-одинаковые-5.1\"><span class=\"toc-item-num\">5.1&nbsp;&nbsp;</span>Проверка гипотезы: средние пользовательские рейтинги платформ Xbox One и PC одинаковые</a></span></li><li><span><a href=\"#Проверка-гипотезы:-средние-пользовательские-рейтинги-жанров-Action-(англ.-«действие»,-экшен-игры)-и-Sports-(англ.-«спортивные-соревнования»)-разные.\" data-toc-modified-id=\"Проверка-гипотезы:-средние-пользовательские-рейтинги-жанров-Action-(англ.-«действие»,-экшен-игры)-и-Sports-(англ.-«спортивные-соревнования»)-разные.-5.2\"><span class=\"toc-item-num\">5.2&nbsp;&nbsp;</span>Проверка гипотезы: средние пользовательские рейтинги жанров Action (англ. «действие», экшен-игры) и Sports (англ. «спортивные соревнования») разные.</a></span></li></ul></li><li><span><a href=\"#Общий-вывод\" data-toc-modified-id=\"Общий-вывод-6\"><span class=\"toc-item-num\">6&nbsp;&nbsp;</span>Общий вывод</a></span></li></ul></div>"
   ]
  },
  {
   "cell_type": "markdown",
   "metadata": {},
   "source": [
    "# Анализ продаж игр для магазина \"Стримчик\""
   ]
  },
  {
   "cell_type": "markdown",
   "metadata": {},
   "source": [
    "Из открытых источников доступны исторические данные до 2016 года о продажах игр, оценки пользователей и экспертов, жанры и платформы (например, Xbox или PlayStation). Необходимо выявить определяющие успешность игры закономерности для ставки на потенциально популярный продукт и планирования рекламных кампаний.\n",
    "Дата выполнения проекта: декабрь 2016 г., кампания планируется на 2017-й.\n",
    "\n",
    "\n",
    "***План исследования***:\n",
    "1) [Загрузка данных.](#load)\n",
    "\n",
    "2) [Предобработка данных.](#process)\n",
    "\n",
    "3) [Исследовательский анализ данных.](#analysis)\n",
    "\n",
    "4) [Портрет пользователя каждого региона.](#portret)\n",
    "\n",
    "5) [Проверка гипотез.](#hypothesis)\n",
    "\n",
    "6) [Общий вывод.](#conclusion)"
   ]
  },
  {
   "cell_type": "markdown",
   "metadata": {},
   "source": [
    "### Загрузка данных\n",
    "<a id='load'></a>"
   ]
  },
  {
   "cell_type": "code",
   "execution_count": 1,
   "metadata": {},
   "outputs": [
    {
     "name": "stdout",
     "output_type": "stream",
     "text": [
      "Requirement already satisfied: missingno in /opt/conda/lib/python3.9/site-packages (0.5.2)\n",
      "Requirement already satisfied: seaborn in /opt/conda/lib/python3.9/site-packages (from missingno) (0.11.1)\n",
      "Requirement already satisfied: matplotlib in /opt/conda/lib/python3.9/site-packages (from missingno) (3.3.4)\n",
      "Requirement already satisfied: numpy in /opt/conda/lib/python3.9/site-packages (from missingno) (1.21.1)\n",
      "Requirement already satisfied: scipy in /opt/conda/lib/python3.9/site-packages (from missingno) (1.9.1)\n",
      "Requirement already satisfied: pillow>=6.2.0 in /opt/conda/lib/python3.9/site-packages (from matplotlib->missingno) (8.4.0)\n",
      "Requirement already satisfied: python-dateutil>=2.1 in /opt/conda/lib/python3.9/site-packages (from matplotlib->missingno) (2.8.1)\n",
      "Requirement already satisfied: kiwisolver>=1.0.1 in /opt/conda/lib/python3.9/site-packages (from matplotlib->missingno) (1.4.4)\n",
      "Requirement already satisfied: pyparsing!=2.0.4,!=2.1.2,!=2.1.6,>=2.0.3 in /opt/conda/lib/python3.9/site-packages (from matplotlib->missingno) (2.4.7)\n",
      "Requirement already satisfied: cycler>=0.10 in /opt/conda/lib/python3.9/site-packages (from matplotlib->missingno) (0.11.0)\n",
      "Requirement already satisfied: six>=1.5 in /opt/conda/lib/python3.9/site-packages (from python-dateutil>=2.1->matplotlib->missingno) (1.16.0)\n",
      "Requirement already satisfied: pandas>=0.23 in /opt/conda/lib/python3.9/site-packages (from seaborn->missingno) (1.2.4)\n",
      "Requirement already satisfied: pytz>=2017.3 in /opt/conda/lib/python3.9/site-packages (from pandas>=0.23->seaborn->missingno) (2021.1)\n",
      "Note: you may need to restart the kernel to use updated packages.\n"
     ]
    }
   ],
   "source": [
    "# Импорт необходимых библиотек\n",
    "%pip install missingno\n",
    "import pandas as pd\n",
    "import matplotlib.pyplot as plt\n",
    "from scipy import stats as st\n",
    "import numpy as np\n",
    "from math import factorial\n",
    "from math import sqrt\n",
    "import seaborn as sns\n",
    "import missingno as msno\n",
    "import datetime as dt"
   ]
  },
  {
   "cell_type": "code",
   "execution_count": 2,
   "metadata": {},
   "outputs": [
    {
     "data": {
      "text/html": [
       "<div>\n",
       "<style scoped>\n",
       "    .dataframe tbody tr th:only-of-type {\n",
       "        vertical-align: middle;\n",
       "    }\n",
       "\n",
       "    .dataframe tbody tr th {\n",
       "        vertical-align: top;\n",
       "    }\n",
       "\n",
       "    .dataframe thead th {\n",
       "        text-align: right;\n",
       "    }\n",
       "</style>\n",
       "<table border=\"1\" class=\"dataframe\">\n",
       "  <thead>\n",
       "    <tr style=\"text-align: right;\">\n",
       "      <th></th>\n",
       "      <th>Name</th>\n",
       "      <th>Platform</th>\n",
       "      <th>Year_of_Release</th>\n",
       "      <th>Genre</th>\n",
       "      <th>NA_sales</th>\n",
       "      <th>EU_sales</th>\n",
       "      <th>JP_sales</th>\n",
       "      <th>Other_sales</th>\n",
       "      <th>Critic_Score</th>\n",
       "      <th>User_Score</th>\n",
       "      <th>Rating</th>\n",
       "    </tr>\n",
       "  </thead>\n",
       "  <tbody>\n",
       "    <tr>\n",
       "      <th>0</th>\n",
       "      <td>Wii Sports</td>\n",
       "      <td>Wii</td>\n",
       "      <td>2006.0</td>\n",
       "      <td>Sports</td>\n",
       "      <td>41.36</td>\n",
       "      <td>28.96</td>\n",
       "      <td>3.77</td>\n",
       "      <td>8.45</td>\n",
       "      <td>76.0</td>\n",
       "      <td>8</td>\n",
       "      <td>E</td>\n",
       "    </tr>\n",
       "    <tr>\n",
       "      <th>1</th>\n",
       "      <td>Super Mario Bros.</td>\n",
       "      <td>NES</td>\n",
       "      <td>1985.0</td>\n",
       "      <td>Platform</td>\n",
       "      <td>29.08</td>\n",
       "      <td>3.58</td>\n",
       "      <td>6.81</td>\n",
       "      <td>0.77</td>\n",
       "      <td>NaN</td>\n",
       "      <td>NaN</td>\n",
       "      <td>NaN</td>\n",
       "    </tr>\n",
       "    <tr>\n",
       "      <th>2</th>\n",
       "      <td>Mario Kart Wii</td>\n",
       "      <td>Wii</td>\n",
       "      <td>2008.0</td>\n",
       "      <td>Racing</td>\n",
       "      <td>15.68</td>\n",
       "      <td>12.76</td>\n",
       "      <td>3.79</td>\n",
       "      <td>3.29</td>\n",
       "      <td>82.0</td>\n",
       "      <td>8.3</td>\n",
       "      <td>E</td>\n",
       "    </tr>\n",
       "    <tr>\n",
       "      <th>3</th>\n",
       "      <td>Wii Sports Resort</td>\n",
       "      <td>Wii</td>\n",
       "      <td>2009.0</td>\n",
       "      <td>Sports</td>\n",
       "      <td>15.61</td>\n",
       "      <td>10.93</td>\n",
       "      <td>3.28</td>\n",
       "      <td>2.95</td>\n",
       "      <td>80.0</td>\n",
       "      <td>8</td>\n",
       "      <td>E</td>\n",
       "    </tr>\n",
       "    <tr>\n",
       "      <th>4</th>\n",
       "      <td>Pokemon Red/Pokemon Blue</td>\n",
       "      <td>GB</td>\n",
       "      <td>1996.0</td>\n",
       "      <td>Role-Playing</td>\n",
       "      <td>11.27</td>\n",
       "      <td>8.89</td>\n",
       "      <td>10.22</td>\n",
       "      <td>1.00</td>\n",
       "      <td>NaN</td>\n",
       "      <td>NaN</td>\n",
       "      <td>NaN</td>\n",
       "    </tr>\n",
       "  </tbody>\n",
       "</table>\n",
       "</div>"
      ],
      "text/plain": [
       "                       Name Platform  Year_of_Release         Genre  NA_sales  \\\n",
       "0                Wii Sports      Wii           2006.0        Sports     41.36   \n",
       "1         Super Mario Bros.      NES           1985.0      Platform     29.08   \n",
       "2            Mario Kart Wii      Wii           2008.0        Racing     15.68   \n",
       "3         Wii Sports Resort      Wii           2009.0        Sports     15.61   \n",
       "4  Pokemon Red/Pokemon Blue       GB           1996.0  Role-Playing     11.27   \n",
       "\n",
       "   EU_sales  JP_sales  Other_sales  Critic_Score User_Score Rating  \n",
       "0     28.96      3.77         8.45          76.0          8      E  \n",
       "1      3.58      6.81         0.77           NaN        NaN    NaN  \n",
       "2     12.76      3.79         3.29          82.0        8.3      E  \n",
       "3     10.93      3.28         2.95          80.0          8      E  \n",
       "4      8.89     10.22         1.00           NaN        NaN    NaN  "
      ]
     },
     "execution_count": 2,
     "metadata": {},
     "output_type": "execute_result"
    }
   ],
   "source": [
    "# Чтение данных и просмотр основной информации\n",
    "data = pd.read_csv('/datasets/games.csv')\n",
    "data.head()"
   ]
  },
  {
   "cell_type": "code",
   "execution_count": 3,
   "metadata": {},
   "outputs": [
    {
     "name": "stdout",
     "output_type": "stream",
     "text": [
      "<class 'pandas.core.frame.DataFrame'>\n",
      "RangeIndex: 16715 entries, 0 to 16714\n",
      "Data columns (total 11 columns):\n",
      " #   Column           Non-Null Count  Dtype  \n",
      "---  ------           --------------  -----  \n",
      " 0   Name             16713 non-null  object \n",
      " 1   Platform         16715 non-null  object \n",
      " 2   Year_of_Release  16446 non-null  float64\n",
      " 3   Genre            16713 non-null  object \n",
      " 4   NA_sales         16715 non-null  float64\n",
      " 5   EU_sales         16715 non-null  float64\n",
      " 6   JP_sales         16715 non-null  float64\n",
      " 7   Other_sales      16715 non-null  float64\n",
      " 8   Critic_Score     8137 non-null   float64\n",
      " 9   User_Score       10014 non-null  object \n",
      " 10  Rating           9949 non-null   object \n",
      "dtypes: float64(6), object(5)\n",
      "memory usage: 1.4+ MB\n"
     ]
    }
   ],
   "source": [
    "data.info()"
   ]
  },
  {
   "cell_type": "code",
   "execution_count": 4,
   "metadata": {},
   "outputs": [
    {
     "data": {
      "image/png": "[encoded data removed]",
      "text/plain": [
       "<Figure size 1800x720 with 2 Axes>"
      ]
     },
     "metadata": {
      "needs_background": "light"
     },
     "output_type": "display_data"
    }
   ],
   "source": [
    "# Визуализация пропущенных значений.Черным цветом выделяется наличие данных, отсутствие данных - белый цвет.\n",
    "msno.matrix(data, labels=True)\n",
    "plt.show()"
   ]
  },
  {
   "cell_type": "markdown",
   "metadata": {},
   "source": [
    "***Описание данных***   \n",
    "_Name_ — название игры    \n",
    "_Platform_ — платформа   \n",
    "_Year_of_Release_ — год выпуска   \n",
    "_Genre_ — жанр игры   \n",
    "_NA_sales_ — продажи в Северной Америке (миллионы проданных копий)   \n",
    "_EU_sales_ — продажи в Европе (миллионы проданных копий)   \n",
    "_JP_sales_ — продажи в Японии (миллионы проданных копий)   \n",
    "_Other_sales_ — продажи в других странах (миллионы проданных копий)   \n",
    "_Critic_Score_ — оценка критиков (максимум 100)   \n",
    "_User_Score_ — оценка пользователей (максимум 10)   \n",
    "_Rating_ — рейтинг от организации ESRB (англ. Entertainment Software Rating Board). Эта ассоциация определяет рейтинг компьютерных игр и присваивает им подходящую возрастную категорию."
   ]
  },
  {
   "cell_type": "markdown",
   "metadata": {},
   "source": [
    "По данным сразу можно обнаружить наличие пропусков в некоторых столбцах (особенно много пропусков в столбцах с оценками игр), а также некорректные типы данных для года выпуска (должно быть datetime), User_Score (должен быть float).\n",
    "Также удобнее будет привести названия столбцов к нижнему регистру."
   ]
  },
  {
   "cell_type": "markdown",
   "metadata": {},
   "source": [
    "### Предобработка данных\n",
    "<a id='process'></a>"
   ]
  },
  {
   "cell_type": "code",
   "execution_count": 5,
   "metadata": {
    "scrolled": false
   },
   "outputs": [
    {
     "data": {
      "text/html": [
       "<div>\n",
       "<style scoped>\n",
       "    .dataframe tbody tr th:only-of-type {\n",
       "        vertical-align: middle;\n",
       "    }\n",
       "\n",
       "    .dataframe tbody tr th {\n",
       "        vertical-align: top;\n",
       "    }\n",
       "\n",
       "    .dataframe thead th {\n",
       "        text-align: right;\n",
       "    }\n",
       "</style>\n",
       "<table border=\"1\" class=\"dataframe\">\n",
       "  <thead>\n",
       "    <tr style=\"text-align: right;\">\n",
       "      <th></th>\n",
       "      <th>name</th>\n",
       "      <th>platform</th>\n",
       "      <th>year_of_release</th>\n",
       "      <th>genre</th>\n",
       "      <th>na_sales</th>\n",
       "      <th>eu_sales</th>\n",
       "      <th>jp_sales</th>\n",
       "      <th>other_sales</th>\n",
       "      <th>critic_score</th>\n",
       "      <th>user_score</th>\n",
       "      <th>rating</th>\n",
       "    </tr>\n",
       "  </thead>\n",
       "  <tbody>\n",
       "    <tr>\n",
       "      <th>0</th>\n",
       "      <td>Wii Sports</td>\n",
       "      <td>Wii</td>\n",
       "      <td>2006.0</td>\n",
       "      <td>Sports</td>\n",
       "      <td>41.36</td>\n",
       "      <td>28.96</td>\n",
       "      <td>3.77</td>\n",
       "      <td>8.45</td>\n",
       "      <td>76.0</td>\n",
       "      <td>8</td>\n",
       "      <td>E</td>\n",
       "    </tr>\n",
       "    <tr>\n",
       "      <th>1</th>\n",
       "      <td>Super Mario Bros.</td>\n",
       "      <td>NES</td>\n",
       "      <td>1985.0</td>\n",
       "      <td>Platform</td>\n",
       "      <td>29.08</td>\n",
       "      <td>3.58</td>\n",
       "      <td>6.81</td>\n",
       "      <td>0.77</td>\n",
       "      <td>NaN</td>\n",
       "      <td>NaN</td>\n",
       "      <td>NaN</td>\n",
       "    </tr>\n",
       "    <tr>\n",
       "      <th>2</th>\n",
       "      <td>Mario Kart Wii</td>\n",
       "      <td>Wii</td>\n",
       "      <td>2008.0</td>\n",
       "      <td>Racing</td>\n",
       "      <td>15.68</td>\n",
       "      <td>12.76</td>\n",
       "      <td>3.79</td>\n",
       "      <td>3.29</td>\n",
       "      <td>82.0</td>\n",
       "      <td>8.3</td>\n",
       "      <td>E</td>\n",
       "    </tr>\n",
       "    <tr>\n",
       "      <th>3</th>\n",
       "      <td>Wii Sports Resort</td>\n",
       "      <td>Wii</td>\n",
       "      <td>2009.0</td>\n",
       "      <td>Sports</td>\n",
       "      <td>15.61</td>\n",
       "      <td>10.93</td>\n",
       "      <td>3.28</td>\n",
       "      <td>2.95</td>\n",
       "      <td>80.0</td>\n",
       "      <td>8</td>\n",
       "      <td>E</td>\n",
       "    </tr>\n",
       "    <tr>\n",
       "      <th>4</th>\n",
       "      <td>Pokemon Red/Pokemon Blue</td>\n",
       "      <td>GB</td>\n",
       "      <td>1996.0</td>\n",
       "      <td>Role-Playing</td>\n",
       "      <td>11.27</td>\n",
       "      <td>8.89</td>\n",
       "      <td>10.22</td>\n",
       "      <td>1.00</td>\n",
       "      <td>NaN</td>\n",
       "      <td>NaN</td>\n",
       "      <td>NaN</td>\n",
       "    </tr>\n",
       "  </tbody>\n",
       "</table>\n",
       "</div>"
      ],
      "text/plain": [
       "                       name platform  year_of_release         genre  na_sales  \\\n",
       "0                Wii Sports      Wii           2006.0        Sports     41.36   \n",
       "1         Super Mario Bros.      NES           1985.0      Platform     29.08   \n",
       "2            Mario Kart Wii      Wii           2008.0        Racing     15.68   \n",
       "3         Wii Sports Resort      Wii           2009.0        Sports     15.61   \n",
       "4  Pokemon Red/Pokemon Blue       GB           1996.0  Role-Playing     11.27   \n",
       "\n",
       "   eu_sales  jp_sales  other_sales  critic_score user_score rating  \n",
       "0     28.96      3.77         8.45          76.0          8      E  \n",
       "1      3.58      6.81         0.77           NaN        NaN    NaN  \n",
       "2     12.76      3.79         3.29          82.0        8.3      E  \n",
       "3     10.93      3.28         2.95          80.0          8      E  \n",
       "4      8.89     10.22         1.00           NaN        NaN    NaN  "
      ]
     },
     "execution_count": 5,
     "metadata": {},
     "output_type": "execute_result"
    }
   ],
   "source": [
    "# Приведем названия столбцов к нижнему регистру\n",
    "data.columns = data.columns.str.lower()\n",
    "data.head()"
   ]
  },
  {
   "cell_type": "code",
   "execution_count": 6,
   "metadata": {},
   "outputs": [
    {
     "data": {
      "text/html": [
       "<div>\n",
       "<style scoped>\n",
       "    .dataframe tbody tr th:only-of-type {\n",
       "        vertical-align: middle;\n",
       "    }\n",
       "\n",
       "    .dataframe tbody tr th {\n",
       "        vertical-align: top;\n",
       "    }\n",
       "\n",
       "    .dataframe thead th {\n",
       "        text-align: right;\n",
       "    }\n",
       "</style>\n",
       "<table border=\"1\" class=\"dataframe\">\n",
       "  <thead>\n",
       "    <tr style=\"text-align: right;\">\n",
       "      <th></th>\n",
       "      <th>name</th>\n",
       "      <th>platform</th>\n",
       "      <th>year_of_release</th>\n",
       "      <th>genre</th>\n",
       "      <th>na_sales</th>\n",
       "      <th>eu_sales</th>\n",
       "      <th>jp_sales</th>\n",
       "      <th>other_sales</th>\n",
       "      <th>critic_score</th>\n",
       "      <th>user_score</th>\n",
       "      <th>rating</th>\n",
       "    </tr>\n",
       "  </thead>\n",
       "  <tbody>\n",
       "    <tr>\n",
       "      <th>659</th>\n",
       "      <td>NaN</td>\n",
       "      <td>GEN</td>\n",
       "      <td>1993.0</td>\n",
       "      <td>NaN</td>\n",
       "      <td>1.78</td>\n",
       "      <td>0.53</td>\n",
       "      <td>0.00</td>\n",
       "      <td>0.08</td>\n",
       "      <td>NaN</td>\n",
       "      <td>NaN</td>\n",
       "      <td>NaN</td>\n",
       "    </tr>\n",
       "    <tr>\n",
       "      <th>14244</th>\n",
       "      <td>NaN</td>\n",
       "      <td>GEN</td>\n",
       "      <td>1993.0</td>\n",
       "      <td>NaN</td>\n",
       "      <td>0.00</td>\n",
       "      <td>0.00</td>\n",
       "      <td>0.03</td>\n",
       "      <td>0.00</td>\n",
       "      <td>NaN</td>\n",
       "      <td>NaN</td>\n",
       "      <td>NaN</td>\n",
       "    </tr>\n",
       "  </tbody>\n",
       "</table>\n",
       "</div>"
      ],
      "text/plain": [
       "      name platform  year_of_release genre  na_sales  eu_sales  jp_sales  \\\n",
       "659    NaN      GEN           1993.0   NaN      1.78      0.53      0.00   \n",
       "14244  NaN      GEN           1993.0   NaN      0.00      0.00      0.03   \n",
       "\n",
       "       other_sales  critic_score user_score rating  \n",
       "659           0.08           NaN        NaN    NaN  \n",
       "14244         0.00           NaN        NaN    NaN  "
      ]
     },
     "execution_count": 6,
     "metadata": {},
     "output_type": "execute_result"
    }
   ],
   "source": [
    "# Проверим пропуски в столбце с названиями\n",
    "data.loc[data['name'].isna()]"
   ]
  },
  {
   "cell_type": "code",
   "execution_count": 7,
   "metadata": {
    "scrolled": true
   },
   "outputs": [
    {
     "data": {
      "text/plain": [
       "0"
      ]
     },
     "execution_count": 7,
     "metadata": {},
     "output_type": "execute_result"
    }
   ],
   "source": [
    "# Удалим пропуски в столбце названий игры, так как по ней мало данных в принципе, еще и 93го года.\n",
    "data = data.dropna(subset=['name'])\n",
    "data['name'].isna().sum()"
   ]
  },
  {
   "cell_type": "markdown",
   "metadata": {},
   "source": [
    "Пропуски в названиях игр удалены, так как они не особо влияют на данные для исследования."
   ]
  },
  {
   "cell_type": "code",
   "execution_count": 8,
   "metadata": {
    "scrolled": true
   },
   "outputs": [
    {
     "data": {
      "text/html": [
       "<div>\n",
       "<style scoped>\n",
       "    .dataframe tbody tr th:only-of-type {\n",
       "        vertical-align: middle;\n",
       "    }\n",
       "\n",
       "    .dataframe tbody tr th {\n",
       "        vertical-align: top;\n",
       "    }\n",
       "\n",
       "    .dataframe thead th {\n",
       "        text-align: right;\n",
       "    }\n",
       "</style>\n",
       "<table border=\"1\" class=\"dataframe\">\n",
       "  <thead>\n",
       "    <tr style=\"text-align: right;\">\n",
       "      <th></th>\n",
       "      <th>name</th>\n",
       "      <th>platform</th>\n",
       "      <th>year_of_release</th>\n",
       "      <th>genre</th>\n",
       "      <th>na_sales</th>\n",
       "      <th>eu_sales</th>\n",
       "      <th>jp_sales</th>\n",
       "      <th>other_sales</th>\n",
       "      <th>critic_score</th>\n",
       "      <th>user_score</th>\n",
       "      <th>rating</th>\n",
       "    </tr>\n",
       "  </thead>\n",
       "  <tbody>\n",
       "    <tr>\n",
       "      <th>183</th>\n",
       "      <td>Madden NFL 2004</td>\n",
       "      <td>PS2</td>\n",
       "      <td>NaN</td>\n",
       "      <td>Sports</td>\n",
       "      <td>4.26</td>\n",
       "      <td>0.26</td>\n",
       "      <td>0.01</td>\n",
       "      <td>0.71</td>\n",
       "      <td>94.0</td>\n",
       "      <td>8.5</td>\n",
       "      <td>E</td>\n",
       "    </tr>\n",
       "    <tr>\n",
       "      <th>377</th>\n",
       "      <td>FIFA Soccer 2004</td>\n",
       "      <td>PS2</td>\n",
       "      <td>NaN</td>\n",
       "      <td>Sports</td>\n",
       "      <td>0.59</td>\n",
       "      <td>2.36</td>\n",
       "      <td>0.04</td>\n",
       "      <td>0.51</td>\n",
       "      <td>84.0</td>\n",
       "      <td>6.4</td>\n",
       "      <td>E</td>\n",
       "    </tr>\n",
       "    <tr>\n",
       "      <th>456</th>\n",
       "      <td>LEGO Batman: The Videogame</td>\n",
       "      <td>Wii</td>\n",
       "      <td>NaN</td>\n",
       "      <td>Action</td>\n",
       "      <td>1.80</td>\n",
       "      <td>0.97</td>\n",
       "      <td>0.00</td>\n",
       "      <td>0.29</td>\n",
       "      <td>74.0</td>\n",
       "      <td>7.9</td>\n",
       "      <td>E10+</td>\n",
       "    </tr>\n",
       "    <tr>\n",
       "      <th>475</th>\n",
       "      <td>wwe Smackdown vs. Raw 2006</td>\n",
       "      <td>PS2</td>\n",
       "      <td>NaN</td>\n",
       "      <td>Fighting</td>\n",
       "      <td>1.57</td>\n",
       "      <td>1.02</td>\n",
       "      <td>0.00</td>\n",
       "      <td>0.41</td>\n",
       "      <td>NaN</td>\n",
       "      <td>NaN</td>\n",
       "      <td>NaN</td>\n",
       "    </tr>\n",
       "    <tr>\n",
       "      <th>609</th>\n",
       "      <td>Space Invaders</td>\n",
       "      <td>2600</td>\n",
       "      <td>NaN</td>\n",
       "      <td>Shooter</td>\n",
       "      <td>2.36</td>\n",
       "      <td>0.14</td>\n",
       "      <td>0.00</td>\n",
       "      <td>0.03</td>\n",
       "      <td>NaN</td>\n",
       "      <td>NaN</td>\n",
       "      <td>NaN</td>\n",
       "    </tr>\n",
       "    <tr>\n",
       "      <th>...</th>\n",
       "      <td>...</td>\n",
       "      <td>...</td>\n",
       "      <td>...</td>\n",
       "      <td>...</td>\n",
       "      <td>...</td>\n",
       "      <td>...</td>\n",
       "      <td>...</td>\n",
       "      <td>...</td>\n",
       "      <td>...</td>\n",
       "      <td>...</td>\n",
       "      <td>...</td>\n",
       "    </tr>\n",
       "    <tr>\n",
       "      <th>16373</th>\n",
       "      <td>PDC World Championship Darts 2008</td>\n",
       "      <td>PSP</td>\n",
       "      <td>NaN</td>\n",
       "      <td>Sports</td>\n",
       "      <td>0.01</td>\n",
       "      <td>0.00</td>\n",
       "      <td>0.00</td>\n",
       "      <td>0.00</td>\n",
       "      <td>43.0</td>\n",
       "      <td>tbd</td>\n",
       "      <td>E10+</td>\n",
       "    </tr>\n",
       "    <tr>\n",
       "      <th>16405</th>\n",
       "      <td>Freaky Flyers</td>\n",
       "      <td>GC</td>\n",
       "      <td>NaN</td>\n",
       "      <td>Racing</td>\n",
       "      <td>0.01</td>\n",
       "      <td>0.00</td>\n",
       "      <td>0.00</td>\n",
       "      <td>0.00</td>\n",
       "      <td>69.0</td>\n",
       "      <td>6.5</td>\n",
       "      <td>T</td>\n",
       "    </tr>\n",
       "    <tr>\n",
       "      <th>16448</th>\n",
       "      <td>Inversion</td>\n",
       "      <td>PC</td>\n",
       "      <td>NaN</td>\n",
       "      <td>Shooter</td>\n",
       "      <td>0.01</td>\n",
       "      <td>0.00</td>\n",
       "      <td>0.00</td>\n",
       "      <td>0.00</td>\n",
       "      <td>59.0</td>\n",
       "      <td>6.7</td>\n",
       "      <td>M</td>\n",
       "    </tr>\n",
       "    <tr>\n",
       "      <th>16458</th>\n",
       "      <td>Hakuouki: Shinsengumi Kitan</td>\n",
       "      <td>PS3</td>\n",
       "      <td>NaN</td>\n",
       "      <td>Adventure</td>\n",
       "      <td>0.01</td>\n",
       "      <td>0.00</td>\n",
       "      <td>0.00</td>\n",
       "      <td>0.00</td>\n",
       "      <td>NaN</td>\n",
       "      <td>NaN</td>\n",
       "      <td>NaN</td>\n",
       "    </tr>\n",
       "    <tr>\n",
       "      <th>16522</th>\n",
       "      <td>Virtua Quest</td>\n",
       "      <td>GC</td>\n",
       "      <td>NaN</td>\n",
       "      <td>Role-Playing</td>\n",
       "      <td>0.01</td>\n",
       "      <td>0.00</td>\n",
       "      <td>0.00</td>\n",
       "      <td>0.00</td>\n",
       "      <td>55.0</td>\n",
       "      <td>5.5</td>\n",
       "      <td>T</td>\n",
       "    </tr>\n",
       "  </tbody>\n",
       "</table>\n",
       "<p>269 rows × 11 columns</p>\n",
       "</div>"
      ],
      "text/plain": [
       "                                    name platform  year_of_release  \\\n",
       "183                      Madden NFL 2004      PS2              NaN   \n",
       "377                     FIFA Soccer 2004      PS2              NaN   \n",
       "456           LEGO Batman: The Videogame      Wii              NaN   \n",
       "475           wwe Smackdown vs. Raw 2006      PS2              NaN   \n",
       "609                       Space Invaders     2600              NaN   \n",
       "...                                  ...      ...              ...   \n",
       "16373  PDC World Championship Darts 2008      PSP              NaN   \n",
       "16405                      Freaky Flyers       GC              NaN   \n",
       "16448                          Inversion       PC              NaN   \n",
       "16458        Hakuouki: Shinsengumi Kitan      PS3              NaN   \n",
       "16522                       Virtua Quest       GC              NaN   \n",
       "\n",
       "              genre  na_sales  eu_sales  jp_sales  other_sales  critic_score  \\\n",
       "183          Sports      4.26      0.26      0.01         0.71          94.0   \n",
       "377          Sports      0.59      2.36      0.04         0.51          84.0   \n",
       "456          Action      1.80      0.97      0.00         0.29          74.0   \n",
       "475        Fighting      1.57      1.02      0.00         0.41           NaN   \n",
       "609         Shooter      2.36      0.14      0.00         0.03           NaN   \n",
       "...             ...       ...       ...       ...          ...           ...   \n",
       "16373        Sports      0.01      0.00      0.00         0.00          43.0   \n",
       "16405        Racing      0.01      0.00      0.00         0.00          69.0   \n",
       "16448       Shooter      0.01      0.00      0.00         0.00          59.0   \n",
       "16458     Adventure      0.01      0.00      0.00         0.00           NaN   \n",
       "16522  Role-Playing      0.01      0.00      0.00         0.00          55.0   \n",
       "\n",
       "      user_score rating  \n",
       "183          8.5      E  \n",
       "377          6.4      E  \n",
       "456          7.9   E10+  \n",
       "475          NaN    NaN  \n",
       "609          NaN    NaN  \n",
       "...          ...    ...  \n",
       "16373        tbd   E10+  \n",
       "16405        6.5      T  \n",
       "16448        6.7      M  \n",
       "16458        NaN    NaN  \n",
       "16522        5.5      T  \n",
       "\n",
       "[269 rows x 11 columns]"
      ]
     },
     "execution_count": 8,
     "metadata": {},
     "output_type": "execute_result"
    }
   ],
   "source": [
    "data[data['year_of_release'].isna()]"
   ]
  },
  {
   "cell_type": "markdown",
   "metadata": {},
   "source": [
    "Удалим пропуски в годе выпуска игры, так как пропуски составляют 1.6% от данных и не должны повлиять на исследуемый период."
   ]
  },
  {
   "cell_type": "code",
   "execution_count": 45,
   "metadata": {},
   "outputs": [
    {
     "data": {
      "text/plain": [
       "0"
      ]
     },
     "execution_count": 45,
     "metadata": {},
     "output_type": "execute_result"
    }
   ],
   "source": [
    "# Удалим пропуски года выпуска,\n",
    "data = data.dropna(subset=['year_of_release'])\n",
    "data['year_of_release'].isna().sum()"
   ]
  },
  {
   "cell_type": "code",
   "execution_count": 46,
   "metadata": {},
   "outputs": [],
   "source": [
    "# Изменим тип данных года выпуска с float на datetime.\n",
    "data['year_of_release'] = data['year_of_release'].astype('int')"
   ]
  },
  {
   "cell_type": "code",
   "execution_count": 47,
   "metadata": {},
   "outputs": [
    {
     "name": "stdout",
     "output_type": "stream",
     "text": [
      "Полных дубликатов строк: 0\n"
     ]
    }
   ],
   "source": [
    "# Проверим, есть ли полные дубликаты строк.\n",
    "# Дубликаты столбцов не смотрим, так как одна игра выходит на разных платформах и может повторяться.\n",
    "print(f'Полных дубликатов строк: {data.duplicated().sum()}')"
   ]
  },
  {
   "cell_type": "code",
   "execution_count": 48,
   "metadata": {},
   "outputs": [
    {
     "name": "stdout",
     "output_type": "stream",
     "text": [
      "Полных дубликатов строк c cовпадением названия игры, платформы и года релиза: 0.\n"
     ]
    }
   ],
   "source": [
    "print(f\"Полных дубликатов строк c cовпадением названия игры, платформы и года релиза: {data[['name', 'platform', 'year_of_release']].duplicated().sum()}.\")\n"
   ]
  },
  {
   "cell_type": "code",
   "execution_count": 49,
   "metadata": {},
   "outputs": [
    {
     "data": {
      "text/plain": [
       "0"
      ]
     },
     "execution_count": 49,
     "metadata": {},
     "output_type": "execute_result"
    }
   ],
   "source": [
    "# Удалим дубликат.\n",
    "data[['name', 'platform', 'year_of_release']] = data[['name', 'platform', 'year_of_release']].drop_duplicates()\n",
    "data[['name', 'platform', 'year_of_release']].duplicated().sum()"
   ]
  },
  {
   "cell_type": "markdown",
   "metadata": {},
   "source": [
    "Удален один неявный дубликат строк, совпадающих по названию, платформе и году релиза. Одна игра не сильно повлияет на общую картину."
   ]
  },
  {
   "cell_type": "code",
   "execution_count": 50,
   "metadata": {
    "scrolled": true
   },
   "outputs": [
    {
     "data": {
      "text/plain": [
       "Action          3306\n",
       "Sports          2305\n",
       "Misc            1721\n",
       "Role-Playing    1481\n",
       "Shooter         1296\n",
       "Adventure       1293\n",
       "Racing          1226\n",
       "Platform         878\n",
       "Simulation       857\n",
       "Fighting         837\n",
       "Strategy         673\n",
       "Puzzle           569\n",
       "Name: genre, dtype: int64"
      ]
     },
     "execution_count": 50,
     "metadata": {},
     "output_type": "execute_result"
    }
   ],
   "source": [
    "# Проверим, есть ли дубликаты жанров\n",
    "data['genre'].value_counts()"
   ]
  },
  {
   "cell_type": "code",
   "execution_count": 51,
   "metadata": {},
   "outputs": [
    {
     "data": {
      "text/plain": [
       "PS2     2127\n",
       "DS      2120\n",
       "PS3     1305\n",
       "Wii     1286\n",
       "X360    1232\n",
       "PSP     1193\n",
       "PS      1190\n",
       "PC       957\n",
       "GBA      811\n",
       "XB       803\n",
       "GC       542\n",
       "3DS      512\n",
       "PSV      429\n",
       "PS4      392\n",
       "N64      316\n",
       "XOne     247\n",
       "SNES     239\n",
       "SAT      173\n",
       "WiiU     147\n",
       "2600     116\n",
       "NES       98\n",
       "GB        97\n",
       "DC        52\n",
       "GEN       27\n",
       "NG        12\n",
       "WS         6\n",
       "SCD        6\n",
       "3DO        3\n",
       "TG16       2\n",
       "GG         1\n",
       "PCFX       1\n",
       "Name: platform, dtype: int64"
      ]
     },
     "execution_count": 51,
     "metadata": {},
     "output_type": "execute_result"
    }
   ],
   "source": [
    "# Проверим, есть ли дубликаты платформ\n",
    "data['platform'].value_counts()"
   ]
  },
  {
   "cell_type": "code",
   "execution_count": 52,
   "metadata": {
    "scrolled": false
   },
   "outputs": [
    {
     "data": {
      "text/html": [
       "<div>\n",
       "<style scoped>\n",
       "    .dataframe tbody tr th:only-of-type {\n",
       "        vertical-align: middle;\n",
       "    }\n",
       "\n",
       "    .dataframe tbody tr th {\n",
       "        vertical-align: top;\n",
       "    }\n",
       "\n",
       "    .dataframe thead th {\n",
       "        text-align: right;\n",
       "    }\n",
       "</style>\n",
       "<table border=\"1\" class=\"dataframe\">\n",
       "  <thead>\n",
       "    <tr style=\"text-align: right;\">\n",
       "      <th></th>\n",
       "      <th>name</th>\n",
       "      <th>platform</th>\n",
       "      <th>year_of_release</th>\n",
       "      <th>genre</th>\n",
       "      <th>na_sales</th>\n",
       "      <th>eu_sales</th>\n",
       "      <th>jp_sales</th>\n",
       "      <th>other_sales</th>\n",
       "      <th>critic_score</th>\n",
       "      <th>user_score</th>\n",
       "      <th>rating</th>\n",
       "      <th>sales</th>\n",
       "    </tr>\n",
       "  </thead>\n",
       "  <tbody>\n",
       "  </tbody>\n",
       "</table>\n",
       "</div>"
      ],
      "text/plain": [
       "Empty DataFrame\n",
       "Columns: [name, platform, year_of_release, genre, na_sales, eu_sales, jp_sales, other_sales, critic_score, user_score, rating, sales]\n",
       "Index: []"
      ]
     },
     "execution_count": 52,
     "metadata": {},
     "output_type": "execute_result"
    }
   ],
   "source": [
    "# Для замены типа данных в столбце оценки пользователей нужно рассмотреть значение tbd\n",
    "data[data['user_score'] == 'tbd']"
   ]
  },
  {
   "cell_type": "markdown",
   "metadata": {},
   "source": [
    "tbd означает to be determined, то есть эти значения еще не определены.   \n",
    "Их можно было бы заменить на основании связи между оценкой критиков и оценкой от пользователя, однако для упрощения и возможной обработки позднее заменим tbd на отсутствующие значения (проигнорируем).\n",
    "Скорее всего, этих значений так много, потому что для всех игр определялась оценка пользователей, не все пользователи оставляют оценки на официально предназначенных для этого ресурсах."
   ]
  },
  {
   "cell_type": "code",
   "execution_count": 53,
   "metadata": {},
   "outputs": [
    {
     "data": {
      "text/html": [
       "<div>\n",
       "<style scoped>\n",
       "    .dataframe tbody tr th:only-of-type {\n",
       "        vertical-align: middle;\n",
       "    }\n",
       "\n",
       "    .dataframe tbody tr th {\n",
       "        vertical-align: top;\n",
       "    }\n",
       "\n",
       "    .dataframe thead th {\n",
       "        text-align: right;\n",
       "    }\n",
       "</style>\n",
       "<table border=\"1\" class=\"dataframe\">\n",
       "  <thead>\n",
       "    <tr style=\"text-align: right;\">\n",
       "      <th></th>\n",
       "      <th>name</th>\n",
       "      <th>platform</th>\n",
       "      <th>year_of_release</th>\n",
       "      <th>genre</th>\n",
       "      <th>na_sales</th>\n",
       "      <th>eu_sales</th>\n",
       "      <th>jp_sales</th>\n",
       "      <th>other_sales</th>\n",
       "      <th>critic_score</th>\n",
       "      <th>user_score</th>\n",
       "      <th>rating</th>\n",
       "      <th>sales</th>\n",
       "    </tr>\n",
       "  </thead>\n",
       "  <tbody>\n",
       "    <tr>\n",
       "      <th>0</th>\n",
       "      <td>Wii Sports</td>\n",
       "      <td>Wii</td>\n",
       "      <td>2006</td>\n",
       "      <td>Sports</td>\n",
       "      <td>41.36</td>\n",
       "      <td>28.96</td>\n",
       "      <td>3.77</td>\n",
       "      <td>8.45</td>\n",
       "      <td>76.0</td>\n",
       "      <td>8.0</td>\n",
       "      <td>E</td>\n",
       "      <td>82.54</td>\n",
       "    </tr>\n",
       "    <tr>\n",
       "      <th>1</th>\n",
       "      <td>Super Mario Bros.</td>\n",
       "      <td>NES</td>\n",
       "      <td>1985</td>\n",
       "      <td>Platform</td>\n",
       "      <td>29.08</td>\n",
       "      <td>3.58</td>\n",
       "      <td>6.81</td>\n",
       "      <td>0.77</td>\n",
       "      <td>NaN</td>\n",
       "      <td>NaN</td>\n",
       "      <td>-1</td>\n",
       "      <td>40.24</td>\n",
       "    </tr>\n",
       "    <tr>\n",
       "      <th>2</th>\n",
       "      <td>Mario Kart Wii</td>\n",
       "      <td>Wii</td>\n",
       "      <td>2008</td>\n",
       "      <td>Racing</td>\n",
       "      <td>15.68</td>\n",
       "      <td>12.76</td>\n",
       "      <td>3.79</td>\n",
       "      <td>3.29</td>\n",
       "      <td>82.0</td>\n",
       "      <td>8.3</td>\n",
       "      <td>E</td>\n",
       "      <td>35.52</td>\n",
       "    </tr>\n",
       "    <tr>\n",
       "      <th>3</th>\n",
       "      <td>Wii Sports Resort</td>\n",
       "      <td>Wii</td>\n",
       "      <td>2009</td>\n",
       "      <td>Sports</td>\n",
       "      <td>15.61</td>\n",
       "      <td>10.93</td>\n",
       "      <td>3.28</td>\n",
       "      <td>2.95</td>\n",
       "      <td>80.0</td>\n",
       "      <td>8.0</td>\n",
       "      <td>E</td>\n",
       "      <td>32.77</td>\n",
       "    </tr>\n",
       "    <tr>\n",
       "      <th>4</th>\n",
       "      <td>Pokemon Red/Pokemon Blue</td>\n",
       "      <td>GB</td>\n",
       "      <td>1996</td>\n",
       "      <td>Role-Playing</td>\n",
       "      <td>11.27</td>\n",
       "      <td>8.89</td>\n",
       "      <td>10.22</td>\n",
       "      <td>1.00</td>\n",
       "      <td>NaN</td>\n",
       "      <td>NaN</td>\n",
       "      <td>-1</td>\n",
       "      <td>31.38</td>\n",
       "    </tr>\n",
       "  </tbody>\n",
       "</table>\n",
       "</div>"
      ],
      "text/plain": [
       "                       name platform  year_of_release         genre  na_sales  \\\n",
       "0                Wii Sports      Wii             2006        Sports     41.36   \n",
       "1         Super Mario Bros.      NES             1985      Platform     29.08   \n",
       "2            Mario Kart Wii      Wii             2008        Racing     15.68   \n",
       "3         Wii Sports Resort      Wii             2009        Sports     15.61   \n",
       "4  Pokemon Red/Pokemon Blue       GB             1996  Role-Playing     11.27   \n",
       "\n",
       "   eu_sales  jp_sales  other_sales  critic_score  user_score rating  sales  \n",
       "0     28.96      3.77         8.45          76.0         8.0      E  82.54  \n",
       "1      3.58      6.81         0.77           NaN         NaN     -1  40.24  \n",
       "2     12.76      3.79         3.29          82.0         8.3      E  35.52  \n",
       "3     10.93      3.28         2.95          80.0         8.0      E  32.77  \n",
       "4      8.89     10.22         1.00           NaN         NaN     -1  31.38  "
      ]
     },
     "execution_count": 53,
     "metadata": {},
     "output_type": "execute_result"
    }
   ],
   "source": [
    "# Подсчет суммарных продаж игры во всех регионах.\n",
    "data['sales'] = data['na_sales'] + data['eu_sales'] + data['jp_sales'] + data['other_sales']\n",
    "data.head()"
   ]
  },
  {
   "cell_type": "code",
   "execution_count": 18,
   "metadata": {},
   "outputs": [
    {
     "name": "stdout",
     "output_type": "stream",
     "text": [
      "<class 'pandas.core.frame.DataFrame'>\n",
      "Int64Index: 16444 entries, 0 to 16714\n",
      "Data columns (total 12 columns):\n",
      " #   Column           Non-Null Count  Dtype  \n",
      "---  ------           --------------  -----  \n",
      " 0   name             16443 non-null  object \n",
      " 1   platform         16443 non-null  object \n",
      " 2   year_of_release  16443 non-null  float64\n",
      " 3   genre            16444 non-null  object \n",
      " 4   na_sales         16444 non-null  float64\n",
      " 5   eu_sales         16444 non-null  float64\n",
      " 6   jp_sales         16444 non-null  float64\n",
      " 7   other_sales      16444 non-null  float64\n",
      " 8   critic_score     7983 non-null   float64\n",
      " 9   user_score       7463 non-null   float64\n",
      " 10  rating           9768 non-null   object \n",
      " 11  sales            16444 non-null  float64\n",
      "dtypes: float64(8), object(4)\n",
      "memory usage: 1.6+ MB\n"
     ]
    }
   ],
   "source": [
    "# Посмотрим на данные после обработки\n",
    "data['user_score'] = data['user_score'].replace('tbd', np.nan).astype(float)\n",
    "data.info()"
   ]
  },
  {
   "cell_type": "code",
   "execution_count": 19,
   "metadata": {},
   "outputs": [
    {
     "name": "stdout",
     "output_type": "stream",
     "text": [
      "Пропусков оценок критиков: 8461\n",
      "Пропусков оценок пользователей: 8981\n",
      "Пропусков рейтинга: 6676\n"
     ]
    }
   ],
   "source": [
    "print(f\"Пропусков оценок критиков: {data['critic_score'].isna().sum()}\\nПропусков оценок пользователей: {data['user_score'].isna().sum()}\\nПропусков рейтинга: {data['rating'].isna().sum()}\")"
   ]
  },
  {
   "cell_type": "code",
   "execution_count": 20,
   "metadata": {},
   "outputs": [
    {
     "data": {
      "text/plain": [
       "0"
      ]
     },
     "execution_count": 20,
     "metadata": {},
     "output_type": "execute_result"
    }
   ],
   "source": [
    "# Замена пропусков в столбце рейтинга нейтральным значением -1\n",
    "data['rating'] = data['rating'].fillna(-1)\n",
    "data['rating'].isna().sum()"
   ]
  },
  {
   "cell_type": "markdown",
   "metadata": {},
   "source": [
    "Достаточно много пропусков в столбцах с оценками критиков и пользователей, а также возрастного рейтинга, это говорит о неполноте данных либо об отсутствии оценок:\n",
    " - Оценки критиков и пользователей: не было сервисов для оценки игр, игра не оценивалась официально критиками, пользователи не использовали официальные ресурсы для оценки игры, игра вышла слишком давно, не существовало культуры оставления отзывов/оценок.\n",
    " - Рейтинг мог проверяться не для всех игр, это может зависеть от страны производителя, от крупности разработчика и года выпуска игры. Также ESRB была основана в 1994 году, но только к 2003 году рейтинг был присвоен 8000 игр, нельзя говорить о всех играх."
   ]
  },
  {
   "cell_type": "code",
   "execution_count": 21,
   "metadata": {},
   "outputs": [
    {
     "data": {
      "image/png": "[encoded data removed]",
      "text/plain": [
       "<Figure size 1800x720 with 2 Axes>"
      ]
     },
     "metadata": {
      "needs_background": "light"
     },
     "output_type": "display_data"
    }
   ],
   "source": [
    "msno.matrix(data, labels=True)\n",
    "plt.show()"
   ]
  },
  {
   "cell_type": "markdown",
   "metadata": {},
   "source": [
    "Пропусков в оценках достаточно много, однако заменить их на основании имеющихся данных адекватно не получится.\n",
    "\n",
    "В результате предобработки данных устранены пропуски в названиях игр, годах выпуска. \n",
    "Пропуски оценок критиков и пользователей заменить не удалось, так как недостаточно данных для замены без искажений. Пропуски в рейтинге заменены на значение -1. Значения tbd - to be determined заменили на отсутствующие значения для преобразования типа данных в численных для дальнейщих расчетов. Также изменен тип данных года выпуска. Проверено отсутствие дубликатов - найден и устранен 1 дубликат."
   ]
  },
  {
   "cell_type": "markdown",
   "metadata": {},
   "source": [
    "### Исследовательский анализ данных\n",
    "<a id='analysis'></a>"
   ]
  },
  {
   "cell_type": "markdown",
   "metadata": {},
   "source": [
    "#### Анализ выпуска игр в разные годы"
   ]
  },
  {
   "cell_type": "code",
   "execution_count": 22,
   "metadata": {},
   "outputs": [
    {
     "data": {
      "image/png": "[encoded data removed]",
      "text/plain": [
       "<Figure size 720x432 with 1 Axes>"
      ]
     },
     "metadata": {
      "needs_background": "light"
     },
     "output_type": "display_data"
    }
   ],
   "source": [
    "# Посчитаем количество релизов за каждый год\n",
    "releases = data.groupby('year_of_release')['name'].count()\n",
    "plt.figure(figsize=(10, 6))\n",
    "releases.plot(kind='bar',\n",
    "                  color='blue',\n",
    "                  edgecolor='black')\n",
    "plt.title('Выпуск игр в разные годы')\n",
    "plt.xlabel('Год')\n",
    "plt.ylabel('Количество выпущенных игр')\n",
    "plt.show()"
   ]
  },
  {
   "cell_type": "markdown",
   "metadata": {},
   "source": [
    "Данные представлены с 1980 года по 2016 включительно. Видно, что значительный рост выпущенных игр начался с 1991 года. Скорее всего, платформы, игры для которых выпускали до 2000 года устарели и вряд ли игры купят обычные покупатели, только коллекционеры.\n",
    "\n",
    "Можно наблюдать несколько пиков - годов, в которые выпущено большое количество игр.\n",
    "Это может быть связано с появлением новых технологий или платформ, которые интересны и доступны пользователям.\n",
    "\n",
    "Наблюдаются пики в 1998-1999, 2002, 2008-2009 и 2015-2016 годах. Больше всего игр выпущено в 2008-2009 году.  После пика 2009 года производство новых игр идет на спад, предположительно, из-за того, что появилась альтернатива играм на ПК и приставках - мобильные приложения."
   ]
  },
  {
   "cell_type": "markdown",
   "metadata": {},
   "source": [
    "#### Анализ изменения продаж по платформам и их жизненного цикла"
   ]
  },
  {
   "cell_type": "code",
   "execution_count": 23,
   "metadata": {},
   "outputs": [
    {
     "data": {
      "image/png": "[encoded data removed]",
      "text/plain": [
       "<Figure size 792x504 with 1 Axes>"
      ]
     },
     "metadata": {
      "needs_background": "light"
     },
     "output_type": "display_data"
    }
   ],
   "source": [
    "# Сначала можем посмотреть, как часто разрабатывают игры на платформе в принципе.\n",
    "plt.figure(figsize=(11, 7))\n",
    "data['platform'].value_counts().plot.barh(color='blue',\n",
    "                                          edgecolor='black',\n",
    "                                          title='Количество игр для платформы')\n",
    "plt.ylabel('Платформа')\n",
    "plt.xlabel('Количество игр')\n",
    "plt.show()"
   ]
  },
  {
   "cell_type": "markdown",
   "metadata": {},
   "source": [
    "Больше всего игр выпущено на Sony PlayStation 2, есть и совсем не популярные платформы, для которых игр выпущено меньше 200 за все время."
   ]
  },
  {
   "cell_type": "code",
   "execution_count": 24,
   "metadata": {},
   "outputs": [],
   "source": [
    "# Предоставим визуализацию для наиболее популярных платформ\n",
    "# Подсчет количества записей для каждой платформы\n",
    "platform_counts = data['platform'].value_counts()\n",
    "\n",
    "# Фильтрация данных, чтобы оставить только те платформы, которые встречаются более 150 раз\n",
    "filtered_platforms = platform_counts[platform_counts > 900].index\n",
    "data_filtered = data[data['platform'].isin(filtered_platforms)]\n",
    "\n",
    "# Создание сводной таблицы для данных по продажам платформ по годам\n",
    "platforms = data_filtered.pivot_table(index='platform', columns='year_of_release', values='sales', aggfunc='sum')\n",
    "\n",
    "\n"
   ]
  },
  {
   "cell_type": "code",
   "execution_count": 25,
   "metadata": {
    "scrolled": false
   },
   "outputs": [
    {
     "data": {
      "image/png": "[encoded data removed]",
      "text/plain": [
       "<Figure size 1152x720 with 1 Axes>"
      ]
     },
     "metadata": {
      "needs_background": "light"
     },
     "output_type": "display_data"
    }
   ],
   "source": [
    "plt.figure(figsize=(16, 10))\n",
    "for platform in platforms.index:\n",
    "    plt.plot(platforms.columns, platforms.loc[platform], marker='o', label=platform)\n",
    "\n",
    "plt.title('Суммарные продажи игр для различных платформ')\n",
    "plt.xlabel('Год выпуска')\n",
    "plt.ylabel('Суммарные продажи')\n",
    "plt.xticks(platforms.columns, rotation=45)\n",
    "plt.legend(title='Платформа')\n",
    "plt.grid(True)\n",
    "plt.show()"
   ]
  },
  {
   "cell_type": "markdown",
   "metadata": {},
   "source": [
    "Для визуализации выбраны платформы, для которых выпущено более 900 игр (самые популярные платформы).  \n",
    "По графику легко можно отследить, когда появилась та или иная платформа, когда она начинала утрачивать популярность.\n",
    "Достаточно стабильно продавались игры для PC, скорее всего, по причине того, что игры сохраняли возможность воспроизведения на персональных компьютерах даже с обновлением техники, чего нельзя сказать о играх, выпущенных на приставках.  \n",
    "\n",
    "Приставки устаревают, и игры, выпущенные для конкретных моделей, продаются все меньше. Так, например, очевидно, что в 2004 году игры для PS перестали продаваться, так как появились игры для PS3, причем игры на PS2 появились в 1999, но, видимо, не достаточно отличались от игр на PS для того, чтобы резко сократить производство игр для прошлой версии платформы.   \n",
    "\n",
    "\n",
    "К 2016 году почти у всех популярных платформ наблюдается спад продаж. Скорее всего, платформы устаревают из-за появления новых или внедрения новых технологий."
   ]
  },
  {
   "cell_type": "code",
   "execution_count": 26,
   "metadata": {
    "scrolled": true
   },
   "outputs": [
    {
     "data": {
      "text/html": [
       "<div>\n",
       "<style scoped>\n",
       "    .dataframe tbody tr th:only-of-type {\n",
       "        vertical-align: middle;\n",
       "    }\n",
       "\n",
       "    .dataframe tbody tr th {\n",
       "        vertical-align: top;\n",
       "    }\n",
       "\n",
       "    .dataframe thead th {\n",
       "        text-align: right;\n",
       "    }\n",
       "</style>\n",
       "<table border=\"1\" class=\"dataframe\">\n",
       "  <thead>\n",
       "    <tr style=\"text-align: right;\">\n",
       "      <th></th>\n",
       "      <th>name</th>\n",
       "      <th>platform</th>\n",
       "      <th>year_of_release</th>\n",
       "      <th>genre</th>\n",
       "      <th>na_sales</th>\n",
       "      <th>eu_sales</th>\n",
       "      <th>jp_sales</th>\n",
       "      <th>other_sales</th>\n",
       "      <th>critic_score</th>\n",
       "      <th>user_score</th>\n",
       "      <th>rating</th>\n",
       "      <th>sales</th>\n",
       "    </tr>\n",
       "  </thead>\n",
       "  <tbody>\n",
       "    <tr>\n",
       "      <th>15957</th>\n",
       "      <td>Strongest Tokyo University Shogi DS</td>\n",
       "      <td>DS</td>\n",
       "      <td>1985.0</td>\n",
       "      <td>Action</td>\n",
       "      <td>0.0</td>\n",
       "      <td>0.0</td>\n",
       "      <td>0.02</td>\n",
       "      <td>0.0</td>\n",
       "      <td>NaN</td>\n",
       "      <td>NaN</td>\n",
       "      <td>-1</td>\n",
       "      <td>0.02</td>\n",
       "    </tr>\n",
       "  </tbody>\n",
       "</table>\n",
       "</div>"
      ],
      "text/plain": [
       "                                      name platform  year_of_release   genre  \\\n",
       "15957  Strongest Tokyo University Shogi DS       DS           1985.0  Action   \n",
       "\n",
       "       na_sales  eu_sales  jp_sales  other_sales  critic_score  user_score  \\\n",
       "15957       0.0       0.0      0.02          0.0           NaN         NaN   \n",
       "\n",
       "      rating  sales  \n",
       "15957     -1   0.02  "
      ]
     },
     "execution_count": 26,
     "metadata": {},
     "output_type": "execute_result"
    }
   ],
   "source": [
    "data.query('platform ==\"DS\" and year_of_release < 2004')"
   ]
  },
  {
   "cell_type": "markdown",
   "metadata": {},
   "source": [
    "28 лет для приставки DS выглядит подозрительно. Согласно информации в интернете, эта приставка вышла в 2004 году, а данные до 2004 года - ошибка, которую необходимо исключить. Из расчета среднего цикла также необходимо исключить PC, так как игры на PC стабильно выходят с 1985 года из-за универсальности и обновляемости этой платформы."
   ]
  },
  {
   "cell_type": "code",
   "execution_count": 27,
   "metadata": {},
   "outputs": [],
   "source": [
    "data = data.query('not (platform == \"DS\" and year_of_release < 2004)')"
   ]
  },
  {
   "cell_type": "code",
   "execution_count": 28,
   "metadata": {
    "scrolled": true
   },
   "outputs": [
    {
     "name": "stdout",
     "output_type": "stream",
     "text": [
      "Средняя продолжительность жизни игровых платформ составляет: 7 лет.\n"
     ]
    }
   ],
   "source": [
    "# Исправление расчета средней продолжительности жизни платформы\n",
    "print(f\"Средняя продолжительность жизни игровых платформ составляет: {round(data[data['platform'] != 'PC'].groupby('platform')['year_of_release'].nunique().mean())} лет.\")"
   ]
  },
  {
   "cell_type": "markdown",
   "metadata": {},
   "source": [
    "#### Определение актуального периода исследования и наиболее популярных платформ"
   ]
  },
  {
   "cell_type": "markdown",
   "metadata": {},
   "source": [
    "Так как большинство популярных платформ \"живет\" примерно 7 лет, для прогноза на 2017 год нужно брать период, когда основные платформы еще будут популярны.\n",
    "Также имеет смысл рассмотреть платформы, которые еще не набрали максимальную популяность и находятся в примерно в середине своего пути. "
   ]
  },
  {
   "cell_type": "markdown",
   "metadata": {},
   "source": [
    "Актуальным периодом для исследований возьмем данные с 2014 года, когда все основные популярные платформы уже были выпущены, при этом их жизненный цикл не завершится к 2017 году."
   ]
  },
  {
   "cell_type": "markdown",
   "metadata": {},
   "source": [
    "Исследуем актуальный период."
   ]
  },
  {
   "cell_type": "code",
   "execution_count": 29,
   "metadata": {
    "scrolled": false
   },
   "outputs": [
    {
     "data": {
      "image/png": "[encoded data removed]",
      "text/plain": [
       "<Figure size 792x576 with 1 Axes>"
      ]
     },
     "metadata": {
      "needs_background": "light"
     },
     "output_type": "display_data"
    }
   ],
   "source": [
    "data_actual = data[(data['year_of_release'] > 2013) ]\n",
    "platforms_actual = data_actual.pivot_table(index='platform', columns='year_of_release', values='sales', aggfunc='sum')\n",
    "\n",
    "plt.figure(figsize=(11, 8))\n",
    "for platform in platforms_actual.index:\n",
    "    plt.plot(platforms_actual.columns, platforms_actual.loc[platform], marker='o', label=platform)\n",
    "    \n",
    "colors = plt.get_cmap('tab20')\n",
    "plt.title('Суммарные продажи игр для различных платформ с 2008 года')\n",
    "plt.xlabel('Год выпуска')\n",
    "plt.ylabel('Суммарные продажи')\n",
    "plt.xticks(platforms_actual.columns)\n",
    "plt.legend(title='Платформа')\n",
    "plt.grid(True)\n",
    "plt.show()"
   ]
  },
  {
   "cell_type": "markdown",
   "metadata": {},
   "source": [
    "Наиболее перспективные платформы:\n",
    "- PS4;\n",
    "- XOne;\n",
    "- 3DC (2010 год появления);\n",
    "\n",
    "Количество продаж для всех платформ снижается, что соответсвует предположению о том, что мобильные приложения забрали часть аудитории игр."
   ]
  },
  {
   "cell_type": "code",
   "execution_count": 30,
   "metadata": {},
   "outputs": [
    {
     "data": {
      "image/png": "[encoded data removed]",
      "text/plain": [
       "<Figure size 1008x504 with 1 Axes>"
      ]
     },
     "metadata": {
      "needs_background": "light"
     },
     "output_type": "display_data"
    }
   ],
   "source": [
    "# Построение диаграммы ящик с усами\n",
    "plt.figure(figsize=(14, 7))\n",
    "sns.boxplot(x='platform', y='sales', data=data_actual, notch=False)\n",
    "\n",
    "\n",
    "plt.title('Распределение продаж по платформам')\n",
    "plt.xlabel('Платформа')\n",
    "plt.ylabel('Продажи')\n",
    "plt.ylim(0, 1.6)\n",
    "plt.show()"
   ]
  },
  {
   "cell_type": "markdown",
   "metadata": {},
   "source": [
    "По графику глобальных продаж по платформам в актуальный период с 2014 года самые высокие медианные продажи игр на платформах:\n",
    "- XOne;\n",
    "- PS4:\n",
    "- WiiU;\n",
    "- Wii.   \n",
    "\n",
    "Платформа PS4 была одним из лидеров и по результатам анализа вышележащего графика суммарных продаж игр по годам для последних 3 лет (2014-2016), поэтому рассмотрим влияние отзывов на ее примере."
   ]
  },
  {
   "cell_type": "markdown",
   "metadata": {},
   "source": [
    "#### Исследование влияния отзывов на продажи игр"
   ]
  },
  {
   "cell_type": "code",
   "execution_count": 31,
   "metadata": {},
   "outputs": [
    {
     "data": {
      "image/png": "[encoded data removed]",
      "text/plain": [
       "<Figure size 864x648 with 1 Axes>"
      ]
     },
     "metadata": {
      "needs_background": "light"
     },
     "output_type": "display_data"
    }
   ],
   "source": [
    "# Построим диаграмму рассеяния для оценки продаж в зависимости от оценок критиков или пользователей PS4.\n",
    "plt.figure(figsize=(12, 9))\n",
    "\n",
    "sns.scatterplot(data=data_actual[data_actual['platform'] == 'PS4'],\n",
    "                                 x = data_actual[data_actual['platform'] == 'PS4']['critic_score'] / 10,\n",
    "                                 y=\"sales\", color='blue', label='Оценка критиков', alpha=0.6)\n",
    "\n",
    "sns.scatterplot(data=data_actual[data_actual['platform'] == 'PS4'],\n",
    "                               x=\"user_score\", y=\"sales\", color='orange', label='Оценка пользователей', alpha=0.6)\n",
    "\n",
    "plt.title('Продажи игр для PS4 в зависимости от оценок критиков и оценок пользователей')\n",
    "plt.xlabel('Оценка')\n",
    "plt.ylabel('Продажи')\n",
    "plt.legend()\n",
    "plt.show()"
   ]
  },
  {
   "cell_type": "code",
   "execution_count": 32,
   "metadata": {},
   "outputs": [
    {
     "name": "stdout",
     "output_type": "stream",
     "text": [
      "Коэффициент корреляции между отзывами критиков и продажами для PS4: 0.40266141068104083;\n",
      "Коэффициент корреляции между отзывами пользователей и продажами: -0.040131589472697356\n"
     ]
    }
   ],
   "source": [
    "# Рассчитываем коэффициенты корреляции\n",
    "corr_critic = data_actual[data_actual['platform'] == 'PS4']['sales'].corr(data_actual[data_actual['platform'] == 'PS4']['critic_score'])\n",
    "corr_user = data_actual[data_actual['platform'] == 'PS4']['sales'].corr(data_actual[data_actual['platform'] == 'PS4']['user_score'])\n",
    "\n",
    "print(f\"Коэффициент корреляции между отзывами критиков и продажами для PS4: {corr_critic};\\nКоэффициент корреляции между отзывами пользователей и продажами: {corr_user}\")"
   ]
  },
  {
   "cell_type": "markdown",
   "metadata": {},
   "source": [
    "Существует прямая линейная связь между продажами и отзывами критиков на игры для PS4. Проверим для X360."
   ]
  },
  {
   "cell_type": "code",
   "execution_count": 33,
   "metadata": {},
   "outputs": [
    {
     "data": {
      "image/png": "[encoded data removed]",
      "text/plain": [
       "<Figure size 864x648 with 1 Axes>"
      ]
     },
     "metadata": {
      "needs_background": "light"
     },
     "output_type": "display_data"
    },
    {
     "name": "stdout",
     "output_type": "stream",
     "text": [
      "Коэффициент корреляции между отзывами критиков и продажами для X360: 0.5257228356581523;\n",
      "Коэффициент корреляции между отзывами пользователей и продажами: -0.138444570945665\n"
     ]
    }
   ],
   "source": [
    "# Построим диаграмму рассеяния для оценки продаж в зависимости от оценок критиков или пользователей X360.\n",
    "plt.figure(figsize=(12, 9))\n",
    "\n",
    "sns.scatterplot(data=data_actual[data_actual['platform'] == 'X360'],\n",
    "                                 x = data_actual[data_actual['platform'] == 'X360']['critic_score'] / 10,\n",
    "                                 y=\"sales\", color='blue', label='Оценка критиков', alpha=0.6)\n",
    "\n",
    "sns.scatterplot(data=data_actual[data_actual['platform'] == 'X360'],\n",
    "                               x=\"user_score\", y=\"sales\", color='orange', label='Оценка пользователей', alpha=0.6)\n",
    "\n",
    "plt.title('Продажи игр для X360 в зависимости от оценок критиков и оценок пользователей')\n",
    "plt.xlabel('Оценка')\n",
    "plt.ylabel('Продажи')\n",
    "plt.legend()\n",
    "plt.show()\n",
    "\n",
    "corr_critic = data_actual[data_actual['platform'] == 'X360']['sales'].corr(data_actual[data_actual['platform'] == 'X360']['critic_score'])\n",
    "corr_user = data_actual[data_actual['platform'] == 'X360']['sales'].corr(data_actual[data_actual['platform'] == 'X360']['user_score'])\n",
    "\n",
    "print(f\"Коэффициент корреляции между отзывами критиков и продажами для X360: {corr_critic};\\nКоэффициент корреляции между отзывами пользователей и продажами: {corr_user}\")"
   ]
  },
  {
   "cell_type": "markdown",
   "metadata": {},
   "source": [
    "Для другой популярной платформы также существует прямая линейная связь между продажами и оценками критиков - чем больше оценка критиков, тем больше продаж. Оценка пользователей практически не влияет на продажи. Соответственно, продаваться лучше должны игры с хорошими оценками критиков."
   ]
  },
  {
   "cell_type": "code",
   "execution_count": 34,
   "metadata": {},
   "outputs": [
    {
     "data": {
      "text/html": [
       "<div>\n",
       "<style scoped>\n",
       "    .dataframe tbody tr th:only-of-type {\n",
       "        vertical-align: middle;\n",
       "    }\n",
       "\n",
       "    .dataframe tbody tr th {\n",
       "        vertical-align: top;\n",
       "    }\n",
       "\n",
       "    .dataframe thead th {\n",
       "        text-align: right;\n",
       "    }\n",
       "</style>\n",
       "<table border=\"1\" class=\"dataframe\">\n",
       "  <thead>\n",
       "    <tr style=\"text-align: right;\">\n",
       "      <th></th>\n",
       "      <th>platform</th>\n",
       "      <th>critic_score</th>\n",
       "      <th>user_score</th>\n",
       "    </tr>\n",
       "  </thead>\n",
       "  <tbody>\n",
       "    <tr>\n",
       "      <th>0</th>\n",
       "      <td>3DS</td>\n",
       "      <td>0.314117</td>\n",
       "      <td>0.215193</td>\n",
       "    </tr>\n",
       "    <tr>\n",
       "      <th>1</th>\n",
       "      <td>PC</td>\n",
       "      <td>0.174634</td>\n",
       "      <td>-0.071597</td>\n",
       "    </tr>\n",
       "    <tr>\n",
       "      <th>2</th>\n",
       "      <td>PS3</td>\n",
       "      <td>0.446575</td>\n",
       "      <td>-0.166761</td>\n",
       "    </tr>\n",
       "    <tr>\n",
       "      <th>3</th>\n",
       "      <td>PS4</td>\n",
       "      <td>0.402661</td>\n",
       "      <td>-0.040132</td>\n",
       "    </tr>\n",
       "    <tr>\n",
       "      <th>5</th>\n",
       "      <td>PSV</td>\n",
       "      <td>0.042665</td>\n",
       "      <td>-0.168455</td>\n",
       "    </tr>\n",
       "    <tr>\n",
       "      <th>7</th>\n",
       "      <td>WiiU</td>\n",
       "      <td>0.370201</td>\n",
       "      <td>0.407926</td>\n",
       "    </tr>\n",
       "    <tr>\n",
       "      <th>8</th>\n",
       "      <td>X360</td>\n",
       "      <td>0.525723</td>\n",
       "      <td>-0.138445</td>\n",
       "    </tr>\n",
       "    <tr>\n",
       "      <th>9</th>\n",
       "      <td>XOne</td>\n",
       "      <td>0.428677</td>\n",
       "      <td>-0.070384</td>\n",
       "    </tr>\n",
       "  </tbody>\n",
       "</table>\n",
       "</div>"
      ],
      "text/plain": [
       "  platform  critic_score  user_score\n",
       "0      3DS      0.314117    0.215193\n",
       "1       PC      0.174634   -0.071597\n",
       "2      PS3      0.446575   -0.166761\n",
       "3      PS4      0.402661   -0.040132\n",
       "5      PSV      0.042665   -0.168455\n",
       "7     WiiU      0.370201    0.407926\n",
       "8     X360      0.525723   -0.138445\n",
       "9     XOne      0.428677   -0.070384"
      ]
     },
     "execution_count": 34,
     "metadata": {},
     "output_type": "execute_result"
    }
   ],
   "source": [
    "# Оценим корреляцию продаж с оценками для наиболее популярных платформ\n",
    "useful_columns = ['platform','sales', 'critic_score', 'user_score']\n",
    "corr_table = data_actual[useful_columns].groupby('platform').corr().reset_index()\n",
    "corr_table = corr_table[corr_table['level_1'] == 'sales']\n",
    "corr_table = corr_table[['platform', 'critic_score', 'user_score']].reset_index(drop=True).dropna()\n",
    "corr_table "
   ]
  },
  {
   "cell_type": "markdown",
   "metadata": {},
   "source": [
    "В целом, у всех наиболее популярных игр наблюдается прямая линейная связь между отзывами критиков и продажами: чем лучше оценки, тем больше продаж. Отзывы пользователей не оказывают такого эффекта.\n",
    "    "
   ]
  },
  {
   "cell_type": "markdown",
   "metadata": {},
   "source": [
    "#### Исследование популярности игр по жанрам"
   ]
  },
  {
   "cell_type": "code",
   "execution_count": 35,
   "metadata": {
    "scrolled": false
   },
   "outputs": [
    {
     "data": {
      "text/html": [
       "<div>\n",
       "<style scoped>\n",
       "    .dataframe tbody tr th:only-of-type {\n",
       "        vertical-align: middle;\n",
       "    }\n",
       "\n",
       "    .dataframe tbody tr th {\n",
       "        vertical-align: top;\n",
       "    }\n",
       "\n",
       "    .dataframe thead th {\n",
       "        text-align: right;\n",
       "    }\n",
       "</style>\n",
       "<table border=\"1\" class=\"dataframe\">\n",
       "  <thead>\n",
       "    <tr style=\"text-align: right;\">\n",
       "      <th></th>\n",
       "      <th>genre</th>\n",
       "      <th>sales</th>\n",
       "    </tr>\n",
       "  </thead>\n",
       "  <tbody>\n",
       "    <tr>\n",
       "      <th>8</th>\n",
       "      <td>Shooter</td>\n",
       "      <td>0.515</td>\n",
       "    </tr>\n",
       "    <tr>\n",
       "      <th>10</th>\n",
       "      <td>Sports</td>\n",
       "      <td>0.180</td>\n",
       "    </tr>\n",
       "    <tr>\n",
       "      <th>4</th>\n",
       "      <td>Platform</td>\n",
       "      <td>0.140</td>\n",
       "    </tr>\n",
       "    <tr>\n",
       "      <th>2</th>\n",
       "      <td>Fighting</td>\n",
       "      <td>0.125</td>\n",
       "    </tr>\n",
       "    <tr>\n",
       "      <th>7</th>\n",
       "      <td>Role-Playing</td>\n",
       "      <td>0.110</td>\n",
       "    </tr>\n",
       "    <tr>\n",
       "      <th>9</th>\n",
       "      <td>Simulation</td>\n",
       "      <td>0.100</td>\n",
       "    </tr>\n",
       "    <tr>\n",
       "      <th>0</th>\n",
       "      <td>Action</td>\n",
       "      <td>0.090</td>\n",
       "    </tr>\n",
       "    <tr>\n",
       "      <th>3</th>\n",
       "      <td>Misc</td>\n",
       "      <td>0.090</td>\n",
       "    </tr>\n",
       "    <tr>\n",
       "      <th>6</th>\n",
       "      <td>Racing</td>\n",
       "      <td>0.090</td>\n",
       "    </tr>\n",
       "    <tr>\n",
       "      <th>11</th>\n",
       "      <td>Strategy</td>\n",
       "      <td>0.060</td>\n",
       "    </tr>\n",
       "    <tr>\n",
       "      <th>5</th>\n",
       "      <td>Puzzle</td>\n",
       "      <td>0.045</td>\n",
       "    </tr>\n",
       "    <tr>\n",
       "      <th>1</th>\n",
       "      <td>Adventure</td>\n",
       "      <td>0.030</td>\n",
       "    </tr>\n",
       "  </tbody>\n",
       "</table>\n",
       "</div>"
      ],
      "text/plain": [
       "           genre  sales\n",
       "8        Shooter  0.515\n",
       "10        Sports  0.180\n",
       "4       Platform  0.140\n",
       "2       Fighting  0.125\n",
       "7   Role-Playing  0.110\n",
       "9     Simulation  0.100\n",
       "0         Action  0.090\n",
       "3           Misc  0.090\n",
       "6         Racing  0.090\n",
       "11      Strategy  0.060\n",
       "5         Puzzle  0.045\n",
       "1      Adventure  0.030"
      ]
     },
     "execution_count": 35,
     "metadata": {},
     "output_type": "execute_result"
    }
   ],
   "source": [
    "# Подсчет медианных продаж по жанрам\n",
    "genres_sales = data_actual.groupby('genre')['sales'].median().reset_index().sort_values(by='sales', ascending=False)\n",
    "genres_sales.columns = ['genre', 'sales']\n",
    "genres_sales"
   ]
  },
  {
   "cell_type": "code",
   "execution_count": 36,
   "metadata": {},
   "outputs": [
    {
     "data": {
      "image/png": "[encoded data removed]",
      "text/plain": [
       "<Figure size 1008x504 with 1 Axes>"
      ]
     },
     "metadata": {
      "needs_background": "light"
     },
     "output_type": "display_data"
    }
   ],
   "source": [
    "# Построим график распределения продаж игр по жанрам и количество игр по жанрам.\n",
    "plt.figure(figsize=(14, 7))\n",
    "\n",
    "plt.bar(genres_sales['genre'], genres_sales['sales'], color='orange', edgecolor='black', alpha=0.6, label='Продажи игр')\n",
    "\n",
    "plt.xlabel('Жанр')\n",
    "plt.ylabel('Продажи')\n",
    "plt.title('Распределение продаж игр по жанрам')\n",
    "plt.legend()\n",
    "plt.show()"
   ]
  },
  {
   "cell_type": "markdown",
   "metadata": {},
   "source": [
    "Больше всего медианные продажи у жанров:\n",
    "1. Shooter;\n",
    "2. Sports;\n",
    "3. Platform.\n",
    "\n",
    "Меньше всего проданных копий для игр:\n",
    "1. Pazzle;\n",
    "2. Adventure.\n",
    "\n",
    "Также заметно, что наиболее популярными являются динамические игры, в отличие от медленных игр на внимательность и логику.   \n",
    "Про прибыль игр достаточно сложно говорить с таким набором данных: самые популярные игры могут быть достаточно дорогими в производстве. Скорее всего, шутеры достаточно дорогие в производстве, спортивные игры тоже могут быть дорогими из-за франшизы и т.д.. Скорее всего, самыми прибыльными будут игры жанра Platform - они достаточно простые по графике и динамике. "
   ]
  },
  {
   "cell_type": "markdown",
   "metadata": {},
   "source": [
    "### Портрет пользователя каждого региона\n",
    "<a id='portret'></a>"
   ]
  },
  {
   "cell_type": "markdown",
   "metadata": {},
   "source": [
    "Определите для пользователя каждого региона (NA, EU, JP):\n",
    "Самые популярные платформы (топ-5). Опишите различия в долях продаж.\n",
    "Самые популярные жанры (топ-5). Поясните разницу.\n",
    "Влияет ли рейтинг ESRB на продажи в отдельном регионе?\n"
   ]
  },
  {
   "cell_type": "code",
   "execution_count": 37,
   "metadata": {},
   "outputs": [],
   "source": [
    "# Создадим функцию для построения графиков для различных параметров для сравнения регионов.\n",
    "def region_portrait(parameter, region):\n",
    "    # Группировка данных по платформам и сортировка по продажам в убывающем порядке\n",
    "    grouped = data_actual.groupby(parameter)[region].sum().sort_values(ascending=False).reset_index()\n",
    "    \n",
    "    # Выделяем топ-5 платформ\n",
    "    top_5 = grouped.head(5)\n",
    "    \n",
    "    # Объединяем остальные платформы в категорию \"Other\"\n",
    "    other_sales = grouped[region][5:].sum()\n",
    "    top_5 = top_5.append({parameter: 'Other', region: other_sales}, ignore_index=True)\n",
    "    \n",
    "    titles = {\n",
    "        'na_sales': 'Продажи в Северной Америке', \n",
    "        'eu_sales': 'Продажи в Европе', \n",
    "        'jp_sales': 'Продажи в Японии'\n",
    "    }\n",
    "    \n",
    "    colors = ['skyblue', 'limegreen', 'salmon', 'orchid', 'gold', 'gray']\n",
    "    \n",
    "    fig, ax = plt.subplots(figsize=(8, 8))\n",
    "    \n",
    "    # Проверяем, есть ли данные для графика\n",
    "    if not top_5.empty:\n",
    "        # Строим круговую диаграмму для конкретного региона\n",
    "        ax.pie(top_5[region], labels=top_5[parameter], colors=colors, autopct='%1.1f%%')\n",
    "        ax.set_title(titles[region])\n",
    "    else:\n",
    "        # Если данных нет, выводим сообщение\n",
    "        ax.set_title(f'Нет данных для {titles[region]}')\n",
    "        ax.axis('off') \n",
    "\n",
    "    plt.show()  "
   ]
  },
  {
   "cell_type": "code",
   "execution_count": 38,
   "metadata": {},
   "outputs": [
    {
     "data": {
      "image/png": "[encoded data removed]",
      "text/plain": [
       "<Figure size 576x576 with 1 Axes>"
      ]
     },
     "metadata": {},
     "output_type": "display_data"
    },
    {
     "data": {
      "image/png": "[encoded data removed]",
      "text/plain": [
       "<Figure size 576x576 with 1 Axes>"
      ]
     },
     "metadata": {},
     "output_type": "display_data"
    },
    {
     "data": {
      "image/png": "[encoded data removed]",
      "text/plain": [
       "<Figure size 576x576 with 1 Axes>"
      ]
     },
     "metadata": {},
     "output_type": "display_data"
    }
   ],
   "source": [
    "# Сравним популярность платформ для игр.\n",
    "region_portrait('platform', 'na_sales')\n",
    "region_portrait('platform', 'eu_sales')\n",
    "region_portrait('platform', 'jp_sales')"
   ]
  },
  {
   "cell_type": "markdown",
   "metadata": {},
   "source": [
    "Во всех регионах наиболее популярные платформы разные:\n",
    "- В Северной Америке наиболее  популярна PS4, на втором месте XOne;\n",
    "- В Европе - PS4, на втором месте XOne;\n",
    "- Япония сильнее отличается: самая популярная платформа - 3DS, PS4 на втором месте, XOne же не вошел в топ-5."
   ]
  },
  {
   "cell_type": "code",
   "execution_count": 39,
   "metadata": {},
   "outputs": [
    {
     "data": {
      "image/png": "[encoded data removed]",
      "text/plain": [
       "<Figure size 576x576 with 1 Axes>"
      ]
     },
     "metadata": {},
     "output_type": "display_data"
    },
    {
     "data": {
      "image/png": "[encoded data removed]",
      "text/plain": [
       "<Figure size 576x576 with 1 Axes>"
      ]
     },
     "metadata": {},
     "output_type": "display_data"
    },
    {
     "data": {
      "image/png": "[encoded data removed]",
      "text/plain": [
       "<Figure size 576x576 with 1 Axes>"
      ]
     },
     "metadata": {},
     "output_type": "display_data"
    }
   ],
   "source": [
    "# Сравним популярность жанров\n",
    "region_portrait('genre', 'na_sales')\n",
    "region_portrait('genre', 'eu_sales')\n",
    "region_portrait('genre', 'jp_sales')"
   ]
  },
  {
   "cell_type": "markdown",
   "metadata": {},
   "source": [
    "В Европе и Северной Америке популярны практически идентичные жанры с небольшими отличиями.\n",
    "В Европе:\n",
    "1. Shooter;\n",
    "2. Action;\n",
    "3. Sports;\n",
    "\n",
    "В Северной Америке:\n",
    "1. Action;\n",
    "2. Shooter;\n",
    "3. Sports;\n",
    "\n",
    "В Японии рынок отличается сильнее, самый популярный жанр - ролевые игры, затем распределение становится похожим на западные регионы. Однако в Японии не популярны Shooters, в отличие от западных стран."
   ]
  },
  {
   "cell_type": "code",
   "execution_count": 40,
   "metadata": {},
   "outputs": [
    {
     "data": {
      "image/png": "[encoded data removed]",
      "text/plain": [
       "<Figure size 576x576 with 1 Axes>"
      ]
     },
     "metadata": {},
     "output_type": "display_data"
    },
    {
     "data": {
      "image/png": "[encoded data removed]",
      "text/plain": [
       "<Figure size 576x576 with 1 Axes>"
      ]
     },
     "metadata": {},
     "output_type": "display_data"
    },
    {
     "data": {
      "image/png": "[encoded data removed]",
      "text/plain": [
       "<Figure size 576x576 with 1 Axes>"
      ]
     },
     "metadata": {},
     "output_type": "display_data"
    }
   ],
   "source": [
    "# Сравним популярность жанров\n",
    "region_portrait('rating', 'na_sales')\n",
    "region_portrait('rating', 'eu_sales')\n",
    "region_portrait('rating', 'jp_sales')"
   ]
  },
  {
   "cell_type": "markdown",
   "metadata": {},
   "source": [
    "ESRB рейтинг:\n",
    "- E - everyone;\n",
    "- EC - early childhood (3+);\n",
    "- E10+ - everyone (10+);\n",
    "- T - teens (13+);\n",
    "- M - mature (17+);\n",
    "- A - adults only (18+)  \n",
    "- Значением -1 заполнялись пропуски данных. \n",
    "\n",
    "В Европе и Северной Америке популярны игры категории Mature 17+, а в Японии больше продаж в категории Everyone без возрастных ограничений. Далее в западных регионах популярны игры дальше игры для подростков T 13+.\n",
    "Можно предположить, что в западных регионах популярнее более брутальные игры, а в Японии игры больше любят игры, подходящие для детей и подростков. Также можно предположить, что организация ESRB не оценивала игры, выпущенные не в Европе и в Северной Америке, поэтому в Японии так много пропусков рейтинга."
   ]
  },
  {
   "cell_type": "markdown",
   "metadata": {},
   "source": [
    "Портрет пользователя региона:  \n",
    "  - ***В Северной Америке*** популярна платформа PS4, на втором месте XOne; популярные жанры игр - экшн, шутеры и спортивные игры, рейтинг игр Mature 17+. Учитывая, что платформа XOne популярна на 2016 год, следовательно, в будущем популярность именно модели XOne будет только расти.\n",
    "  - ***В Европе*** пользователи предпочитают PS4 платформе XOne, популярные жанры игр такие же, как и в Северной Америке - шутеры, экшн, спорт. Рейтинг игр также 17+. На Западе любят более брутальные игры.\n",
    "  - Пользователь из ***Японии*** несколько отличается от других: самая популярная платформа - 3DC, на втором месте PS4. Популярные жанры: ролевые игры, экшн и смешанные жанры. Самый популярный рейтинг - игры для подростков T 13+ - в Японии любят игры без жестокости, подходящие для детей и подростков, но сложно говорить однозначно из-за высокой доли отсутсвующих значений. Возможно, в Японии пользователи в целом моложе, чем в Европе и Северной Америке. Популярная платформа 3DC скорее всего, сохранит свою популярность в 2017 году, если не выйдет еще новая версия."
   ]
  },
  {
   "cell_type": "markdown",
   "metadata": {},
   "source": [
    "### Проверка гипотез\n",
    "<a id='hypothesis'></a>"
   ]
  },
  {
   "cell_type": "markdown",
   "metadata": {},
   "source": [
    "#### Проверка гипотезы: средние пользовательские рейтинги платформ Xbox One и PC одинаковые"
   ]
  },
  {
   "cell_type": "markdown",
   "metadata": {},
   "source": [
    "Нулевая гипотеза: средние пользовательские рейтинги платформ Xbox One и PC одинаковые.   \n",
    "Альтернативная гипотеза: средний пользовательский рейтинг платформы PC выше, чем у Xbox One.   \n",
    "Уровень значимости выбран равным 0.05, как стандартное значение для статистических исследований."
   ]
  },
  {
   "cell_type": "code",
   "execution_count": 41,
   "metadata": {
    "scrolled": true
   },
   "outputs": [
    {
     "name": "stdout",
     "output_type": "stream",
     "text": [
      "Не отвергаем нулевую гипотезу. \n",
      "Но есть 12% шанс, что рейтинг PC не равен Xbox One.\n"
     ]
    }
   ],
   "source": [
    "pc_rating = data_actual.query('platform ==\"PC\"')['user_score']\n",
    "xbox_one_rating = data_actual.query('platform ==\"XOne\"')['user_score']\n",
    "\n",
    "# Проверим нулевую гипотезу.\n",
    "alpha = 0.05 # уровень статистической значимости - вероятность отвергнуть гипотезу, когда она верна\n",
    "# если p-value окажется меньше него, отвергнем гипотезу\n",
    "\n",
    "results = st.ttest_ind(pc_rating,\n",
    "                       xbox_one_rating,\n",
    "                       nan_policy='omit',\n",
    "                       equal_var=False)\n",
    "\n",
    "\n",
    "if results.pvalue < alpha:\n",
    "    print(f'Отвергаем нулевую гипотезу.\\nПользовательские рейтинги платформы PC не равны рейтингам Xbox One.\\nВероятность получить равные рейтинги равна {results.pvalue}.')\n",
    "else:\n",
    "    print(f'Не отвергаем нулевую гипотезу. \\nНо есть {round(results.pvalue * 100)}% шанс, что рейтинг PC не равен Xbox One.') "
   ]
  },
  {
   "cell_type": "markdown",
   "metadata": {},
   "source": [
    "#### Проверка гипотезы: средние пользовательские рейтинги жанров Action (англ. «действие», экшен-игры) и Sports (англ. «спортивные соревнования») разные."
   ]
  },
  {
   "cell_type": "markdown",
   "metadata": {},
   "source": [
    "Нулевая гипотеза: средние пользовательские рейтинги жанров Action и Sports одинаковые.   \n",
    "Альтернативная гипотеза: средние пользовательские рейтинги жанров Action и Sports разные."
   ]
  },
  {
   "cell_type": "code",
   "execution_count": 42,
   "metadata": {
    "scrolled": true
   },
   "outputs": [
    {
     "name": "stdout",
     "output_type": "stream",
     "text": [
      "Отвергаем нулевую гипотезу.\n",
      "Средние пользовательские рейтинги жанров Action и Sports разные.\n"
     ]
    }
   ],
   "source": [
    "action_rating = data_actual.query('genre ==\"Action\"')['user_score']\n",
    "sports_rating = data_actual.query('genre ==\"Sports\"')['user_score']\n",
    "\n",
    "# Проверим нулевую гипотезу.\n",
    "alpha = 0.05 # уровень статистической значимости - вероятность отвергнуть гипотезу, когда она верна\n",
    "# если p-value окажется меньше него, отвергнем гипотезу\n",
    "\n",
    "results = st.ttest_ind(action_rating,\n",
    "                       sports_rating,\n",
    "                       nan_policy='omit',\n",
    "                       equal_var=False)\n",
    "\n",
    "if results.pvalue < alpha:\n",
    "    print('Отвергаем нулевую гипотезу.\\nСредние пользовательские рейтинги жанров Action и Sports разные.')\n",
    "else:\n",
    "    print(f'Не отвергаем нулевую гипотезу. \\nВероятность получить равные рейтинги Action и Sports случайно при верной нулевой гипотезе: {round(results.pvalue * 100, 2)} %.') "
   ]
  },
  {
   "cell_type": "markdown",
   "metadata": {},
   "source": [
    "Попробуем сравнить: какой жанр получает оценки пользователей выше."
   ]
  },
  {
   "cell_type": "code",
   "execution_count": 43,
   "metadata": {},
   "outputs": [
    {
     "name": "stdout",
     "output_type": "stream",
     "text": [
      "Отвергаем нулевую гипотезу.\n",
      "Средние пользовательские рейтинги жанра Action выше рейтингов Sports.\n"
     ]
    }
   ],
   "source": [
    "results = st.ttest_ind(action_rating,\n",
    "                       sports_rating,\n",
    "                       alternative='greater',\n",
    "                       nan_policy='omit',\n",
    "                       equal_var=False)\n",
    "\n",
    "if results.pvalue < alpha:\n",
    "    print('Отвергаем нулевую гипотезу.\\nСредние пользовательские рейтинги жанра Action выше рейтингов Sports.')\n",
    "else:\n",
    "    print(f'Не отвергаем нулевую гипотезу. \\nВероятность получить равные рейтинги Action и Sports случайно при верной нулевой гипотезе: {round(results.pvalue * 100, 2)} %.') "
   ]
  },
  {
   "cell_type": "markdown",
   "metadata": {},
   "source": [
    "### Общий вывод\n",
    "<a id='conclusion'></a>"
   ]
  },
  {
   "cell_type": "markdown",
   "metadata": {},
   "source": [
    "***При выполнении проекта получены следующие результаты***:\n",
    "1. Данные о продажах игр из открытых источников загружены. Данные представлены с 1980 года по 2016 включительно. [Подробнее](#load)   \n",
    "\n",
    "\n",
    "2. В результате предобработки данных устранены пропуски в и дубликаты.   \n",
    "\n",
    "В результате предобработки данных устранены пропуски в названиях игр, годах выпуска. Пропуски оценок критиков и пользователей заменить не удалось, так как недостаточно данных для замены без искажений. Пропуски в рейтинге заменены на значение -1. Значения tbd - to be determined заменили на отсутствующие значения для преобразования типа данных в численных для дальнейщих расчетов. Также изменен тип данных года выпуска. Проверено отсутствие дубликатов - найден и устранен 1 дубликат. [Подробнее](#process)   \n",
    "\n",
    "\n",
    "***3. Проведен исследовательский анализ данных***. [Подробнее](#analysis)   \n",
    "\n",
    "   ***1) Анализ выпуска игр в разные годы***. \n",
    "   \n",
    "   Видно, что значительный рост выпущенных игр начался с 1991 года. Скорее всего, платформы, игры для которых выпускали до 2000 года устарели и вряд ли игры купят обычные покупатели, только коллекционеры.\n",
    "\n",
    "Можно наблюдать несколько пиков - годов, в которые выпущено большое количество игр. Это может быть связано с появлением новых технологий или платформ, которые интересны и доступны пользователям.\n",
    "\n",
    "Наблюдаются пики в 1998-1999, 2002, 2008-2009 и 2015-2016 годах. Больше всего игр выпущено в 2008-2009 году. После пика 2009 года производство новых игр идет на спад, предположительно, из-за того, что появилась альтернатива играм на ПК и приставках - мобильные приложения.\n",
    "   \n",
    "   ***2) Анализ изменения продаж по платформам и жизненный цикл игровых платформ***.    \n",
    "   \n",
    "   Больше всего игр выпущено на Sony PlayStation 2, затем по количеству игр идет DS, PS3, есть и совсем не популярные платформы, для которых игр выпущено меньше 200 за все время (PCFX, GG). Скорее всего, это очень старые платформы, и данные по продаже могли не учитываться.     \n",
    "   \n",
    "   Достаточно стабильно продавались игры для PC, скорее всего, по причине того, что игры сохраняли возможность воспроизведения на персональных компьютерах даже с обновлением техники, чего нельзя сказать о играх, выпущенных на приставках.   \n",
    "   \n",
    "   Приставки устаревают, и игры, выпущенные для конкретных моделей, продаются все меньше. Так, например, очевидно, что в 2004 году игры для PS перестали продаваться, так как появились игры для PS3, причем игры на PS2 появились в 1999, но, видимо, не достаточно отличались от игр на PS для того, чтобы резко сократить производство игр для прошлой версии платформы.  \n",
    "   \n",
    "   К 2016 году почти у всех популярных платформ наблюдается спад продаж. Скорее всего, платформы устаревают из-за появления новых или внедрения новых технологий - например, мобильных приложений. Средняя продолжительность жизни популярных игровых платформ составляет 7 лет.   \n",
    "   \n",
    "   ***3) Определение актуального периода исследования и наиболее популярных платформ***.   \n",
    "   \n",
    "   Актуальным периодом для исследований возьмем данные с 2014 года, когда все основные популярные платформы уже были выпущены, при этом их жизненный цикл не завершится к 2017 году.\n",
    "   Наиболее перспективные платформы, показавшие рост продаж в актуальном периоде:\n",
    "   - PS4;\n",
    "   - XOne;\n",
    "   - 3DC;   \n",
    "   \n",
    "При этом количество продаж для всех платформ в целом снижается, что соответсвует предположению о том, что мобильные приложения забрали часть аудитории игр.   \n",
    "   \n",
    "По графику глобальных продаж по платформам в актуальный период с 2014 года самые высокие медианные продажи игр на платформах:\n",
    "\n",
    "    - XOne;\n",
    "    - PS4:\n",
    "    - WiiU;\n",
    "    - Wii.   \n",
    "    \n",
    "   В целом, у всех наиболее популярных игр наблюдается прямая линейная связь между отзывами критиков и продажами: чем лучше оценки, тем больше продаж. Отзывы пользователей не оказывают такого эффекта на продажи.       \n",
    "   \n",
    "\n",
    "\n",
    "   ***4)Исследование популярности игр по жанрам***.   \n",
    "   \n",
    "    Больше всего медианные продажи у жанров:\n",
    "   - Sports;\n",
    "   - Sports;\n",
    "   - Platform.   \n",
    "   \n",
    "Меньше всего проданных копий для игр:\n",
    "\n",
    "   - Pazzle;\n",
    "   - Adventure.  \n",
    "   \n",
    "   Поэтому \"Стримчик\" должен ориентироваться на оценки критиков для закупок игр и планирования рекламных компаний на 2017 год. Наибольшей популярностью будут пользоваться игры на PS4, XOne, 3DC. Самые продающиеся жанры игр - шутеры, спортивные игры и платформенные игры.\n",
    "   \n",
    "***4. Составлен портрет пользователя каждого региона.***[Подробнее](#portret)\n",
    "\n",
    "  - ***В Северной Америке*** популярна платформа PS4, на втором месте XOne; популярные жанры игр - экшн, шутеры и спортивные игры, рейтинг игр Mature 17+. Учитывая, что платформа XOne популярна на 2016 год, следовательно, в будущем популярность именно модели XOne будет только расти.\n",
    "  - ***В Европе*** пользователи предпочитают PS4 платформе XOne, популярные жанры игр такие же, как и в Северной Америке - шутеры, экшн, спорт. Рейтинг игр также 17+. На Западе любят более брутальные игры.\n",
    "  - Пользователь из ***Японии*** несколько отличается от других: самая популярная платформа - 3DC, на втором месте PS4. Популярные жанры: ролевые игры, экшн и смешанные жанры. Самый популярный рейтинг - игры для подростков T 13+ - в Японии любят игры без жестокости, подходящие для детей и подростков, но сложно говорить однозначно из-за высокой доли отсутствующих значений. Возможно, в Японии пользователи в целом моложе, чем в Европе и Северной Америке. Популярная платформа 3DC скорее всего, сохранит свою популярность в 2017 году, если не выйдет еще новая версия.\n",
    "   \n",
    "\n",
    "***5. Проведена проверка гипотез***. [Подробнее](#hypothesis)\n",
    "\n",
    "   ***1) Проверка гипотезы: средние пользовательские рейтинги платформ Xbox One и PC одинаковые***.    \n",
    "   \n",
    "   _Нулевая гипотеза_: средние пользовательские рейтинги платформ Xbox One и PC одинаковые.   \n",
    "   _Альтернативная гипотеза_: средний пользовательский рейтинг платформы PC отличается от рейтинга Xbox One.    \n",
    "   _Уровень значимости_ выбран равным 0.05, как стандартное значение для статистических исследований.      \n",
    "   \n",
    "   В результате проверки с t-тестом для двух независимых выборок не отвергаем нулевую гипотезу. \n",
    "Но есть 12% шанс, что рейтинг PC не равен Xbox One.\n",
    "\n",
    "   \n",
    "   ***2) Проверка гипотезы: средние пользовательские рейтинги жанров Action (англ. «действие», экшен-игры) и Sports (англ. «спортивные соревнования») разные***.   \n",
    "   \n",
    "   _Нулевая гипотеза_: средние пользовательские рейтинги жанров Action и Sports одинаковые.    \n",
    "   _Альтернативная гипотеза_: средние пользовательские рейтинги жанров Action и Sports разные.\n",
    "   \n",
    "   В результате проверки гипотезы с t-тестом для двух независимых выборок отвергаем нулевую гипотезу.\n",
    "Средние пользовательские рейтинги жанров Action и Sports разные. При дальнейшей проверке односторонней гипотезы рейтинги жанра экшн выше спортивных игр. \n",
    "   \n",
    "\n",
    "Таким образом, проведено исследование рынка игр для магазина \"Стримчик\", выявлены перспективные на 2017 год платформы и жанры игр. \"Стримчик\" должен ориентироваться на игры с высокими оценками критиков. Наибольшей популярностью будут пользоваться игры на платформах PS4, XOne, 3DC, как основных представителей трех крупных рынков. Самые продающиеся жанры игр - экшн, шутеры и спортивные игры. Рынки Европы и Северной Америки очень похожи, в отличие от рынка Японии, где популярны более спокойные игры - ролевые."
   ]
  }
 ],
 "metadata": {
  "ExecuteTimeLog": [
   {
    "duration": 44,
    "start_time": "2024-08-07T08:39:04.778Z"
   },
   {
    "duration": 393,
    "start_time": "2024-08-07T08:39:07.751Z"
   },
   {
    "duration": 767,
    "start_time": "2024-08-07T08:39:20.868Z"
   },
   {
    "duration": 212,
    "start_time": "2024-08-07T08:39:22.943Z"
   },
   {
    "duration": 67,
    "start_time": "2024-08-07T08:39:29.240Z"
   },
   {
    "duration": 14,
    "start_time": "2024-08-07T08:39:36.207Z"
   },
   {
    "duration": 3,
    "start_time": "2024-08-07T08:49:54.257Z"
   },
   {
    "duration": 44,
    "start_time": "2024-08-07T08:52:33.763Z"
   },
   {
    "duration": 8,
    "start_time": "2024-08-07T08:52:46.763Z"
   },
   {
    "duration": 3,
    "start_time": "2024-08-07T09:13:14.442Z"
   },
   {
    "duration": 15,
    "start_time": "2024-08-07T09:13:19.346Z"
   },
   {
    "duration": 80,
    "start_time": "2024-08-07T09:14:23.121Z"
   },
   {
    "duration": 12,
    "start_time": "2024-08-07T09:14:31.486Z"
   },
   {
    "duration": 5,
    "start_time": "2024-08-07T09:14:36.826Z"
   },
   {
    "duration": 14,
    "start_time": "2024-08-07T09:14:52.176Z"
   },
   {
    "duration": 6,
    "start_time": "2024-08-07T09:20:24.335Z"
   },
   {
    "duration": 6,
    "start_time": "2024-08-07T09:20:31.244Z"
   },
   {
    "duration": 7,
    "start_time": "2024-08-07T09:21:16.830Z"
   },
   {
    "duration": 6,
    "start_time": "2024-08-07T09:21:18.849Z"
   },
   {
    "duration": 7,
    "start_time": "2024-08-07T09:21:26.465Z"
   },
   {
    "duration": 7,
    "start_time": "2024-08-07T09:21:28.908Z"
   },
   {
    "duration": 14,
    "start_time": "2024-08-07T09:21:54.109Z"
   },
   {
    "duration": 11,
    "start_time": "2024-08-07T09:22:15.171Z"
   },
   {
    "duration": 12,
    "start_time": "2024-08-07T09:24:21.301Z"
   },
   {
    "duration": 18,
    "start_time": "2024-08-07T09:25:13.362Z"
   },
   {
    "duration": 16,
    "start_time": "2024-08-07T09:26:37.566Z"
   },
   {
    "duration": 9,
    "start_time": "2024-08-07T09:36:36.245Z"
   },
   {
    "duration": 18,
    "start_time": "2024-08-07T09:36:46.068Z"
   },
   {
    "duration": 8,
    "start_time": "2024-08-07T09:36:54.578Z"
   },
   {
    "duration": 17,
    "start_time": "2024-08-07T09:37:09.547Z"
   },
   {
    "duration": 2865,
    "start_time": "2024-08-07T09:40:45.422Z"
   },
   {
    "duration": 2777,
    "start_time": "2024-08-07T09:40:54.784Z"
   },
   {
    "duration": 2827,
    "start_time": "2024-08-07T09:40:58.385Z"
   },
   {
    "duration": 9,
    "start_time": "2024-08-07T09:42:06.780Z"
   },
   {
    "duration": 13,
    "start_time": "2024-08-07T09:42:16.494Z"
   },
   {
    "duration": 13,
    "start_time": "2024-08-07T09:43:00.507Z"
   },
   {
    "duration": 4,
    "start_time": "2024-08-07T09:44:59.115Z"
   },
   {
    "duration": 2,
    "start_time": "2024-08-07T09:45:08.004Z"
   },
   {
    "duration": 76,
    "start_time": "2024-08-07T09:45:08.008Z"
   },
   {
    "duration": 13,
    "start_time": "2024-08-07T09:45:08.086Z"
   },
   {
    "duration": 13,
    "start_time": "2024-08-07T09:45:08.101Z"
   },
   {
    "duration": 14,
    "start_time": "2024-08-07T09:45:08.116Z"
   },
   {
    "duration": 11,
    "start_time": "2024-08-07T09:45:08.131Z"
   },
   {
    "duration": 43,
    "start_time": "2024-08-07T09:45:08.144Z"
   },
   {
    "duration": 5,
    "start_time": "2024-08-07T09:45:08.188Z"
   },
   {
    "duration": 49,
    "start_time": "2024-08-07T09:45:38.689Z"
   },
   {
    "duration": 62,
    "start_time": "2024-08-07T09:45:43.361Z"
   },
   {
    "duration": 52,
    "start_time": "2024-08-07T09:46:06.615Z"
   },
   {
    "duration": 43,
    "start_time": "2024-08-07T09:46:09.551Z"
   },
   {
    "duration": 44,
    "start_time": "2024-08-07T09:46:28.667Z"
   },
   {
    "duration": 51,
    "start_time": "2024-08-07T09:47:17.708Z"
   },
   {
    "duration": 4,
    "start_time": "2024-08-07T09:47:22.627Z"
   },
   {
    "duration": 2978,
    "start_time": "2024-08-07T09:47:27.559Z"
   },
   {
    "duration": 3,
    "start_time": "2024-08-07T09:47:32.907Z"
   },
   {
    "duration": 3,
    "start_time": "2024-08-07T09:47:41.514Z"
   },
   {
    "duration": 4,
    "start_time": "2024-08-07T09:47:47.812Z"
   },
   {
    "duration": 63,
    "start_time": "2024-08-07T09:49:21.822Z"
   },
   {
    "duration": 9,
    "start_time": "2024-08-07T09:49:28.318Z"
   },
   {
    "duration": 9,
    "start_time": "2024-08-07T09:49:36.438Z"
   },
   {
    "duration": 3123,
    "start_time": "2024-08-07T09:50:04.118Z"
   },
   {
    "duration": 888,
    "start_time": "2024-08-07T09:50:29.212Z"
   },
   {
    "duration": 9,
    "start_time": "2024-08-07T09:51:47.874Z"
   },
   {
    "duration": 2,
    "start_time": "2024-08-07T09:52:16.559Z"
   },
   {
    "duration": 7,
    "start_time": "2024-08-07T09:53:04.281Z"
   },
   {
    "duration": 26,
    "start_time": "2024-08-07T09:54:48.366Z"
   },
   {
    "duration": 21,
    "start_time": "2024-08-07T09:57:09.639Z"
   },
   {
    "duration": 2391,
    "start_time": "2024-08-07T10:00:56.464Z"
   },
   {
    "duration": 64,
    "start_time": "2024-08-07T10:00:58.857Z"
   },
   {
    "duration": 14,
    "start_time": "2024-08-07T10:00:58.922Z"
   },
   {
    "duration": 878,
    "start_time": "2024-08-07T10:00:58.938Z"
   },
   {
    "duration": 12,
    "start_time": "2024-08-07T10:00:59.818Z"
   },
   {
    "duration": 5,
    "start_time": "2024-08-07T10:00:59.832Z"
   },
   {
    "duration": 21,
    "start_time": "2024-08-07T10:00:59.838Z"
   },
   {
    "duration": 26,
    "start_time": "2024-08-07T10:00:59.860Z"
   },
   {
    "duration": 43,
    "start_time": "2024-08-07T10:00:59.887Z"
   },
   {
    "duration": 2730,
    "start_time": "2024-08-07T10:00:59.931Z"
   },
   {
    "duration": 3,
    "start_time": "2024-08-07T10:01:02.663Z"
   },
   {
    "duration": 61,
    "start_time": "2024-08-07T10:01:02.668Z"
   },
   {
    "duration": 2,
    "start_time": "2024-08-07T10:01:02.730Z"
   },
   {
    "duration": 14,
    "start_time": "2024-08-07T10:02:01.071Z"
   },
   {
    "duration": 11,
    "start_time": "2024-08-07T11:00:30.190Z"
   },
   {
    "duration": 3,
    "start_time": "2024-08-07T11:01:03.720Z"
   },
   {
    "duration": 4,
    "start_time": "2024-08-07T11:01:11.465Z"
   },
   {
    "duration": 11,
    "start_time": "2024-08-07T11:01:56.383Z"
   },
   {
    "duration": 6,
    "start_time": "2024-08-07T11:03:55.381Z"
   },
   {
    "duration": 15,
    "start_time": "2024-08-07T11:04:07.578Z"
   },
   {
    "duration": 53,
    "start_time": "2024-08-07T11:05:08.072Z"
   },
   {
    "duration": 12,
    "start_time": "2024-08-07T11:05:10.772Z"
   },
   {
    "duration": 649,
    "start_time": "2024-08-07T11:08:38.145Z"
   },
   {
    "duration": 5,
    "start_time": "2024-08-07T11:13:30.975Z"
   },
   {
    "duration": 11,
    "start_time": "2024-08-07T11:16:02.560Z"
   },
   {
    "duration": 8,
    "start_time": "2024-08-07T11:16:05.752Z"
   },
   {
    "duration": 6,
    "start_time": "2024-08-07T11:16:08.522Z"
   },
   {
    "duration": 7,
    "start_time": "2024-08-07T11:16:53.147Z"
   },
   {
    "duration": 13,
    "start_time": "2024-08-07T11:17:48.646Z"
   },
   {
    "duration": 7,
    "start_time": "2024-08-07T11:25:06.063Z"
   },
   {
    "duration": 6,
    "start_time": "2024-08-07T11:25:48.258Z"
   },
   {
    "duration": 4,
    "start_time": "2024-08-07T11:38:59.201Z"
   },
   {
    "duration": 4,
    "start_time": "2024-08-07T11:39:12.193Z"
   },
   {
    "duration": 5,
    "start_time": "2024-08-07T11:39:25.747Z"
   },
   {
    "duration": 4,
    "start_time": "2024-08-07T11:41:02.731Z"
   },
   {
    "duration": 2286,
    "start_time": "2024-08-07T11:41:07.144Z"
   },
   {
    "duration": 67,
    "start_time": "2024-08-07T11:41:09.432Z"
   },
   {
    "duration": 14,
    "start_time": "2024-08-07T11:41:09.501Z"
   },
   {
    "duration": 913,
    "start_time": "2024-08-07T11:41:09.517Z"
   },
   {
    "duration": 13,
    "start_time": "2024-08-07T11:41:10.432Z"
   },
   {
    "duration": 7,
    "start_time": "2024-08-07T11:41:10.447Z"
   },
   {
    "duration": 28,
    "start_time": "2024-08-07T11:41:10.455Z"
   },
   {
    "duration": 10,
    "start_time": "2024-08-07T11:41:10.484Z"
   },
   {
    "duration": 19,
    "start_time": "2024-08-07T11:41:10.495Z"
   },
   {
    "duration": 2786,
    "start_time": "2024-08-07T11:41:10.515Z"
   },
   {
    "duration": 5,
    "start_time": "2024-08-07T11:41:13.302Z"
   },
   {
    "duration": 8,
    "start_time": "2024-08-07T11:41:13.309Z"
   },
   {
    "duration": 14,
    "start_time": "2024-08-07T11:41:13.318Z"
   },
   {
    "duration": 6,
    "start_time": "2024-08-07T11:41:13.335Z"
   },
   {
    "duration": 41,
    "start_time": "2024-08-07T11:41:13.342Z"
   },
   {
    "duration": 21,
    "start_time": "2024-08-07T11:41:13.384Z"
   },
   {
    "duration": 52,
    "start_time": "2024-08-07T11:41:13.406Z"
   },
   {
    "duration": 5,
    "start_time": "2024-08-07T11:41:13.459Z"
   },
   {
    "duration": 652,
    "start_time": "2024-08-07T11:41:13.465Z"
   },
   {
    "duration": 687,
    "start_time": "2024-08-07T11:41:24.312Z"
   },
   {
    "duration": 6,
    "start_time": "2024-08-07T11:43:31.886Z"
   },
   {
    "duration": 2347,
    "start_time": "2024-08-07T11:43:38.518Z"
   },
   {
    "duration": 66,
    "start_time": "2024-08-07T11:43:40.867Z"
   },
   {
    "duration": 14,
    "start_time": "2024-08-07T11:43:40.934Z"
   },
   {
    "duration": 852,
    "start_time": "2024-08-07T11:43:40.950Z"
   },
   {
    "duration": 15,
    "start_time": "2024-08-07T11:43:41.804Z"
   },
   {
    "duration": 6,
    "start_time": "2024-08-07T11:43:41.821Z"
   },
   {
    "duration": 15,
    "start_time": "2024-08-07T11:43:41.829Z"
   },
   {
    "duration": 42,
    "start_time": "2024-08-07T11:43:41.845Z"
   },
   {
    "duration": 19,
    "start_time": "2024-08-07T11:43:41.889Z"
   },
   {
    "duration": 2864,
    "start_time": "2024-08-07T11:43:41.911Z"
   },
   {
    "duration": 9,
    "start_time": "2024-08-07T11:43:44.776Z"
   },
   {
    "duration": 40,
    "start_time": "2024-08-07T11:43:44.786Z"
   },
   {
    "duration": 16,
    "start_time": "2024-08-07T11:43:44.828Z"
   },
   {
    "duration": 6,
    "start_time": "2024-08-07T11:43:44.845Z"
   },
   {
    "duration": 11,
    "start_time": "2024-08-07T11:43:44.852Z"
   },
   {
    "duration": 20,
    "start_time": "2024-08-07T11:43:44.864Z"
   },
   {
    "duration": 16,
    "start_time": "2024-08-07T11:43:44.885Z"
   },
   {
    "duration": 4,
    "start_time": "2024-08-07T11:43:44.902Z"
   },
   {
    "duration": 686,
    "start_time": "2024-08-07T11:43:44.908Z"
   },
   {
    "duration": 12,
    "start_time": "2024-08-07T11:45:23.958Z"
   },
   {
    "duration": 6,
    "start_time": "2024-08-07T11:46:17.813Z"
   },
   {
    "duration": 4,
    "start_time": "2024-08-07T11:48:27.089Z"
   },
   {
    "duration": 14,
    "start_time": "2024-08-07T11:49:08.224Z"
   },
   {
    "duration": 3,
    "start_time": "2024-08-07T11:49:32.103Z"
   },
   {
    "duration": 708,
    "start_time": "2024-08-07T11:49:41.714Z"
   },
   {
    "duration": 15,
    "start_time": "2024-08-07T11:50:11.527Z"
   },
   {
    "duration": 4,
    "start_time": "2024-08-07T12:23:18.094Z"
   },
   {
    "duration": 2247,
    "start_time": "2024-08-07T12:23:21.867Z"
   },
   {
    "duration": 66,
    "start_time": "2024-08-07T12:23:24.116Z"
   },
   {
    "duration": 13,
    "start_time": "2024-08-07T12:23:24.184Z"
   },
   {
    "duration": 893,
    "start_time": "2024-08-07T12:23:24.199Z"
   },
   {
    "duration": 13,
    "start_time": "2024-08-07T12:23:25.095Z"
   },
   {
    "duration": 28,
    "start_time": "2024-08-07T12:23:25.109Z"
   },
   {
    "duration": 0,
    "start_time": "2024-08-07T12:23:25.139Z"
   },
   {
    "duration": 0,
    "start_time": "2024-08-07T12:23:25.140Z"
   },
   {
    "duration": 0,
    "start_time": "2024-08-07T12:23:25.141Z"
   },
   {
    "duration": 0,
    "start_time": "2024-08-07T12:23:25.143Z"
   },
   {
    "duration": 0,
    "start_time": "2024-08-07T12:23:25.144Z"
   },
   {
    "duration": 0,
    "start_time": "2024-08-07T12:23:25.145Z"
   },
   {
    "duration": 0,
    "start_time": "2024-08-07T12:23:25.146Z"
   },
   {
    "duration": 0,
    "start_time": "2024-08-07T12:23:25.147Z"
   },
   {
    "duration": 0,
    "start_time": "2024-08-07T12:23:25.148Z"
   },
   {
    "duration": 0,
    "start_time": "2024-08-07T12:23:25.149Z"
   },
   {
    "duration": 0,
    "start_time": "2024-08-07T12:23:25.150Z"
   },
   {
    "duration": 0,
    "start_time": "2024-08-07T12:23:25.151Z"
   },
   {
    "duration": 0,
    "start_time": "2024-08-07T12:23:25.152Z"
   },
   {
    "duration": 0,
    "start_time": "2024-08-07T12:23:25.153Z"
   },
   {
    "duration": 0,
    "start_time": "2024-08-07T12:23:25.154Z"
   },
   {
    "duration": 2235,
    "start_time": "2024-08-07T12:24:18.027Z"
   },
   {
    "duration": 64,
    "start_time": "2024-08-07T12:24:20.265Z"
   },
   {
    "duration": 15,
    "start_time": "2024-08-07T12:24:20.330Z"
   },
   {
    "duration": 855,
    "start_time": "2024-08-07T12:24:20.347Z"
   },
   {
    "duration": 13,
    "start_time": "2024-08-07T12:24:21.204Z"
   },
   {
    "duration": 15,
    "start_time": "2024-08-07T12:24:21.218Z"
   },
   {
    "duration": 21,
    "start_time": "2024-08-07T12:24:21.235Z"
   },
   {
    "duration": 25,
    "start_time": "2024-08-07T12:24:21.258Z"
   },
   {
    "duration": 2921,
    "start_time": "2024-08-07T12:24:21.284Z"
   },
   {
    "duration": 5,
    "start_time": "2024-08-07T12:24:24.207Z"
   },
   {
    "duration": 12,
    "start_time": "2024-08-07T12:24:24.213Z"
   },
   {
    "duration": 6,
    "start_time": "2024-08-07T12:24:24.227Z"
   },
   {
    "duration": 19,
    "start_time": "2024-08-07T12:24:24.235Z"
   },
   {
    "duration": 10,
    "start_time": "2024-08-07T12:24:24.255Z"
   },
   {
    "duration": 20,
    "start_time": "2024-08-07T12:24:24.266Z"
   },
   {
    "duration": 38,
    "start_time": "2024-08-07T12:24:24.287Z"
   },
   {
    "duration": 15,
    "start_time": "2024-08-07T12:24:24.327Z"
   },
   {
    "duration": 15,
    "start_time": "2024-08-07T12:24:24.344Z"
   },
   {
    "duration": 5,
    "start_time": "2024-08-07T12:24:24.360Z"
   },
   {
    "duration": 719,
    "start_time": "2024-08-07T12:24:24.366Z"
   },
   {
    "duration": 161,
    "start_time": "2024-08-07T12:24:25.087Z"
   },
   {
    "duration": 164,
    "start_time": "2024-08-07T12:25:05.609Z"
   },
   {
    "duration": 177,
    "start_time": "2024-08-07T12:25:11.042Z"
   },
   {
    "duration": 165,
    "start_time": "2024-08-07T12:25:14.731Z"
   },
   {
    "duration": 169,
    "start_time": "2024-08-07T12:49:52.374Z"
   },
   {
    "duration": 236,
    "start_time": "2024-08-07T13:14:15.816Z"
   },
   {
    "duration": 242,
    "start_time": "2024-08-07T13:14:30.722Z"
   },
   {
    "duration": 344,
    "start_time": "2024-08-07T13:15:08.679Z"
   },
   {
    "duration": 250,
    "start_time": "2024-08-07T13:15:12.032Z"
   },
   {
    "duration": 253,
    "start_time": "2024-08-07T13:15:54.505Z"
   },
   {
    "duration": 269,
    "start_time": "2024-08-07T13:16:01.778Z"
   },
   {
    "duration": 2340,
    "start_time": "2024-08-07T13:24:11.182Z"
   },
   {
    "duration": 69,
    "start_time": "2024-08-07T13:24:13.524Z"
   },
   {
    "duration": 13,
    "start_time": "2024-08-07T13:24:13.594Z"
   },
   {
    "duration": 791,
    "start_time": "2024-08-07T13:24:13.609Z"
   },
   {
    "duration": 13,
    "start_time": "2024-08-07T13:24:14.402Z"
   },
   {
    "duration": 14,
    "start_time": "2024-08-07T13:24:14.417Z"
   },
   {
    "duration": 19,
    "start_time": "2024-08-07T13:24:14.434Z"
   },
   {
    "duration": 35,
    "start_time": "2024-08-07T13:24:14.455Z"
   },
   {
    "duration": 2974,
    "start_time": "2024-08-07T13:24:14.492Z"
   },
   {
    "duration": 4,
    "start_time": "2024-08-07T13:24:17.469Z"
   },
   {
    "duration": 19,
    "start_time": "2024-08-07T13:24:17.474Z"
   },
   {
    "duration": 16,
    "start_time": "2024-08-07T13:24:17.494Z"
   },
   {
    "duration": 15,
    "start_time": "2024-08-07T13:24:17.512Z"
   },
   {
    "duration": 6,
    "start_time": "2024-08-07T13:24:17.528Z"
   },
   {
    "duration": 12,
    "start_time": "2024-08-07T13:24:17.535Z"
   },
   {
    "duration": 25,
    "start_time": "2024-08-07T13:24:17.548Z"
   },
   {
    "duration": 19,
    "start_time": "2024-08-07T13:24:17.574Z"
   },
   {
    "duration": 15,
    "start_time": "2024-08-07T13:24:17.595Z"
   },
   {
    "duration": 14,
    "start_time": "2024-08-07T13:24:17.612Z"
   },
   {
    "duration": 780,
    "start_time": "2024-08-07T13:24:17.627Z"
   },
   {
    "duration": 321,
    "start_time": "2024-08-07T13:24:18.409Z"
   },
   {
    "duration": 277,
    "start_time": "2024-08-07T13:24:18.732Z"
   },
   {
    "duration": 13,
    "start_time": "2024-08-07T13:24:43.215Z"
   },
   {
    "duration": 194,
    "start_time": "2024-08-07T13:24:51.388Z"
   },
   {
    "duration": 8,
    "start_time": "2024-08-07T13:26:01.884Z"
   },
   {
    "duration": 6,
    "start_time": "2024-08-07T13:26:34.349Z"
   },
   {
    "duration": 17,
    "start_time": "2024-08-07T13:29:47.574Z"
   },
   {
    "duration": 9,
    "start_time": "2024-08-07T13:29:51.247Z"
   },
   {
    "duration": 2408,
    "start_time": "2024-08-07T13:29:59.639Z"
   },
   {
    "duration": 76,
    "start_time": "2024-08-07T13:30:02.049Z"
   },
   {
    "duration": 14,
    "start_time": "2024-08-07T13:30:02.126Z"
   },
   {
    "duration": 877,
    "start_time": "2024-08-07T13:30:02.142Z"
   },
   {
    "duration": 13,
    "start_time": "2024-08-07T13:30:03.021Z"
   },
   {
    "duration": 22,
    "start_time": "2024-08-07T13:30:03.035Z"
   },
   {
    "duration": 15,
    "start_time": "2024-08-07T13:30:03.058Z"
   },
   {
    "duration": 37,
    "start_time": "2024-08-07T13:30:03.074Z"
   },
   {
    "duration": 3096,
    "start_time": "2024-08-07T13:30:03.113Z"
   },
   {
    "duration": 5,
    "start_time": "2024-08-07T13:30:06.211Z"
   },
   {
    "duration": 21,
    "start_time": "2024-08-07T13:30:06.217Z"
   },
   {
    "duration": 15,
    "start_time": "2024-08-07T13:30:06.239Z"
   },
   {
    "duration": 31,
    "start_time": "2024-08-07T13:30:06.256Z"
   },
   {
    "duration": 9,
    "start_time": "2024-08-07T13:30:06.291Z"
   },
   {
    "duration": 37,
    "start_time": "2024-08-07T13:30:06.301Z"
   },
   {
    "duration": 21,
    "start_time": "2024-08-07T13:30:06.340Z"
   },
   {
    "duration": 13,
    "start_time": "2024-08-07T13:30:06.363Z"
   },
   {
    "duration": 23,
    "start_time": "2024-08-07T13:30:06.377Z"
   },
   {
    "duration": 21,
    "start_time": "2024-08-07T13:30:06.402Z"
   },
   {
    "duration": 677,
    "start_time": "2024-08-07T13:30:06.425Z"
   },
   {
    "duration": 173,
    "start_time": "2024-08-07T13:30:07.104Z"
   },
   {
    "duration": 274,
    "start_time": "2024-08-07T13:30:07.281Z"
   },
   {
    "duration": 14,
    "start_time": "2024-08-07T13:33:55.393Z"
   },
   {
    "duration": 63,
    "start_time": "2024-08-07T13:34:01.888Z"
   },
   {
    "duration": 9,
    "start_time": "2024-08-07T13:44:58.366Z"
   },
   {
    "duration": 46,
    "start_time": "2024-08-07T13:45:31.066Z"
   },
   {
    "duration": 14,
    "start_time": "2024-08-07T13:45:43.222Z"
   },
   {
    "duration": 7,
    "start_time": "2024-08-07T13:48:09.084Z"
   },
   {
    "duration": 97,
    "start_time": "2024-08-07T13:48:10.840Z"
   },
   {
    "duration": 14,
    "start_time": "2024-08-07T13:48:32.481Z"
   },
   {
    "duration": 8,
    "start_time": "2024-08-07T13:49:41.843Z"
   },
   {
    "duration": 20,
    "start_time": "2024-08-07T13:49:43.301Z"
   },
   {
    "duration": 11,
    "start_time": "2024-08-07T13:50:13.123Z"
   },
   {
    "duration": 23,
    "start_time": "2024-08-07T13:50:49.656Z"
   },
   {
    "duration": 5160,
    "start_time": "2024-08-07T13:50:56.620Z"
   },
   {
    "duration": 14,
    "start_time": "2024-08-07T13:51:05.691Z"
   },
   {
    "duration": 482,
    "start_time": "2024-08-07T13:51:46.356Z"
   },
   {
    "duration": 288,
    "start_time": "2024-08-07T13:54:51.695Z"
   },
   {
    "duration": 17,
    "start_time": "2024-08-07T14:06:29.216Z"
   },
   {
    "duration": 5161,
    "start_time": "2024-08-07T14:06:32.195Z"
   },
   {
    "duration": 17,
    "start_time": "2024-08-07T14:07:39.729Z"
   },
   {
    "duration": 2678,
    "start_time": "2024-08-07T14:07:41.894Z"
   },
   {
    "duration": 309,
    "start_time": "2024-08-07T14:08:18.696Z"
   },
   {
    "duration": 301,
    "start_time": "2024-08-07T14:10:27.800Z"
   },
   {
    "duration": 315,
    "start_time": "2024-08-07T14:10:55.967Z"
   },
   {
    "duration": 293,
    "start_time": "2024-08-07T14:11:39.367Z"
   },
   {
    "duration": 833,
    "start_time": "2024-08-07T14:11:46.938Z"
   },
   {
    "duration": 416,
    "start_time": "2024-08-07T14:12:17.993Z"
   },
   {
    "duration": 312,
    "start_time": "2024-08-07T14:12:26.808Z"
   },
   {
    "duration": 352,
    "start_time": "2024-08-07T14:22:38.487Z"
   },
   {
    "duration": 308,
    "start_time": "2024-08-07T14:23:13.740Z"
   },
   {
    "duration": 303,
    "start_time": "2024-08-07T14:23:55.723Z"
   },
   {
    "duration": 16,
    "start_time": "2024-08-07T14:45:36.254Z"
   },
   {
    "duration": 224,
    "start_time": "2024-08-07T14:45:38.645Z"
   },
   {
    "duration": 16,
    "start_time": "2024-08-07T14:46:56.035Z"
   },
   {
    "duration": 305,
    "start_time": "2024-08-07T14:47:00.583Z"
   },
   {
    "duration": 15,
    "start_time": "2024-08-07T14:47:20.492Z"
   },
   {
    "duration": 214,
    "start_time": "2024-08-07T14:47:22.096Z"
   },
   {
    "duration": 230,
    "start_time": "2024-08-07T14:47:27.987Z"
   },
   {
    "duration": 233,
    "start_time": "2024-08-07T14:47:34.730Z"
   },
   {
    "duration": 186,
    "start_time": "2024-08-07T14:52:49.779Z"
   },
   {
    "duration": 172,
    "start_time": "2024-08-07T14:52:59.521Z"
   },
   {
    "duration": 22,
    "start_time": "2024-08-07T14:53:46.871Z"
   },
   {
    "duration": 175,
    "start_time": "2024-08-07T14:53:48.509Z"
   },
   {
    "duration": 182,
    "start_time": "2024-08-07T15:12:16.678Z"
   },
   {
    "duration": 19,
    "start_time": "2024-08-07T15:12:27.369Z"
   },
   {
    "duration": 178,
    "start_time": "2024-08-07T15:12:29.200Z"
   },
   {
    "duration": 246,
    "start_time": "2024-08-07T15:12:57.605Z"
   },
   {
    "duration": 16,
    "start_time": "2024-08-07T15:13:08.204Z"
   },
   {
    "duration": 245,
    "start_time": "2024-08-07T15:13:09.379Z"
   },
   {
    "duration": 30,
    "start_time": "2024-08-07T15:22:33.189Z"
   },
   {
    "duration": 23,
    "start_time": "2024-08-07T15:23:21.033Z"
   },
   {
    "duration": 23,
    "start_time": "2024-08-07T15:24:05.584Z"
   },
   {
    "duration": 282,
    "start_time": "2024-08-07T15:44:46.253Z"
   },
   {
    "duration": 241,
    "start_time": "2024-08-07T15:44:57.319Z"
   },
   {
    "duration": 21,
    "start_time": "2024-08-07T15:46:01.654Z"
   },
   {
    "duration": 16,
    "start_time": "2024-08-07T15:50:21.481Z"
   },
   {
    "duration": 251,
    "start_time": "2024-08-07T15:50:23.199Z"
   },
   {
    "duration": 18,
    "start_time": "2024-08-07T15:50:33.649Z"
   },
   {
    "duration": 17,
    "start_time": "2024-08-07T15:52:31.947Z"
   },
   {
    "duration": 248,
    "start_time": "2024-08-07T15:52:33.534Z"
   },
   {
    "duration": 16,
    "start_time": "2024-08-07T15:54:28.095Z"
   },
   {
    "duration": 243,
    "start_time": "2024-08-07T15:54:29.567Z"
   },
   {
    "duration": 17,
    "start_time": "2024-08-07T15:58:05.929Z"
   },
   {
    "duration": 258,
    "start_time": "2024-08-07T15:58:09.582Z"
   },
   {
    "duration": 354,
    "start_time": "2024-08-07T15:59:38.463Z"
   },
   {
    "duration": 2333,
    "start_time": "2024-08-07T16:06:17.195Z"
   },
   {
    "duration": 13,
    "start_time": "2024-08-07T16:09:25.111Z"
   },
   {
    "duration": 14,
    "start_time": "2024-08-07T16:10:21.633Z"
   },
   {
    "duration": 18,
    "start_time": "2024-08-07T16:12:07.041Z"
   },
   {
    "duration": 16,
    "start_time": "2024-08-07T16:13:20.909Z"
   },
   {
    "duration": 45,
    "start_time": "2024-08-07T16:14:05.145Z"
   },
   {
    "duration": 13,
    "start_time": "2024-08-07T16:14:08.945Z"
   },
   {
    "duration": 48,
    "start_time": "2024-08-07T16:14:57.462Z"
   },
   {
    "duration": 18,
    "start_time": "2024-08-07T16:15:11.530Z"
   },
   {
    "duration": 14,
    "start_time": "2024-08-07T16:15:45.060Z"
   },
   {
    "duration": 526,
    "start_time": "2024-08-07T16:16:22.908Z"
   },
   {
    "duration": 15,
    "start_time": "2024-08-07T16:16:39.646Z"
   },
   {
    "duration": 27,
    "start_time": "2024-08-07T16:17:08.692Z"
   },
   {
    "duration": 5,
    "start_time": "2024-08-07T16:18:19.425Z"
   },
   {
    "duration": 18,
    "start_time": "2024-08-07T16:18:23.847Z"
   },
   {
    "duration": 17,
    "start_time": "2024-08-07T16:18:38.140Z"
   },
   {
    "duration": 17,
    "start_time": "2024-08-07T16:18:57.727Z"
   },
   {
    "duration": 15,
    "start_time": "2024-08-07T16:19:07.944Z"
   },
   {
    "duration": 16,
    "start_time": "2024-08-07T16:21:18.122Z"
   },
   {
    "duration": 15,
    "start_time": "2024-08-07T16:21:57.502Z"
   },
   {
    "duration": 15,
    "start_time": "2024-08-07T16:26:56.927Z"
   },
   {
    "duration": 7,
    "start_time": "2024-08-07T16:27:53.056Z"
   },
   {
    "duration": 8,
    "start_time": "2024-08-07T16:28:06.407Z"
   },
   {
    "duration": 2253,
    "start_time": "2024-08-07T16:29:37.985Z"
   },
   {
    "duration": 68,
    "start_time": "2024-08-07T16:29:40.242Z"
   },
   {
    "duration": 14,
    "start_time": "2024-08-07T16:29:40.311Z"
   },
   {
    "duration": 859,
    "start_time": "2024-08-07T16:29:40.326Z"
   },
   {
    "duration": 13,
    "start_time": "2024-08-07T16:29:41.187Z"
   },
   {
    "duration": 13,
    "start_time": "2024-08-07T16:29:41.201Z"
   },
   {
    "duration": 12,
    "start_time": "2024-08-07T16:29:41.215Z"
   },
   {
    "duration": 18,
    "start_time": "2024-08-07T16:29:41.229Z"
   },
   {
    "duration": 2897,
    "start_time": "2024-08-07T16:29:41.248Z"
   },
   {
    "duration": 4,
    "start_time": "2024-08-07T16:29:44.148Z"
   },
   {
    "duration": 18,
    "start_time": "2024-08-07T16:29:44.154Z"
   },
   {
    "duration": 12,
    "start_time": "2024-08-07T16:29:44.173Z"
   },
   {
    "duration": 15,
    "start_time": "2024-08-07T16:29:44.186Z"
   },
   {
    "duration": 5,
    "start_time": "2024-08-07T16:29:44.202Z"
   },
   {
    "duration": 7,
    "start_time": "2024-08-07T16:29:44.209Z"
   },
   {
    "duration": 18,
    "start_time": "2024-08-07T16:29:44.217Z"
   },
   {
    "duration": 13,
    "start_time": "2024-08-07T16:29:44.237Z"
   },
   {
    "duration": 39,
    "start_time": "2024-08-07T16:29:44.251Z"
   },
   {
    "duration": 5,
    "start_time": "2024-08-07T16:29:44.291Z"
   },
   {
    "duration": 697,
    "start_time": "2024-08-07T16:29:44.297Z"
   },
   {
    "duration": 172,
    "start_time": "2024-08-07T16:29:44.996Z"
   },
   {
    "duration": 315,
    "start_time": "2024-08-07T16:29:45.170Z"
   },
   {
    "duration": 16,
    "start_time": "2024-08-07T16:29:45.486Z"
   },
   {
    "duration": 345,
    "start_time": "2024-08-07T16:29:45.503Z"
   },
   {
    "duration": 16,
    "start_time": "2024-08-07T16:29:45.849Z"
   },
   {
    "duration": 22,
    "start_time": "2024-08-07T16:29:45.866Z"
   },
   {
    "duration": 13,
    "start_time": "2024-08-07T16:29:45.889Z"
   },
   {
    "duration": 7,
    "start_time": "2024-08-07T16:29:53.269Z"
   },
   {
    "duration": 15,
    "start_time": "2024-08-07T16:30:56.872Z"
   },
   {
    "duration": 24,
    "start_time": "2024-08-07T16:31:12.326Z"
   },
   {
    "duration": 6,
    "start_time": "2024-08-07T16:32:28.163Z"
   },
   {
    "duration": 24,
    "start_time": "2024-08-07T16:32:29.433Z"
   },
   {
    "duration": 3254,
    "start_time": "2024-08-07T16:32:37.901Z"
   },
   {
    "duration": 66,
    "start_time": "2024-08-07T16:32:41.157Z"
   },
   {
    "duration": 13,
    "start_time": "2024-08-07T16:32:41.224Z"
   },
   {
    "duration": 782,
    "start_time": "2024-08-07T16:32:41.239Z"
   },
   {
    "duration": 12,
    "start_time": "2024-08-07T16:32:42.022Z"
   },
   {
    "duration": 16,
    "start_time": "2024-08-07T16:32:42.036Z"
   },
   {
    "duration": 11,
    "start_time": "2024-08-07T16:32:42.053Z"
   },
   {
    "duration": 30,
    "start_time": "2024-08-07T16:32:42.066Z"
   },
   {
    "duration": 2902,
    "start_time": "2024-08-07T16:32:42.098Z"
   },
   {
    "duration": 4,
    "start_time": "2024-08-07T16:32:45.003Z"
   },
   {
    "duration": 62,
    "start_time": "2024-08-07T16:32:45.009Z"
   },
   {
    "duration": 44,
    "start_time": "2024-08-07T16:32:45.072Z"
   },
   {
    "duration": 37,
    "start_time": "2024-08-07T16:32:45.118Z"
   },
   {
    "duration": 21,
    "start_time": "2024-08-07T16:32:45.156Z"
   },
   {
    "duration": 21,
    "start_time": "2024-08-07T16:32:45.178Z"
   },
   {
    "duration": 61,
    "start_time": "2024-08-07T16:32:45.200Z"
   },
   {
    "duration": 19,
    "start_time": "2024-08-07T16:32:45.263Z"
   },
   {
    "duration": 22,
    "start_time": "2024-08-07T16:32:45.283Z"
   },
   {
    "duration": 45,
    "start_time": "2024-08-07T16:32:45.307Z"
   },
   {
    "duration": 737,
    "start_time": "2024-08-07T16:32:45.354Z"
   },
   {
    "duration": 177,
    "start_time": "2024-08-07T16:32:46.092Z"
   },
   {
    "duration": 262,
    "start_time": "2024-08-07T16:32:46.270Z"
   },
   {
    "duration": 17,
    "start_time": "2024-08-07T16:32:46.533Z"
   },
   {
    "duration": 354,
    "start_time": "2024-08-07T16:32:46.551Z"
   },
   {
    "duration": 17,
    "start_time": "2024-08-07T16:32:46.907Z"
   },
   {
    "duration": 14,
    "start_time": "2024-08-07T16:32:46.926Z"
   },
   {
    "duration": 29,
    "start_time": "2024-08-07T16:32:46.942Z"
   },
   {
    "duration": 32,
    "start_time": "2024-08-07T16:32:46.974Z"
   },
   {
    "duration": 28,
    "start_time": "2024-08-07T16:33:48.660Z"
   },
   {
    "duration": 28,
    "start_time": "2024-08-07T16:33:54.193Z"
   },
   {
    "duration": 27,
    "start_time": "2024-08-07T16:36:13.604Z"
   },
   {
    "duration": 42,
    "start_time": "2024-08-07T16:36:55.045Z"
   },
   {
    "duration": 54,
    "start_time": "2024-08-07T16:36:57.022Z"
   },
   {
    "duration": 3,
    "start_time": "2024-08-07T16:37:13.690Z"
   },
   {
    "duration": 40,
    "start_time": "2024-08-07T16:37:44.510Z"
   },
   {
    "duration": 3,
    "start_time": "2024-08-07T16:37:54.200Z"
   },
   {
    "duration": 3,
    "start_time": "2024-08-07T16:37:59.843Z"
   },
   {
    "duration": 4,
    "start_time": "2024-08-07T16:38:09.346Z"
   },
   {
    "duration": 315,
    "start_time": "2024-08-07T16:40:22.071Z"
   },
   {
    "duration": 285,
    "start_time": "2024-08-07T16:40:41.617Z"
   },
   {
    "duration": 353,
    "start_time": "2024-08-07T16:41:08.251Z"
   },
   {
    "duration": 30,
    "start_time": "2024-08-07T16:47:55.418Z"
   },
   {
    "duration": 6,
    "start_time": "2024-08-07T16:50:35.652Z"
   },
   {
    "duration": 29,
    "start_time": "2024-08-07T16:50:53.562Z"
   },
   {
    "duration": 6,
    "start_time": "2024-08-07T16:50:56.570Z"
   },
   {
    "duration": 16,
    "start_time": "2024-08-07T16:51:08.826Z"
   },
   {
    "duration": 99,
    "start_time": "2024-08-07T16:57:12.752Z"
   },
   {
    "duration": 317,
    "start_time": "2024-08-07T16:57:41.234Z"
   },
   {
    "duration": 13,
    "start_time": "2024-08-07T16:57:57.324Z"
   },
   {
    "duration": 43,
    "start_time": "2024-08-07T16:59:09.802Z"
   },
   {
    "duration": 12,
    "start_time": "2024-08-07T16:59:20.625Z"
   },
   {
    "duration": 346,
    "start_time": "2024-08-07T16:59:37.317Z"
   },
   {
    "duration": 326,
    "start_time": "2024-08-07T17:00:09.359Z"
   },
   {
    "duration": 279,
    "start_time": "2024-08-07T17:00:44.693Z"
   },
   {
    "duration": 11,
    "start_time": "2024-08-07T17:01:41.968Z"
   },
   {
    "duration": 292,
    "start_time": "2024-08-07T17:01:56.281Z"
   },
   {
    "duration": 5,
    "start_time": "2024-08-07T17:03:12.534Z"
   },
   {
    "duration": 236,
    "start_time": "2024-08-07T17:03:20.226Z"
   },
   {
    "duration": 190,
    "start_time": "2024-08-07T17:03:27.652Z"
   },
   {
    "duration": 311,
    "start_time": "2024-08-07T17:06:59.589Z"
   },
   {
    "duration": 387,
    "start_time": "2024-08-07T17:07:04.598Z"
   },
   {
    "duration": 304,
    "start_time": "2024-08-07T17:07:11.083Z"
   },
   {
    "duration": 215,
    "start_time": "2024-08-07T17:18:56.582Z"
   },
   {
    "duration": 5,
    "start_time": "2024-08-07T17:20:03.180Z"
   },
   {
    "duration": 331,
    "start_time": "2024-08-07T17:20:40.654Z"
   },
   {
    "duration": 261,
    "start_time": "2024-08-07T17:24:54.724Z"
   },
   {
    "duration": 458,
    "start_time": "2024-08-07T17:25:17.166Z"
   },
   {
    "duration": 302,
    "start_time": "2024-08-07T17:25:26.023Z"
   },
   {
    "duration": 325,
    "start_time": "2024-08-07T17:26:20.273Z"
   },
   {
    "duration": 295,
    "start_time": "2024-08-07T17:26:36.451Z"
   },
   {
    "duration": 386,
    "start_time": "2024-08-07T17:27:04.178Z"
   },
   {
    "duration": 323,
    "start_time": "2024-08-07T17:27:10.197Z"
   },
   {
    "duration": 296,
    "start_time": "2024-08-07T17:28:52.116Z"
   },
   {
    "duration": 329,
    "start_time": "2024-08-07T17:29:20.166Z"
   },
   {
    "duration": 301,
    "start_time": "2024-08-07T17:29:30.839Z"
   },
   {
    "duration": 244,
    "start_time": "2024-08-07T17:29:40.182Z"
   },
   {
    "duration": 49,
    "start_time": "2024-08-08T10:03:21.480Z"
   },
   {
    "duration": 4586,
    "start_time": "2024-08-08T10:03:33.310Z"
   },
   {
    "duration": 257,
    "start_time": "2024-08-08T10:03:37.898Z"
   },
   {
    "duration": 16,
    "start_time": "2024-08-08T10:03:38.157Z"
   },
   {
    "duration": 1011,
    "start_time": "2024-08-08T10:03:38.174Z"
   },
   {
    "duration": 14,
    "start_time": "2024-08-08T10:03:39.187Z"
   },
   {
    "duration": 25,
    "start_time": "2024-08-08T10:03:39.203Z"
   },
   {
    "duration": 12,
    "start_time": "2024-08-08T10:03:39.229Z"
   },
   {
    "duration": 21,
    "start_time": "2024-08-08T10:03:39.242Z"
   },
   {
    "duration": 3282,
    "start_time": "2024-08-08T10:03:39.264Z"
   },
   {
    "duration": 4,
    "start_time": "2024-08-08T10:03:42.548Z"
   },
   {
    "duration": 11,
    "start_time": "2024-08-08T10:03:42.554Z"
   },
   {
    "duration": 14,
    "start_time": "2024-08-08T10:03:42.566Z"
   },
   {
    "duration": 17,
    "start_time": "2024-08-08T10:03:42.581Z"
   },
   {
    "duration": 25,
    "start_time": "2024-08-08T10:03:42.600Z"
   },
   {
    "duration": 18,
    "start_time": "2024-08-08T10:03:42.627Z"
   },
   {
    "duration": 23,
    "start_time": "2024-08-08T10:03:42.646Z"
   },
   {
    "duration": 16,
    "start_time": "2024-08-08T10:03:42.670Z"
   },
   {
    "duration": 17,
    "start_time": "2024-08-08T10:03:42.687Z"
   },
   {
    "duration": 21,
    "start_time": "2024-08-08T10:03:42.706Z"
   },
   {
    "duration": 726,
    "start_time": "2024-08-08T10:03:42.728Z"
   },
   {
    "duration": 196,
    "start_time": "2024-08-08T10:03:43.456Z"
   },
   {
    "duration": 297,
    "start_time": "2024-08-08T10:03:43.654Z"
   },
   {
    "duration": 19,
    "start_time": "2024-08-08T10:03:43.953Z"
   },
   {
    "duration": 396,
    "start_time": "2024-08-08T10:03:43.973Z"
   },
   {
    "duration": 17,
    "start_time": "2024-08-08T10:03:44.370Z"
   },
   {
    "duration": 15,
    "start_time": "2024-08-08T10:03:44.388Z"
   },
   {
    "duration": 11,
    "start_time": "2024-08-08T10:03:44.404Z"
   },
   {
    "duration": 28,
    "start_time": "2024-08-08T10:03:44.418Z"
   },
   {
    "duration": 6,
    "start_time": "2024-08-08T10:03:44.447Z"
   },
   {
    "duration": 338,
    "start_time": "2024-08-08T10:03:44.455Z"
   },
   {
    "duration": 242,
    "start_time": "2024-08-08T10:03:44.794Z"
   },
   {
    "duration": 417,
    "start_time": "2024-08-08T10:03:45.038Z"
   },
   {
    "duration": 111,
    "start_time": "2024-08-08T10:03:45.457Z"
   },
   {
    "duration": 12,
    "start_time": "2024-08-08T10:05:08.474Z"
   },
   {
    "duration": 11,
    "start_time": "2024-08-08T10:05:44.463Z"
   },
   {
    "duration": 11,
    "start_time": "2024-08-08T10:05:46.087Z"
   },
   {
    "duration": 9,
    "start_time": "2024-08-08T10:08:05.103Z"
   },
   {
    "duration": 9,
    "start_time": "2024-08-08T10:08:21.588Z"
   },
   {
    "duration": 10,
    "start_time": "2024-08-08T10:08:28.589Z"
   },
   {
    "duration": 445,
    "start_time": "2024-08-08T10:10:07.288Z"
   },
   {
    "duration": 449,
    "start_time": "2024-08-08T10:11:43.638Z"
   },
   {
    "duration": 11,
    "start_time": "2024-08-08T10:12:20.832Z"
   },
   {
    "duration": 25,
    "start_time": "2024-08-08T10:12:27.725Z"
   },
   {
    "duration": 11,
    "start_time": "2024-08-08T10:13:53.497Z"
   },
   {
    "duration": 5,
    "start_time": "2024-08-08T10:14:50.546Z"
   },
   {
    "duration": 8,
    "start_time": "2024-08-08T10:14:55.327Z"
   },
   {
    "duration": 140,
    "start_time": "2024-08-08T10:15:09.086Z"
   },
   {
    "duration": 524,
    "start_time": "2024-08-08T10:17:53.965Z"
   },
   {
    "duration": 464,
    "start_time": "2024-08-08T10:22:51.936Z"
   },
   {
    "duration": 335,
    "start_time": "2024-08-08T10:23:05.989Z"
   },
   {
    "duration": 305,
    "start_time": "2024-08-08T10:23:13.726Z"
   },
   {
    "duration": 304,
    "start_time": "2024-08-08T10:23:31.733Z"
   },
   {
    "duration": 283,
    "start_time": "2024-08-08T10:23:37.212Z"
   },
   {
    "duration": 14,
    "start_time": "2024-08-08T10:49:59.062Z"
   },
   {
    "duration": 18,
    "start_time": "2024-08-08T10:50:16.069Z"
   },
   {
    "duration": 149,
    "start_time": "2024-08-08T10:50:42.101Z"
   },
   {
    "duration": 243,
    "start_time": "2024-08-08T10:56:33.168Z"
   },
   {
    "duration": 15,
    "start_time": "2024-08-08T10:56:55.974Z"
   },
   {
    "duration": 19,
    "start_time": "2024-08-08T10:57:12.684Z"
   },
   {
    "duration": 60,
    "start_time": "2024-08-08T11:00:22.911Z"
   },
   {
    "duration": 342,
    "start_time": "2024-08-08T11:00:38.467Z"
   },
   {
    "duration": 242,
    "start_time": "2024-08-08T11:00:47.817Z"
   },
   {
    "duration": 8,
    "start_time": "2024-08-08T11:05:57.629Z"
   },
   {
    "duration": 8,
    "start_time": "2024-08-08T11:06:12.539Z"
   },
   {
    "duration": 57,
    "start_time": "2024-08-08T11:09:43.665Z"
   },
   {
    "duration": 59,
    "start_time": "2024-08-08T11:09:53.413Z"
   },
   {
    "duration": 11,
    "start_time": "2024-08-08T11:10:25.664Z"
   },
   {
    "duration": 10,
    "start_time": "2024-08-08T11:10:30.614Z"
   },
   {
    "duration": 10,
    "start_time": "2024-08-08T11:10:47.384Z"
   },
   {
    "duration": 251,
    "start_time": "2024-08-08T11:15:04.693Z"
   },
   {
    "duration": 242,
    "start_time": "2024-08-08T11:16:41.141Z"
   },
   {
    "duration": 68,
    "start_time": "2024-08-08T11:17:13.832Z"
   },
   {
    "duration": 357,
    "start_time": "2024-08-08T11:17:19.415Z"
   },
   {
    "duration": 231,
    "start_time": "2024-08-08T11:17:50.441Z"
   },
   {
    "duration": 11,
    "start_time": "2024-08-08T11:18:21.151Z"
   },
   {
    "duration": 258,
    "start_time": "2024-08-08T11:19:58.042Z"
   },
   {
    "duration": 254,
    "start_time": "2024-08-08T11:20:43.849Z"
   },
   {
    "duration": 237,
    "start_time": "2024-08-08T11:20:59.420Z"
   },
   {
    "duration": 210,
    "start_time": "2024-08-08T11:21:11.614Z"
   },
   {
    "duration": 242,
    "start_time": "2024-08-08T11:22:49.125Z"
   },
   {
    "duration": 252,
    "start_time": "2024-08-08T11:23:29.918Z"
   },
   {
    "duration": 12,
    "start_time": "2024-08-08T11:32:47.479Z"
   },
   {
    "duration": 10,
    "start_time": "2024-08-08T11:33:42.601Z"
   },
   {
    "duration": 8,
    "start_time": "2024-08-08T11:33:59.763Z"
   },
   {
    "duration": 12,
    "start_time": "2024-08-08T11:34:59.087Z"
   },
   {
    "duration": 110,
    "start_time": "2024-08-08T11:35:55.551Z"
   },
   {
    "duration": 337,
    "start_time": "2024-08-08T11:37:21.624Z"
   },
   {
    "duration": 286,
    "start_time": "2024-08-08T11:37:26.365Z"
   },
   {
    "duration": 172,
    "start_time": "2024-08-08T11:37:32.147Z"
   },
   {
    "duration": 338,
    "start_time": "2024-08-08T11:37:40.721Z"
   },
   {
    "duration": 317,
    "start_time": "2024-08-08T11:37:44.061Z"
   },
   {
    "duration": 237,
    "start_time": "2024-08-08T11:37:48.303Z"
   },
   {
    "duration": 238,
    "start_time": "2024-08-08T11:37:53.110Z"
   },
   {
    "duration": 22,
    "start_time": "2024-08-08T11:37:56.155Z"
   },
   {
    "duration": 335,
    "start_time": "2024-08-08T11:38:52.140Z"
   },
   {
    "duration": 382,
    "start_time": "2024-08-08T11:38:57.457Z"
   },
   {
    "duration": 24,
    "start_time": "2024-08-08T11:39:02.196Z"
   },
   {
    "duration": 44,
    "start_time": "2024-08-08T11:42:19.074Z"
   },
   {
    "duration": 585,
    "start_time": "2024-08-08T11:42:27.829Z"
   },
   {
    "duration": 23,
    "start_time": "2024-08-08T11:42:55.678Z"
   },
   {
    "duration": 14,
    "start_time": "2024-08-08T11:43:30.722Z"
   },
   {
    "duration": 14,
    "start_time": "2024-08-08T11:43:48.393Z"
   },
   {
    "duration": 317,
    "start_time": "2024-08-08T11:44:03.865Z"
   },
   {
    "duration": 9,
    "start_time": "2024-08-08T11:44:06.835Z"
   },
   {
    "duration": 295,
    "start_time": "2024-08-08T11:44:13.317Z"
   },
   {
    "duration": 253,
    "start_time": "2024-08-08T11:44:16.823Z"
   },
   {
    "duration": 22,
    "start_time": "2024-08-08T11:44:20.632Z"
   },
   {
    "duration": 387,
    "start_time": "2024-08-08T11:44:53.871Z"
   },
   {
    "duration": 583,
    "start_time": "2024-08-08T11:45:08.688Z"
   },
   {
    "duration": 330,
    "start_time": "2024-08-08T11:47:49.779Z"
   },
   {
    "duration": 240,
    "start_time": "2024-08-08T11:50:04.987Z"
   },
   {
    "duration": 257,
    "start_time": "2024-08-08T11:50:08.867Z"
   },
   {
    "duration": 387,
    "start_time": "2024-08-08T11:50:32.117Z"
   },
   {
    "duration": 316,
    "start_time": "2024-08-08T11:50:49.069Z"
   },
   {
    "duration": 287,
    "start_time": "2024-08-08T11:50:53.792Z"
   },
   {
    "duration": 269,
    "start_time": "2024-08-08T11:50:59.926Z"
   },
   {
    "duration": 625,
    "start_time": "2024-08-08T11:51:44.302Z"
   },
   {
    "duration": 579,
    "start_time": "2024-08-08T11:51:48.930Z"
   },
   {
    "duration": 580,
    "start_time": "2024-08-08T11:51:53.809Z"
   },
   {
    "duration": 667,
    "start_time": "2024-08-08T11:51:58.077Z"
   },
   {
    "duration": 24,
    "start_time": "2024-08-08T11:52:43.237Z"
   },
   {
    "duration": 20,
    "start_time": "2024-08-08T11:52:58.734Z"
   },
   {
    "duration": 11,
    "start_time": "2024-08-08T11:55:32.845Z"
   },
   {
    "duration": 1114,
    "start_time": "2024-08-08T11:55:35.814Z"
   },
   {
    "duration": 13,
    "start_time": "2024-08-08T11:57:24.463Z"
   },
   {
    "duration": 1108,
    "start_time": "2024-08-08T11:57:26.280Z"
   },
   {
    "duration": 9,
    "start_time": "2024-08-08T11:57:46.180Z"
   },
   {
    "duration": 261,
    "start_time": "2024-08-08T11:57:48.632Z"
   },
   {
    "duration": 50,
    "start_time": "2024-08-08T11:58:46.801Z"
   },
   {
    "duration": 132,
    "start_time": "2024-08-08T12:03:25.520Z"
   },
   {
    "duration": 171,
    "start_time": "2024-08-08T12:06:54.765Z"
   },
   {
    "duration": 169,
    "start_time": "2024-08-08T12:07:02.972Z"
   },
   {
    "duration": 276,
    "start_time": "2024-08-08T12:09:49.563Z"
   },
   {
    "duration": 276,
    "start_time": "2024-08-08T12:13:11.473Z"
   },
   {
    "duration": 28,
    "start_time": "2024-08-08T12:13:22.434Z"
   },
   {
    "duration": 278,
    "start_time": "2024-08-08T12:13:27.544Z"
   },
   {
    "duration": 266,
    "start_time": "2024-08-08T12:13:34.867Z"
   },
   {
    "duration": 292,
    "start_time": "2024-08-08T12:14:33.544Z"
   },
   {
    "duration": 377,
    "start_time": "2024-08-08T12:14:46.245Z"
   },
   {
    "duration": 345,
    "start_time": "2024-08-08T12:16:18.491Z"
   },
   {
    "duration": 402,
    "start_time": "2024-08-08T12:16:51.999Z"
   },
   {
    "duration": 310,
    "start_time": "2024-08-08T12:17:15.909Z"
   },
   {
    "duration": 400,
    "start_time": "2024-08-08T12:17:41.666Z"
   },
   {
    "duration": 328,
    "start_time": "2024-08-08T12:17:53.209Z"
   },
   {
    "duration": 306,
    "start_time": "2024-08-08T12:22:33.425Z"
   },
   {
    "duration": 821,
    "start_time": "2024-08-08T12:22:44.121Z"
   },
   {
    "duration": 15,
    "start_time": "2024-08-08T12:23:49.302Z"
   },
   {
    "duration": 14,
    "start_time": "2024-08-08T12:23:52.916Z"
   },
   {
    "duration": 353,
    "start_time": "2024-08-08T12:27:21.503Z"
   },
   {
    "duration": 293,
    "start_time": "2024-08-08T12:29:26.150Z"
   },
   {
    "duration": 283,
    "start_time": "2024-08-08T12:30:00.920Z"
   },
   {
    "duration": 387,
    "start_time": "2024-08-08T12:30:16.132Z"
   },
   {
    "duration": 293,
    "start_time": "2024-08-08T12:30:27.790Z"
   },
   {
    "duration": 318,
    "start_time": "2024-08-08T12:33:30.135Z"
   },
   {
    "duration": 294,
    "start_time": "2024-08-08T12:34:01.051Z"
   },
   {
    "duration": 291,
    "start_time": "2024-08-08T12:34:29.004Z"
   },
   {
    "duration": 283,
    "start_time": "2024-08-08T12:35:14.089Z"
   },
   {
    "duration": 390,
    "start_time": "2024-08-08T12:35:30.573Z"
   },
   {
    "duration": 313,
    "start_time": "2024-08-08T12:35:39.874Z"
   },
   {
    "duration": 282,
    "start_time": "2024-08-08T12:35:46.469Z"
   },
   {
    "duration": 330,
    "start_time": "2024-08-08T12:38:18.033Z"
   },
   {
    "duration": 296,
    "start_time": "2024-08-08T12:38:31.310Z"
   },
   {
    "duration": 392,
    "start_time": "2024-08-08T12:38:52.435Z"
   },
   {
    "duration": 321,
    "start_time": "2024-08-08T12:42:39.914Z"
   },
   {
    "duration": 9,
    "start_time": "2024-08-08T12:46:48.642Z"
   },
   {
    "duration": 150,
    "start_time": "2024-08-08T12:46:56.109Z"
   },
   {
    "duration": 42,
    "start_time": "2024-08-08T12:49:13.152Z"
   },
   {
    "duration": 156,
    "start_time": "2024-08-08T12:49:17.034Z"
   },
   {
    "duration": 157,
    "start_time": "2024-08-08T12:49:19.833Z"
   },
   {
    "duration": 59,
    "start_time": "2024-08-08T12:59:13.321Z"
   },
   {
    "duration": 458,
    "start_time": "2024-08-08T13:01:32.496Z"
   },
   {
    "duration": 388,
    "start_time": "2024-08-08T13:02:00.002Z"
   },
   {
    "duration": 394,
    "start_time": "2024-08-08T13:04:46.692Z"
   },
   {
    "duration": 153,
    "start_time": "2024-08-08T13:05:45.591Z"
   },
   {
    "duration": 318,
    "start_time": "2024-08-08T13:07:00.717Z"
   },
   {
    "duration": 311,
    "start_time": "2024-08-08T13:07:59.138Z"
   },
   {
    "duration": 374,
    "start_time": "2024-08-08T13:10:19.301Z"
   },
   {
    "duration": 13,
    "start_time": "2024-08-08T13:15:40.298Z"
   },
   {
    "duration": 328,
    "start_time": "2024-08-08T13:15:40.622Z"
   },
   {
    "duration": 13,
    "start_time": "2024-08-08T13:15:49.435Z"
   },
   {
    "duration": 13,
    "start_time": "2024-08-08T13:15:59.220Z"
   },
   {
    "duration": 234,
    "start_time": "2024-08-08T13:16:15.240Z"
   },
   {
    "duration": 231,
    "start_time": "2024-08-08T13:19:15.421Z"
   },
   {
    "duration": 357,
    "start_time": "2024-08-08T13:19:20.049Z"
   },
   {
    "duration": 245,
    "start_time": "2024-08-08T13:19:28.744Z"
   },
   {
    "duration": 223,
    "start_time": "2024-08-08T13:20:21.035Z"
   },
   {
    "duration": 232,
    "start_time": "2024-08-08T13:20:28.239Z"
   },
   {
    "duration": 5,
    "start_time": "2024-08-08T13:49:16.613Z"
   },
   {
    "duration": 5,
    "start_time": "2024-08-08T13:49:45.212Z"
   },
   {
    "duration": 15,
    "start_time": "2024-08-08T13:50:17.762Z"
   },
   {
    "duration": 4,
    "start_time": "2024-08-08T13:50:45.654Z"
   },
   {
    "duration": 1054,
    "start_time": "2024-08-08T13:50:47.135Z"
   },
   {
    "duration": 7,
    "start_time": "2024-08-08T13:51:01.638Z"
   },
   {
    "duration": 23,
    "start_time": "2024-08-08T13:51:04.219Z"
   },
   {
    "duration": 4,
    "start_time": "2024-08-08T13:51:13.107Z"
   },
   {
    "duration": 17,
    "start_time": "2024-08-08T13:51:14.476Z"
   },
   {
    "duration": 5,
    "start_time": "2024-08-08T13:57:08.788Z"
   },
   {
    "duration": 1158,
    "start_time": "2024-08-08T13:57:10.603Z"
   },
   {
    "duration": 5,
    "start_time": "2024-08-08T14:01:24.729Z"
   },
   {
    "duration": 9,
    "start_time": "2024-08-08T14:01:26.459Z"
   },
   {
    "duration": 521,
    "start_time": "2024-08-08T14:01:31.417Z"
   },
   {
    "duration": 5,
    "start_time": "2024-08-08T14:01:37.534Z"
   },
   {
    "duration": 519,
    "start_time": "2024-08-08T14:01:39.211Z"
   },
   {
    "duration": 5,
    "start_time": "2024-08-08T14:01:50.662Z"
   },
   {
    "duration": 454,
    "start_time": "2024-08-08T14:01:53.050Z"
   },
   {
    "duration": 5,
    "start_time": "2024-08-08T14:02:21.605Z"
   },
   {
    "duration": 595,
    "start_time": "2024-08-08T14:02:23.921Z"
   },
   {
    "duration": 5,
    "start_time": "2024-08-08T14:07:05.353Z"
   },
   {
    "duration": 505,
    "start_time": "2024-08-08T14:07:07.589Z"
   },
   {
    "duration": 5,
    "start_time": "2024-08-08T14:07:29.023Z"
   },
   {
    "duration": 178,
    "start_time": "2024-08-08T14:07:30.492Z"
   },
   {
    "duration": 5,
    "start_time": "2024-08-08T14:07:49.040Z"
   },
   {
    "duration": 184,
    "start_time": "2024-08-08T14:07:50.545Z"
   },
   {
    "duration": 5,
    "start_time": "2024-08-08T14:08:48.324Z"
   },
   {
    "duration": 8,
    "start_time": "2024-08-08T14:08:51.357Z"
   },
   {
    "duration": 115,
    "start_time": "2024-08-08T14:09:02.467Z"
   },
   {
    "duration": 50,
    "start_time": "2024-08-08T14:10:22.723Z"
   },
   {
    "duration": 8,
    "start_time": "2024-08-08T14:10:29.301Z"
   },
   {
    "duration": 45,
    "start_time": "2024-08-08T14:10:36.519Z"
   },
   {
    "duration": 6,
    "start_time": "2024-08-08T14:10:47.533Z"
   },
   {
    "duration": 1993,
    "start_time": "2024-08-08T14:10:49.177Z"
   },
   {
    "duration": 5,
    "start_time": "2024-08-08T14:11:17.594Z"
   },
   {
    "duration": 939,
    "start_time": "2024-08-08T14:11:19.657Z"
   },
   {
    "duration": 5,
    "start_time": "2024-08-08T14:11:40.326Z"
   },
   {
    "duration": 788,
    "start_time": "2024-08-08T14:11:41.797Z"
   },
   {
    "duration": 5,
    "start_time": "2024-08-08T14:12:05.072Z"
   },
   {
    "duration": 912,
    "start_time": "2024-08-08T14:12:06.401Z"
   },
   {
    "duration": 6,
    "start_time": "2024-08-08T14:14:22.542Z"
   },
   {
    "duration": 510,
    "start_time": "2024-08-08T14:14:23.999Z"
   },
   {
    "duration": 56,
    "start_time": "2024-08-08T14:17:46.880Z"
   },
   {
    "duration": 5,
    "start_time": "2024-08-08T14:18:09.506Z"
   },
   {
    "duration": 111,
    "start_time": "2024-08-08T14:18:11.551Z"
   },
   {
    "duration": 5,
    "start_time": "2024-08-08T14:18:16.286Z"
   },
   {
    "duration": 525,
    "start_time": "2024-08-08T14:18:17.786Z"
   },
   {
    "duration": 6,
    "start_time": "2024-08-08T14:18:30.001Z"
   },
   {
    "duration": 649,
    "start_time": "2024-08-08T14:18:31.159Z"
   },
   {
    "duration": 5,
    "start_time": "2024-08-08T14:18:41.140Z"
   },
   {
    "duration": 519,
    "start_time": "2024-08-08T14:18:42.633Z"
   },
   {
    "duration": 5,
    "start_time": "2024-08-08T14:18:50.951Z"
   },
   {
    "duration": 512,
    "start_time": "2024-08-08T14:18:52.454Z"
   },
   {
    "duration": 5,
    "start_time": "2024-08-08T14:18:57.947Z"
   },
   {
    "duration": 531,
    "start_time": "2024-08-08T14:19:00.195Z"
   },
   {
    "duration": 6,
    "start_time": "2024-08-08T14:19:07.140Z"
   },
   {
    "duration": 631,
    "start_time": "2024-08-08T14:19:08.696Z"
   },
   {
    "duration": 5,
    "start_time": "2024-08-08T14:19:15.015Z"
   },
   {
    "duration": 516,
    "start_time": "2024-08-08T14:19:15.926Z"
   },
   {
    "duration": 6,
    "start_time": "2024-08-08T14:19:24.245Z"
   },
   {
    "duration": 515,
    "start_time": "2024-08-08T14:19:25.484Z"
   },
   {
    "duration": 6,
    "start_time": "2024-08-08T14:19:39.526Z"
   },
   {
    "duration": 602,
    "start_time": "2024-08-08T14:19:40.794Z"
   },
   {
    "duration": 5,
    "start_time": "2024-08-08T14:19:45.901Z"
   },
   {
    "duration": 6,
    "start_time": "2024-08-08T14:19:50.634Z"
   },
   {
    "duration": 524,
    "start_time": "2024-08-08T14:19:52.517Z"
   },
   {
    "duration": 6,
    "start_time": "2024-08-08T14:22:22.464Z"
   },
   {
    "duration": 11,
    "start_time": "2024-08-08T14:22:24.719Z"
   },
   {
    "duration": 6,
    "start_time": "2024-08-08T14:22:30.512Z"
   },
   {
    "duration": 526,
    "start_time": "2024-08-08T14:22:32.368Z"
   },
   {
    "duration": 6,
    "start_time": "2024-08-08T14:22:42.628Z"
   },
   {
    "duration": 531,
    "start_time": "2024-08-08T14:22:44.020Z"
   },
   {
    "duration": 7,
    "start_time": "2024-08-08T14:22:57.740Z"
   },
   {
    "duration": 622,
    "start_time": "2024-08-08T14:23:00.309Z"
   },
   {
    "duration": 5,
    "start_time": "2024-08-08T14:23:55.879Z"
   },
   {
    "duration": 499,
    "start_time": "2024-08-08T14:23:57.748Z"
   },
   {
    "duration": 6,
    "start_time": "2024-08-08T14:24:06.141Z"
   },
   {
    "duration": 497,
    "start_time": "2024-08-08T14:24:07.863Z"
   },
   {
    "duration": 5,
    "start_time": "2024-08-08T14:24:52.942Z"
   },
   {
    "duration": 496,
    "start_time": "2024-08-08T14:25:11.132Z"
   },
   {
    "duration": 5,
    "start_time": "2024-08-08T14:28:02.585Z"
   },
   {
    "duration": 514,
    "start_time": "2024-08-08T14:28:04.142Z"
   },
   {
    "duration": 6,
    "start_time": "2024-08-08T14:28:21.443Z"
   },
   {
    "duration": 402,
    "start_time": "2024-08-08T14:28:22.912Z"
   },
   {
    "duration": 404,
    "start_time": "2024-08-08T14:29:23.065Z"
   },
   {
    "duration": 349,
    "start_time": "2024-08-08T14:34:57.937Z"
   },
   {
    "duration": 12,
    "start_time": "2024-08-08T15:34:51.520Z"
   },
   {
    "duration": 8,
    "start_time": "2024-08-08T15:35:45.857Z"
   },
   {
    "duration": 10,
    "start_time": "2024-08-08T15:38:49.344Z"
   },
   {
    "duration": 11,
    "start_time": "2024-08-08T15:39:12.183Z"
   },
   {
    "duration": 4,
    "start_time": "2024-08-08T15:39:22.819Z"
   },
   {
    "duration": 10,
    "start_time": "2024-08-08T15:40:13.546Z"
   },
   {
    "duration": 4,
    "start_time": "2024-08-08T15:40:26.771Z"
   },
   {
    "duration": 8,
    "start_time": "2024-08-08T15:41:20.404Z"
   },
   {
    "duration": 11,
    "start_time": "2024-08-08T15:41:27.953Z"
   },
   {
    "duration": 5,
    "start_time": "2024-08-08T15:41:30.389Z"
   },
   {
    "duration": 6,
    "start_time": "2024-08-08T15:41:32.813Z"
   },
   {
    "duration": 11,
    "start_time": "2024-08-08T15:41:54.799Z"
   },
   {
    "duration": 5,
    "start_time": "2024-08-08T15:41:57.309Z"
   },
   {
    "duration": 5,
    "start_time": "2024-08-08T15:41:59.737Z"
   },
   {
    "duration": 13,
    "start_time": "2024-08-08T15:42:40.798Z"
   },
   {
    "duration": 14,
    "start_time": "2024-08-08T15:46:22.679Z"
   },
   {
    "duration": 13,
    "start_time": "2024-08-08T15:46:34.071Z"
   },
   {
    "duration": 12,
    "start_time": "2024-08-08T15:46:43.155Z"
   },
   {
    "duration": 12,
    "start_time": "2024-08-08T15:46:52.608Z"
   },
   {
    "duration": 10,
    "start_time": "2024-08-08T15:47:09.238Z"
   },
   {
    "duration": 12,
    "start_time": "2024-08-08T15:51:30.533Z"
   },
   {
    "duration": 11,
    "start_time": "2024-08-08T16:15:44.350Z"
   },
   {
    "duration": 11,
    "start_time": "2024-08-08T16:18:58.147Z"
   },
   {
    "duration": 11,
    "start_time": "2024-08-08T16:19:05.018Z"
   },
   {
    "duration": 12,
    "start_time": "2024-08-08T16:19:50.598Z"
   },
   {
    "duration": 12,
    "start_time": "2024-08-08T16:33:22.789Z"
   },
   {
    "duration": 10,
    "start_time": "2024-08-08T16:33:35.595Z"
   },
   {
    "duration": 10,
    "start_time": "2024-08-08T16:37:31.345Z"
   },
   {
    "duration": 10,
    "start_time": "2024-08-08T16:38:19.881Z"
   },
   {
    "duration": 11,
    "start_time": "2024-08-08T16:54:04.575Z"
   },
   {
    "duration": 21,
    "start_time": "2024-08-08T16:56:52.918Z"
   },
   {
    "duration": 49,
    "start_time": "2024-08-09T06:57:12.952Z"
   },
   {
    "duration": 4448,
    "start_time": "2024-08-09T06:57:21.319Z"
   },
   {
    "duration": 253,
    "start_time": "2024-08-09T06:57:25.769Z"
   },
   {
    "duration": 16,
    "start_time": "2024-08-09T06:57:26.023Z"
   },
   {
    "duration": 905,
    "start_time": "2024-08-09T06:57:26.041Z"
   },
   {
    "duration": 15,
    "start_time": "2024-08-09T06:57:26.948Z"
   },
   {
    "duration": 59,
    "start_time": "2024-08-09T06:57:26.965Z"
   },
   {
    "duration": 10,
    "start_time": "2024-08-09T06:57:27.025Z"
   },
   {
    "duration": 20,
    "start_time": "2024-08-09T06:57:27.037Z"
   },
   {
    "duration": 3300,
    "start_time": "2024-08-09T06:57:27.058Z"
   },
   {
    "duration": 5,
    "start_time": "2024-08-09T06:57:30.360Z"
   },
   {
    "duration": 105,
    "start_time": "2024-08-09T06:57:30.366Z"
   },
   {
    "duration": 35,
    "start_time": "2024-08-09T06:57:30.472Z"
   },
   {
    "duration": 88,
    "start_time": "2024-08-09T06:57:30.509Z"
   },
   {
    "duration": 71,
    "start_time": "2024-08-09T06:57:30.599Z"
   },
   {
    "duration": 33,
    "start_time": "2024-08-09T06:57:30.672Z"
   },
   {
    "duration": 61,
    "start_time": "2024-08-09T06:57:30.707Z"
   },
   {
    "duration": 45,
    "start_time": "2024-08-09T06:57:30.769Z"
   },
   {
    "duration": 142,
    "start_time": "2024-08-09T06:57:30.815Z"
   },
   {
    "duration": 138,
    "start_time": "2024-08-09T06:57:30.958Z"
   },
   {
    "duration": 735,
    "start_time": "2024-08-09T06:57:31.098Z"
   },
   {
    "duration": 201,
    "start_time": "2024-08-09T06:57:31.834Z"
   },
   {
    "duration": 306,
    "start_time": "2024-08-09T06:57:32.037Z"
   },
   {
    "duration": 18,
    "start_time": "2024-08-09T06:57:32.345Z"
   },
   {
    "duration": 416,
    "start_time": "2024-08-09T06:57:32.365Z"
   },
   {
    "duration": 17,
    "start_time": "2024-08-09T06:57:32.782Z"
   },
   {
    "duration": 16,
    "start_time": "2024-08-09T06:57:32.800Z"
   },
   {
    "duration": 7,
    "start_time": "2024-08-09T06:57:32.818Z"
   },
   {
    "duration": 30,
    "start_time": "2024-08-09T06:57:32.829Z"
   },
   {
    "duration": 7,
    "start_time": "2024-08-09T06:57:32.860Z"
   },
   {
    "duration": 413,
    "start_time": "2024-08-09T06:57:32.868Z"
   },
   {
    "duration": 248,
    "start_time": "2024-08-09T06:57:33.282Z"
   },
   {
    "duration": 393,
    "start_time": "2024-08-09T06:57:33.531Z"
   },
   {
    "duration": 305,
    "start_time": "2024-08-09T06:57:33.926Z"
   },
   {
    "duration": 252,
    "start_time": "2024-08-09T06:57:34.232Z"
   },
   {
    "duration": 13,
    "start_time": "2024-08-09T06:57:34.486Z"
   },
   {
    "duration": 257,
    "start_time": "2024-08-09T06:57:34.501Z"
   },
   {
    "duration": 109,
    "start_time": "2024-08-09T06:57:34.760Z"
   },
   {
    "duration": 0,
    "start_time": "2024-08-09T06:57:34.871Z"
   },
   {
    "duration": 0,
    "start_time": "2024-08-09T06:57:34.873Z"
   },
   {
    "duration": 0,
    "start_time": "2024-08-09T06:57:34.875Z"
   },
   {
    "duration": 0,
    "start_time": "2024-08-09T06:57:34.876Z"
   },
   {
    "duration": 0,
    "start_time": "2024-08-09T06:57:34.877Z"
   },
   {
    "duration": 0,
    "start_time": "2024-08-09T06:57:34.879Z"
   },
   {
    "duration": 0,
    "start_time": "2024-08-09T06:57:34.896Z"
   },
   {
    "duration": 0,
    "start_time": "2024-08-09T06:57:34.898Z"
   },
   {
    "duration": 0,
    "start_time": "2024-08-09T06:57:34.899Z"
   },
   {
    "duration": 11,
    "start_time": "2024-08-09T06:59:53.375Z"
   },
   {
    "duration": 1142,
    "start_time": "2024-08-09T07:00:03.794Z"
   },
   {
    "duration": 3764,
    "start_time": "2024-08-09T07:00:54.046Z"
   },
   {
    "duration": 75,
    "start_time": "2024-08-09T07:00:57.812Z"
   },
   {
    "duration": 15,
    "start_time": "2024-08-09T07:00:57.889Z"
   },
   {
    "duration": 864,
    "start_time": "2024-08-09T07:00:57.906Z"
   },
   {
    "duration": 16,
    "start_time": "2024-08-09T07:00:58.772Z"
   },
   {
    "duration": 22,
    "start_time": "2024-08-09T07:00:58.796Z"
   },
   {
    "duration": 11,
    "start_time": "2024-08-09T07:00:58.820Z"
   },
   {
    "duration": 21,
    "start_time": "2024-08-09T07:00:58.833Z"
   },
   {
    "duration": 3414,
    "start_time": "2024-08-09T07:00:58.855Z"
   },
   {
    "duration": 5,
    "start_time": "2024-08-09T07:01:02.271Z"
   },
   {
    "duration": 19,
    "start_time": "2024-08-09T07:01:02.277Z"
   },
   {
    "duration": 34,
    "start_time": "2024-08-09T07:01:02.297Z"
   },
   {
    "duration": 43,
    "start_time": "2024-08-09T07:01:02.333Z"
   },
   {
    "duration": 8,
    "start_time": "2024-08-09T07:01:02.378Z"
   },
   {
    "duration": 54,
    "start_time": "2024-08-09T07:01:02.388Z"
   },
   {
    "duration": 26,
    "start_time": "2024-08-09T07:01:02.444Z"
   },
   {
    "duration": 16,
    "start_time": "2024-08-09T07:01:02.471Z"
   },
   {
    "duration": 38,
    "start_time": "2024-08-09T07:01:02.489Z"
   },
   {
    "duration": 5,
    "start_time": "2024-08-09T07:01:02.528Z"
   },
   {
    "duration": 795,
    "start_time": "2024-08-09T07:01:02.534Z"
   },
   {
    "duration": 205,
    "start_time": "2024-08-09T07:01:03.331Z"
   },
   {
    "duration": 299,
    "start_time": "2024-08-09T07:01:03.537Z"
   },
   {
    "duration": 18,
    "start_time": "2024-08-09T07:01:03.838Z"
   },
   {
    "duration": 415,
    "start_time": "2024-08-09T07:01:03.857Z"
   },
   {
    "duration": 17,
    "start_time": "2024-08-09T07:01:04.274Z"
   },
   {
    "duration": 49,
    "start_time": "2024-08-09T07:01:04.293Z"
   },
   {
    "duration": 7,
    "start_time": "2024-08-09T07:01:04.343Z"
   },
   {
    "duration": 31,
    "start_time": "2024-08-09T07:01:04.353Z"
   },
   {
    "duration": 6,
    "start_time": "2024-08-09T07:01:04.386Z"
   },
   {
    "duration": 335,
    "start_time": "2024-08-09T07:01:04.393Z"
   },
   {
    "duration": 245,
    "start_time": "2024-08-09T07:01:04.729Z"
   },
   {
    "duration": 435,
    "start_time": "2024-08-09T07:01:04.976Z"
   },
   {
    "duration": 334,
    "start_time": "2024-08-09T07:01:05.413Z"
   },
   {
    "duration": 271,
    "start_time": "2024-08-09T07:01:05.749Z"
   },
   {
    "duration": 9,
    "start_time": "2024-08-09T07:01:06.021Z"
   },
   {
    "duration": 271,
    "start_time": "2024-08-09T07:01:06.032Z"
   },
   {
    "duration": 12,
    "start_time": "2024-08-09T07:01:06.304Z"
   },
   {
    "duration": 1150,
    "start_time": "2024-08-09T07:01:06.318Z"
   },
   {
    "duration": 13,
    "start_time": "2024-08-09T07:01:07.469Z"
   },
   {
    "duration": 258,
    "start_time": "2024-08-09T07:01:07.496Z"
   },
   {
    "duration": 6,
    "start_time": "2024-08-09T07:01:07.756Z"
   },
   {
    "duration": 501,
    "start_time": "2024-08-09T07:01:07.763Z"
   },
   {
    "duration": 415,
    "start_time": "2024-08-09T07:01:08.265Z"
   },
   {
    "duration": 374,
    "start_time": "2024-08-09T07:01:08.682Z"
   },
   {
    "duration": 13,
    "start_time": "2024-08-09T07:01:09.058Z"
   },
   {
    "duration": 29,
    "start_time": "2024-08-09T07:01:09.072Z"
   },
   {
    "duration": 46,
    "start_time": "2024-08-09T07:18:57.988Z"
   },
   {
    "duration": 7,
    "start_time": "2024-08-09T07:30:02.883Z"
   },
   {
    "duration": 5,
    "start_time": "2024-08-09T07:30:06.641Z"
   },
   {
    "duration": 8,
    "start_time": "2024-08-09T07:31:46.853Z"
   },
   {
    "duration": 7,
    "start_time": "2024-08-09T07:32:12.389Z"
   },
   {
    "duration": 71,
    "start_time": "2024-08-09T08:19:42.324Z"
   },
   {
    "duration": 4,
    "start_time": "2024-08-09T08:39:04.612Z"
   },
   {
    "duration": 47,
    "start_time": "2024-08-09T08:39:08.124Z"
   },
   {
    "duration": 5,
    "start_time": "2024-08-09T08:39:15.029Z"
   },
   {
    "duration": 14,
    "start_time": "2024-08-09T08:39:44.033Z"
   },
   {
    "duration": 11,
    "start_time": "2024-08-09T08:40:04.393Z"
   },
   {
    "duration": 4523,
    "start_time": "2024-08-09T12:16:08.390Z"
   },
   {
    "duration": 219,
    "start_time": "2024-08-09T12:16:12.915Z"
   },
   {
    "duration": 15,
    "start_time": "2024-08-09T12:16:13.136Z"
   },
   {
    "duration": 768,
    "start_time": "2024-08-09T12:16:13.153Z"
   },
   {
    "duration": 14,
    "start_time": "2024-08-09T12:16:13.923Z"
   },
   {
    "duration": 42,
    "start_time": "2024-08-09T12:16:13.939Z"
   },
   {
    "duration": 11,
    "start_time": "2024-08-09T12:16:13.983Z"
   },
   {
    "duration": 20,
    "start_time": "2024-08-09T12:16:13.995Z"
   },
   {
    "duration": 3310,
    "start_time": "2024-08-09T12:16:14.016Z"
   },
   {
    "duration": 5,
    "start_time": "2024-08-09T12:16:17.329Z"
   },
   {
    "duration": 10,
    "start_time": "2024-08-09T12:16:17.335Z"
   },
   {
    "duration": 7,
    "start_time": "2024-08-09T12:16:17.347Z"
   },
   {
    "duration": 19,
    "start_time": "2024-08-09T12:16:17.356Z"
   },
   {
    "duration": 23,
    "start_time": "2024-08-09T12:16:17.377Z"
   },
   {
    "duration": 9,
    "start_time": "2024-08-09T12:16:17.402Z"
   },
   {
    "duration": 21,
    "start_time": "2024-08-09T12:16:17.412Z"
   },
   {
    "duration": 16,
    "start_time": "2024-08-09T12:16:17.435Z"
   },
   {
    "duration": 44,
    "start_time": "2024-08-09T12:16:17.453Z"
   },
   {
    "duration": 5,
    "start_time": "2024-08-09T12:16:17.498Z"
   },
   {
    "duration": 737,
    "start_time": "2024-08-09T12:16:17.505Z"
   },
   {
    "duration": 199,
    "start_time": "2024-08-09T12:16:18.244Z"
   },
   {
    "duration": 297,
    "start_time": "2024-08-09T12:16:18.444Z"
   },
   {
    "duration": 19,
    "start_time": "2024-08-09T12:16:18.742Z"
   },
   {
    "duration": 398,
    "start_time": "2024-08-09T12:16:18.763Z"
   },
   {
    "duration": 18,
    "start_time": "2024-08-09T12:16:19.162Z"
   },
   {
    "duration": 15,
    "start_time": "2024-08-09T12:16:19.182Z"
   },
   {
    "duration": 7,
    "start_time": "2024-08-09T12:16:19.198Z"
   },
   {
    "duration": 7,
    "start_time": "2024-08-09T12:16:19.208Z"
   },
   {
    "duration": 12,
    "start_time": "2024-08-09T12:16:19.216Z"
   },
   {
    "duration": 350,
    "start_time": "2024-08-09T12:16:19.230Z"
   },
   {
    "duration": 244,
    "start_time": "2024-08-09T12:16:19.581Z"
   },
   {
    "duration": 402,
    "start_time": "2024-08-09T12:16:19.826Z"
   },
   {
    "duration": 292,
    "start_time": "2024-08-09T12:16:20.229Z"
   },
   {
    "duration": 258,
    "start_time": "2024-08-09T12:16:20.523Z"
   },
   {
    "duration": 19,
    "start_time": "2024-08-09T12:16:20.782Z"
   },
   {
    "duration": 257,
    "start_time": "2024-08-09T12:16:20.802Z"
   },
   {
    "duration": 11,
    "start_time": "2024-08-09T12:16:21.061Z"
   },
   {
    "duration": 1144,
    "start_time": "2024-08-09T12:16:21.074Z"
   },
   {
    "duration": 13,
    "start_time": "2024-08-09T12:16:22.219Z"
   },
   {
    "duration": 277,
    "start_time": "2024-08-09T12:16:22.233Z"
   },
   {
    "duration": 6,
    "start_time": "2024-08-09T12:16:22.513Z"
   },
   {
    "duration": 491,
    "start_time": "2024-08-09T12:16:22.521Z"
   },
   {
    "duration": 399,
    "start_time": "2024-08-09T12:16:23.014Z"
   },
   {
    "duration": 356,
    "start_time": "2024-08-09T12:16:23.415Z"
   },
   {
    "duration": 23,
    "start_time": "2024-08-09T12:16:23.773Z"
   },
   {
    "duration": 13,
    "start_time": "2024-08-09T12:16:23.798Z"
   },
   {
    "duration": 7,
    "start_time": "2024-08-09T12:21:31.499Z"
   },
   {
    "duration": 8,
    "start_time": "2024-08-09T12:21:41.983Z"
   },
   {
    "duration": 4003,
    "start_time": "2024-08-09T12:30:05.103Z"
   },
   {
    "duration": 67,
    "start_time": "2024-08-09T12:30:09.108Z"
   },
   {
    "duration": 14,
    "start_time": "2024-08-09T12:30:09.177Z"
   },
   {
    "duration": 752,
    "start_time": "2024-08-09T12:30:09.192Z"
   },
   {
    "duration": 15,
    "start_time": "2024-08-09T12:30:09.946Z"
   },
   {
    "duration": 94,
    "start_time": "2024-08-09T12:30:09.962Z"
   },
   {
    "duration": 16,
    "start_time": "2024-08-09T12:30:10.057Z"
   },
   {
    "duration": 36,
    "start_time": "2024-08-09T12:30:10.074Z"
   },
   {
    "duration": 3101,
    "start_time": "2024-08-09T12:30:10.112Z"
   },
   {
    "duration": 5,
    "start_time": "2024-08-09T12:30:13.215Z"
   },
   {
    "duration": 18,
    "start_time": "2024-08-09T12:30:13.221Z"
   },
   {
    "duration": 10,
    "start_time": "2024-08-09T12:30:13.241Z"
   },
   {
    "duration": 16,
    "start_time": "2024-08-09T12:30:13.252Z"
   },
   {
    "duration": 6,
    "start_time": "2024-08-09T12:30:13.271Z"
   },
   {
    "duration": 24,
    "start_time": "2024-08-09T12:30:13.278Z"
   },
   {
    "duration": 33,
    "start_time": "2024-08-09T12:30:13.304Z"
   },
   {
    "duration": 18,
    "start_time": "2024-08-09T12:30:13.338Z"
   },
   {
    "duration": 18,
    "start_time": "2024-08-09T12:30:13.358Z"
   },
   {
    "duration": 21,
    "start_time": "2024-08-09T12:30:13.378Z"
   },
   {
    "duration": 724,
    "start_time": "2024-08-09T12:30:13.400Z"
   },
   {
    "duration": 193,
    "start_time": "2024-08-09T12:30:14.125Z"
   },
   {
    "duration": 287,
    "start_time": "2024-08-09T12:30:14.320Z"
   },
   {
    "duration": 17,
    "start_time": "2024-08-09T12:30:14.608Z"
   },
   {
    "duration": 382,
    "start_time": "2024-08-09T12:30:14.627Z"
   },
   {
    "duration": 16,
    "start_time": "2024-08-09T12:30:15.010Z"
   },
   {
    "duration": 58,
    "start_time": "2024-08-09T12:30:15.028Z"
   },
   {
    "duration": 24,
    "start_time": "2024-08-09T12:30:15.088Z"
   },
   {
    "duration": 20,
    "start_time": "2024-08-09T12:30:15.114Z"
   },
   {
    "duration": 12,
    "start_time": "2024-08-09T12:30:15.135Z"
   },
   {
    "duration": 8,
    "start_time": "2024-08-09T12:30:15.148Z"
   },
   {
    "duration": 384,
    "start_time": "2024-08-09T12:30:15.157Z"
   },
   {
    "duration": 269,
    "start_time": "2024-08-09T12:30:15.543Z"
   },
   {
    "duration": 388,
    "start_time": "2024-08-09T12:30:15.814Z"
   },
   {
    "duration": 293,
    "start_time": "2024-08-09T12:30:16.203Z"
   },
   {
    "duration": 252,
    "start_time": "2024-08-09T12:30:16.497Z"
   },
   {
    "duration": 10,
    "start_time": "2024-08-09T12:30:16.751Z"
   },
   {
    "duration": 284,
    "start_time": "2024-08-09T12:30:16.763Z"
   },
   {
    "duration": 12,
    "start_time": "2024-08-09T12:30:17.049Z"
   },
   {
    "duration": 1154,
    "start_time": "2024-08-09T12:30:17.062Z"
   },
   {
    "duration": 13,
    "start_time": "2024-08-09T12:30:18.218Z"
   },
   {
    "duration": 267,
    "start_time": "2024-08-09T12:30:18.234Z"
   },
   {
    "duration": 6,
    "start_time": "2024-08-09T12:30:18.502Z"
   },
   {
    "duration": 470,
    "start_time": "2024-08-09T12:30:18.510Z"
   },
   {
    "duration": 391,
    "start_time": "2024-08-09T12:30:18.982Z"
   },
   {
    "duration": 355,
    "start_time": "2024-08-09T12:30:19.374Z"
   },
   {
    "duration": 11,
    "start_time": "2024-08-09T12:30:19.730Z"
   },
   {
    "duration": 15,
    "start_time": "2024-08-09T12:30:19.744Z"
   },
   {
    "duration": 4837,
    "start_time": "2024-08-09T14:18:01.151Z"
   },
   {
    "duration": 203,
    "start_time": "2024-08-09T14:18:05.993Z"
   },
   {
    "duration": 16,
    "start_time": "2024-08-09T14:18:06.197Z"
   },
   {
    "duration": 899,
    "start_time": "2024-08-09T14:18:06.217Z"
   },
   {
    "duration": 17,
    "start_time": "2024-08-09T14:18:07.118Z"
   },
   {
    "duration": 30,
    "start_time": "2024-08-09T14:18:07.137Z"
   },
   {
    "duration": 13,
    "start_time": "2024-08-09T14:18:07.169Z"
   },
   {
    "duration": 25,
    "start_time": "2024-08-09T14:18:07.184Z"
   },
   {
    "duration": 75,
    "start_time": "2024-08-09T14:21:25.071Z"
   },
   {
    "duration": 69,
    "start_time": "2024-08-09T14:22:27.183Z"
   },
   {
    "duration": 12,
    "start_time": "2024-08-09T14:22:44.650Z"
   },
   {
    "duration": 15,
    "start_time": "2024-08-09T14:23:55.098Z"
   },
   {
    "duration": 38,
    "start_time": "2024-08-09T14:24:21.106Z"
   },
   {
    "duration": 17,
    "start_time": "2024-08-09T14:24:49.255Z"
   },
   {
    "duration": 17,
    "start_time": "2024-08-09T14:24:52.134Z"
   },
   {
    "duration": 20,
    "start_time": "2024-08-09T14:25:58.911Z"
   },
   {
    "duration": 13,
    "start_time": "2024-08-09T14:26:09.863Z"
   },
   {
    "duration": 10,
    "start_time": "2024-08-09T14:34:03.994Z"
   },
   {
    "duration": 8,
    "start_time": "2024-08-09T14:38:49.251Z"
   },
   {
    "duration": 107,
    "start_time": "2024-08-09T14:39:19.766Z"
   },
   {
    "duration": 334,
    "start_time": "2024-08-09T14:39:31.448Z"
   },
   {
    "duration": 3766,
    "start_time": "2024-08-09T14:39:45.512Z"
   },
   {
    "duration": 71,
    "start_time": "2024-08-09T14:39:49.279Z"
   },
   {
    "duration": 16,
    "start_time": "2024-08-09T14:39:49.351Z"
   },
   {
    "duration": 941,
    "start_time": "2024-08-09T14:39:49.369Z"
   },
   {
    "duration": 15,
    "start_time": "2024-08-09T14:39:50.312Z"
   },
   {
    "duration": 30,
    "start_time": "2024-08-09T14:39:50.328Z"
   },
   {
    "duration": 10,
    "start_time": "2024-08-09T14:39:50.359Z"
   },
   {
    "duration": 22,
    "start_time": "2024-08-09T14:39:50.371Z"
   },
   {
    "duration": 12,
    "start_time": "2024-08-09T14:39:50.395Z"
   },
   {
    "duration": 8,
    "start_time": "2024-08-09T14:39:50.409Z"
   },
   {
    "duration": 47,
    "start_time": "2024-08-09T14:39:50.419Z"
   },
   {
    "duration": 10,
    "start_time": "2024-08-09T14:39:50.467Z"
   },
   {
    "duration": 20,
    "start_time": "2024-08-09T14:39:50.478Z"
   },
   {
    "duration": 7,
    "start_time": "2024-08-09T14:39:50.499Z"
   },
   {
    "duration": 16,
    "start_time": "2024-08-09T14:39:50.508Z"
   },
   {
    "duration": 49,
    "start_time": "2024-08-09T14:39:50.525Z"
   },
   {
    "duration": 16,
    "start_time": "2024-08-09T14:39:50.576Z"
   },
   {
    "duration": 18,
    "start_time": "2024-08-09T14:39:50.594Z"
   },
   {
    "duration": 5,
    "start_time": "2024-08-09T14:39:50.614Z"
   },
   {
    "duration": 34,
    "start_time": "2024-08-09T14:39:50.620Z"
   },
   {
    "duration": 749,
    "start_time": "2024-08-09T14:39:50.656Z"
   },
   {
    "duration": 212,
    "start_time": "2024-08-09T14:39:51.406Z"
   },
   {
    "duration": 326,
    "start_time": "2024-08-09T14:39:51.619Z"
   },
   {
    "duration": 368,
    "start_time": "2024-08-09T14:39:51.946Z"
   },
   {
    "duration": 20,
    "start_time": "2024-08-09T14:39:52.316Z"
   },
   {
    "duration": 510,
    "start_time": "2024-08-09T14:39:52.337Z"
   },
   {
    "duration": 101,
    "start_time": "2024-08-09T14:39:52.849Z"
   },
   {
    "duration": 10,
    "start_time": "2024-08-09T14:39:52.955Z"
   },
   {
    "duration": 25,
    "start_time": "2024-08-09T14:39:52.967Z"
   },
   {
    "duration": 7,
    "start_time": "2024-08-09T14:39:52.994Z"
   },
   {
    "duration": 12,
    "start_time": "2024-08-09T14:39:53.003Z"
   },
   {
    "duration": 111,
    "start_time": "2024-08-09T14:39:53.017Z"
   },
   {
    "duration": 424,
    "start_time": "2024-08-09T14:39:53.130Z"
   },
   {
    "duration": 236,
    "start_time": "2024-08-09T14:39:53.557Z"
   },
   {
    "duration": 322,
    "start_time": "2024-08-09T14:39:53.795Z"
   },
   {
    "duration": 537,
    "start_time": "2024-08-09T14:39:54.118Z"
   },
   {
    "duration": 505,
    "start_time": "2024-08-09T14:39:54.657Z"
   },
   {
    "duration": 10,
    "start_time": "2024-08-09T14:39:55.163Z"
   },
   {
    "duration": 585,
    "start_time": "2024-08-09T14:39:55.174Z"
   },
   {
    "duration": 12,
    "start_time": "2024-08-09T14:39:55.760Z"
   },
   {
    "duration": 1146,
    "start_time": "2024-08-09T14:39:55.774Z"
   },
   {
    "duration": 13,
    "start_time": "2024-08-09T14:39:56.922Z"
   },
   {
    "duration": 269,
    "start_time": "2024-08-09T14:39:56.937Z"
   },
   {
    "duration": 9,
    "start_time": "2024-08-09T14:39:57.208Z"
   },
   {
    "duration": 521,
    "start_time": "2024-08-09T14:39:57.219Z"
   },
   {
    "duration": 416,
    "start_time": "2024-08-09T14:39:57.743Z"
   },
   {
    "duration": 411,
    "start_time": "2024-08-09T14:39:58.161Z"
   },
   {
    "duration": 13,
    "start_time": "2024-08-09T14:39:58.574Z"
   },
   {
    "duration": 12,
    "start_time": "2024-08-09T14:39:58.589Z"
   },
   {
    "duration": 9,
    "start_time": "2024-08-09T14:40:44.884Z"
   },
   {
    "duration": 15,
    "start_time": "2024-08-09T14:40:50.054Z"
   },
   {
    "duration": 3889,
    "start_time": "2024-08-09T14:41:30.201Z"
   },
   {
    "duration": 73,
    "start_time": "2024-08-09T14:41:34.092Z"
   },
   {
    "duration": 16,
    "start_time": "2024-08-09T14:41:34.167Z"
   },
   {
    "duration": 931,
    "start_time": "2024-08-09T14:41:34.185Z"
   },
   {
    "duration": 16,
    "start_time": "2024-08-09T14:41:35.117Z"
   },
   {
    "duration": 74,
    "start_time": "2024-08-09T14:41:35.135Z"
   },
   {
    "duration": 19,
    "start_time": "2024-08-09T14:41:35.211Z"
   },
   {
    "duration": 23,
    "start_time": "2024-08-09T14:41:35.231Z"
   },
   {
    "duration": 13,
    "start_time": "2024-08-09T14:41:35.255Z"
   },
   {
    "duration": 8,
    "start_time": "2024-08-09T14:41:35.271Z"
   },
   {
    "duration": 20,
    "start_time": "2024-08-09T14:41:35.281Z"
   },
   {
    "duration": 49,
    "start_time": "2024-08-09T14:41:35.304Z"
   },
   {
    "duration": 26,
    "start_time": "2024-08-09T14:41:35.356Z"
   },
   {
    "duration": 7,
    "start_time": "2024-08-09T14:41:35.384Z"
   },
   {
    "duration": 33,
    "start_time": "2024-08-09T14:41:35.393Z"
   },
   {
    "duration": 70,
    "start_time": "2024-08-09T14:41:35.428Z"
   },
   {
    "duration": 36,
    "start_time": "2024-08-09T14:41:35.501Z"
   },
   {
    "duration": 19,
    "start_time": "2024-08-09T14:41:35.539Z"
   },
   {
    "duration": 95,
    "start_time": "2024-08-09T14:41:35.560Z"
   },
   {
    "duration": 24,
    "start_time": "2024-08-09T14:41:35.656Z"
   },
   {
    "duration": 734,
    "start_time": "2024-08-09T14:41:35.682Z"
   },
   {
    "duration": 216,
    "start_time": "2024-08-09T14:41:36.418Z"
   },
   {
    "duration": 354,
    "start_time": "2024-08-09T14:41:36.636Z"
   },
   {
    "duration": 350,
    "start_time": "2024-08-09T14:41:36.992Z"
   },
   {
    "duration": 23,
    "start_time": "2024-08-09T14:41:37.344Z"
   },
   {
    "duration": 447,
    "start_time": "2024-08-09T14:41:37.369Z"
   },
   {
    "duration": 111,
    "start_time": "2024-08-09T14:41:37.818Z"
   },
   {
    "duration": 10,
    "start_time": "2024-08-09T14:41:37.932Z"
   },
   {
    "duration": 22,
    "start_time": "2024-08-09T14:41:37.954Z"
   },
   {
    "duration": 36,
    "start_time": "2024-08-09T14:41:37.978Z"
   },
   {
    "duration": 14,
    "start_time": "2024-08-09T14:41:38.015Z"
   },
   {
    "duration": 21,
    "start_time": "2024-08-09T14:41:38.031Z"
   },
   {
    "duration": 360,
    "start_time": "2024-08-09T14:41:38.055Z"
   },
   {
    "duration": 290,
    "start_time": "2024-08-09T14:41:38.417Z"
   },
   {
    "duration": 332,
    "start_time": "2024-08-09T14:41:38.708Z"
   },
   {
    "duration": 311,
    "start_time": "2024-08-09T14:41:39.042Z"
   },
   {
    "duration": 286,
    "start_time": "2024-08-09T14:41:39.355Z"
   },
   {
    "duration": 20,
    "start_time": "2024-08-09T14:41:39.643Z"
   },
   {
    "duration": 276,
    "start_time": "2024-08-09T14:41:39.666Z"
   },
   {
    "duration": 21,
    "start_time": "2024-08-09T14:41:39.943Z"
   },
   {
    "duration": 1172,
    "start_time": "2024-08-09T14:41:39.966Z"
   },
   {
    "duration": 22,
    "start_time": "2024-08-09T14:41:41.140Z"
   },
   {
    "duration": 298,
    "start_time": "2024-08-09T14:41:41.164Z"
   },
   {
    "duration": 8,
    "start_time": "2024-08-09T14:41:41.464Z"
   },
   {
    "duration": 513,
    "start_time": "2024-08-09T14:41:41.474Z"
   },
   {
    "duration": 429,
    "start_time": "2024-08-09T14:41:41.988Z"
   },
   {
    "duration": 426,
    "start_time": "2024-08-09T14:41:42.420Z"
   },
   {
    "duration": 16,
    "start_time": "2024-08-09T14:41:42.847Z"
   },
   {
    "duration": 12,
    "start_time": "2024-08-09T14:41:42.865Z"
   },
   {
    "duration": 9,
    "start_time": "2024-08-09T14:43:23.057Z"
   },
   {
    "duration": 12,
    "start_time": "2024-08-09T14:43:28.827Z"
   },
   {
    "duration": 9,
    "start_time": "2024-08-09T14:43:39.163Z"
   },
   {
    "duration": 60,
    "start_time": "2024-08-09T14:43:48.534Z"
   },
   {
    "duration": 3879,
    "start_time": "2024-08-09T14:44:05.819Z"
   },
   {
    "duration": 159,
    "start_time": "2024-08-09T14:44:09.700Z"
   },
   {
    "duration": 27,
    "start_time": "2024-08-09T14:44:09.861Z"
   },
   {
    "duration": 1372,
    "start_time": "2024-08-09T14:44:09.891Z"
   },
   {
    "duration": 16,
    "start_time": "2024-08-09T14:44:11.265Z"
   },
   {
    "duration": 72,
    "start_time": "2024-08-09T14:44:11.283Z"
   },
   {
    "duration": 16,
    "start_time": "2024-08-09T14:44:11.357Z"
   },
   {
    "duration": 90,
    "start_time": "2024-08-09T14:44:11.375Z"
   },
   {
    "duration": 12,
    "start_time": "2024-08-09T14:44:11.468Z"
   },
   {
    "duration": 8,
    "start_time": "2024-08-09T14:44:11.483Z"
   },
   {
    "duration": 72,
    "start_time": "2024-08-09T14:44:11.492Z"
   },
   {
    "duration": 27,
    "start_time": "2024-08-09T14:44:11.566Z"
   },
   {
    "duration": 76,
    "start_time": "2024-08-09T14:44:11.595Z"
   },
   {
    "duration": 8,
    "start_time": "2024-08-09T14:44:11.673Z"
   },
   {
    "duration": 24,
    "start_time": "2024-08-09T14:44:11.683Z"
   },
   {
    "duration": 50,
    "start_time": "2024-08-09T14:44:11.709Z"
   },
   {
    "duration": 23,
    "start_time": "2024-08-09T14:44:11.761Z"
   },
   {
    "duration": 18,
    "start_time": "2024-08-09T14:44:11.785Z"
   },
   {
    "duration": 6,
    "start_time": "2024-08-09T14:44:11.804Z"
   },
   {
    "duration": 8,
    "start_time": "2024-08-09T14:44:11.812Z"
   },
   {
    "duration": 774,
    "start_time": "2024-08-09T14:44:11.854Z"
   },
   {
    "duration": 226,
    "start_time": "2024-08-09T14:44:12.630Z"
   },
   {
    "duration": 372,
    "start_time": "2024-08-09T14:44:12.858Z"
   },
   {
    "duration": 322,
    "start_time": "2024-08-09T14:44:13.232Z"
   },
   {
    "duration": 18,
    "start_time": "2024-08-09T14:44:13.556Z"
   },
   {
    "duration": 439,
    "start_time": "2024-08-09T14:44:13.576Z"
   },
   {
    "duration": 98,
    "start_time": "2024-08-09T14:44:14.017Z"
   },
   {
    "duration": 8,
    "start_time": "2024-08-09T14:44:14.120Z"
   },
   {
    "duration": 31,
    "start_time": "2024-08-09T14:44:14.129Z"
   },
   {
    "duration": 8,
    "start_time": "2024-08-09T14:44:14.162Z"
   },
   {
    "duration": 15,
    "start_time": "2024-08-09T14:44:14.171Z"
   },
   {
    "duration": 8,
    "start_time": "2024-08-09T14:44:14.188Z"
   },
   {
    "duration": 403,
    "start_time": "2024-08-09T14:44:14.198Z"
   },
   {
    "duration": 253,
    "start_time": "2024-08-09T14:44:14.603Z"
   },
   {
    "duration": 344,
    "start_time": "2024-08-09T14:44:14.858Z"
   },
   {
    "duration": 313,
    "start_time": "2024-08-09T14:44:15.204Z"
   },
   {
    "duration": 270,
    "start_time": "2024-08-09T14:44:15.519Z"
   },
   {
    "duration": 11,
    "start_time": "2024-08-09T14:44:15.791Z"
   },
   {
    "duration": 276,
    "start_time": "2024-08-09T14:44:15.804Z"
   },
   {
    "duration": 19,
    "start_time": "2024-08-09T14:44:16.082Z"
   },
   {
    "duration": 1214,
    "start_time": "2024-08-09T14:44:16.103Z"
   },
   {
    "duration": 16,
    "start_time": "2024-08-09T14:44:17.319Z"
   },
   {
    "duration": 277,
    "start_time": "2024-08-09T14:44:17.336Z"
   },
   {
    "duration": 6,
    "start_time": "2024-08-09T14:44:17.614Z"
   },
   {
    "duration": 520,
    "start_time": "2024-08-09T14:44:17.622Z"
   },
   {
    "duration": 427,
    "start_time": "2024-08-09T14:44:18.144Z"
   },
   {
    "duration": 380,
    "start_time": "2024-08-09T14:44:18.573Z"
   },
   {
    "duration": 12,
    "start_time": "2024-08-09T14:44:18.954Z"
   },
   {
    "duration": 39,
    "start_time": "2024-08-09T14:44:18.968Z"
   },
   {
    "duration": 8,
    "start_time": "2024-08-09T14:45:37.811Z"
   },
   {
    "duration": 10,
    "start_time": "2024-08-09T14:45:41.778Z"
   },
   {
    "duration": 19,
    "start_time": "2024-08-09T14:45:45.174Z"
   },
   {
    "duration": 14,
    "start_time": "2024-08-09T14:45:49.828Z"
   },
   {
    "duration": 3978,
    "start_time": "2024-08-09T14:45:57.727Z"
   },
   {
    "duration": 73,
    "start_time": "2024-08-09T14:46:01.707Z"
   },
   {
    "duration": 16,
    "start_time": "2024-08-09T14:46:01.782Z"
   },
   {
    "duration": 822,
    "start_time": "2024-08-09T14:46:01.801Z"
   },
   {
    "duration": 31,
    "start_time": "2024-08-09T14:46:02.624Z"
   },
   {
    "duration": 26,
    "start_time": "2024-08-09T14:46:02.656Z"
   },
   {
    "duration": 14,
    "start_time": "2024-08-09T14:46:02.684Z"
   },
   {
    "duration": 26,
    "start_time": "2024-08-09T14:46:02.700Z"
   },
   {
    "duration": 33,
    "start_time": "2024-08-09T14:46:02.728Z"
   },
   {
    "duration": 13,
    "start_time": "2024-08-09T14:46:02.764Z"
   },
   {
    "duration": 35,
    "start_time": "2024-08-09T14:46:02.779Z"
   },
   {
    "duration": 9,
    "start_time": "2024-08-09T14:46:02.816Z"
   },
   {
    "duration": 33,
    "start_time": "2024-08-09T14:46:02.827Z"
   },
   {
    "duration": 8,
    "start_time": "2024-08-09T14:46:02.862Z"
   },
   {
    "duration": 18,
    "start_time": "2024-08-09T14:46:02.871Z"
   },
   {
    "duration": 47,
    "start_time": "2024-08-09T14:46:02.890Z"
   },
   {
    "duration": 18,
    "start_time": "2024-08-09T14:46:02.938Z"
   },
   {
    "duration": 24,
    "start_time": "2024-08-09T14:46:02.958Z"
   },
   {
    "duration": 6,
    "start_time": "2024-08-09T14:46:02.984Z"
   },
   {
    "duration": 8,
    "start_time": "2024-08-09T14:46:02.991Z"
   },
   {
    "duration": 807,
    "start_time": "2024-08-09T14:46:03.001Z"
   },
   {
    "duration": 203,
    "start_time": "2024-08-09T14:46:03.810Z"
   },
   {
    "duration": 363,
    "start_time": "2024-08-09T14:46:04.014Z"
   },
   {
    "duration": 309,
    "start_time": "2024-08-09T14:46:04.379Z"
   },
   {
    "duration": 20,
    "start_time": "2024-08-09T14:46:04.689Z"
   },
   {
    "duration": 422,
    "start_time": "2024-08-09T14:46:04.710Z"
   },
   {
    "duration": 104,
    "start_time": "2024-08-09T14:46:05.133Z"
   },
   {
    "duration": 15,
    "start_time": "2024-08-09T14:46:05.241Z"
   },
   {
    "duration": 17,
    "start_time": "2024-08-09T14:46:05.257Z"
   },
   {
    "duration": 10,
    "start_time": "2024-08-09T14:46:05.275Z"
   },
   {
    "duration": 9,
    "start_time": "2024-08-09T14:46:05.287Z"
   },
   {
    "duration": 10,
    "start_time": "2024-08-09T14:46:05.298Z"
   },
   {
    "duration": 392,
    "start_time": "2024-08-09T14:46:05.310Z"
   },
   {
    "duration": 254,
    "start_time": "2024-08-09T14:46:05.704Z"
   },
   {
    "duration": 328,
    "start_time": "2024-08-09T14:46:05.959Z"
   },
   {
    "duration": 318,
    "start_time": "2024-08-09T14:46:06.290Z"
   },
   {
    "duration": 284,
    "start_time": "2024-08-09T14:46:06.609Z"
   },
   {
    "duration": 10,
    "start_time": "2024-08-09T14:46:06.895Z"
   },
   {
    "duration": 303,
    "start_time": "2024-08-09T14:46:06.907Z"
   },
   {
    "duration": 19,
    "start_time": "2024-08-09T14:46:07.212Z"
   },
   {
    "duration": 1192,
    "start_time": "2024-08-09T14:46:07.233Z"
   },
   {
    "duration": 14,
    "start_time": "2024-08-09T14:46:08.427Z"
   },
   {
    "duration": 262,
    "start_time": "2024-08-09T14:46:08.453Z"
   },
   {
    "duration": 6,
    "start_time": "2024-08-09T14:46:08.717Z"
   },
   {
    "duration": 494,
    "start_time": "2024-08-09T14:46:08.725Z"
   },
   {
    "duration": 415,
    "start_time": "2024-08-09T14:46:09.220Z"
   },
   {
    "duration": 396,
    "start_time": "2024-08-09T14:46:09.636Z"
   },
   {
    "duration": 22,
    "start_time": "2024-08-09T14:46:10.033Z"
   },
   {
    "duration": 19,
    "start_time": "2024-08-09T14:46:10.056Z"
   },
   {
    "duration": 110,
    "start_time": "2024-08-09T14:47:13.662Z"
   },
   {
    "duration": 17,
    "start_time": "2024-08-09T14:47:28.735Z"
   },
   {
    "duration": 16,
    "start_time": "2024-08-09T14:47:31.691Z"
   },
   {
    "duration": 5,
    "start_time": "2024-08-09T14:47:33.743Z"
   },
   {
    "duration": 12,
    "start_time": "2024-08-09T14:47:43.700Z"
   },
   {
    "duration": 9,
    "start_time": "2024-08-09T14:47:51.995Z"
   },
   {
    "duration": 8,
    "start_time": "2024-08-09T14:48:01.624Z"
   },
   {
    "duration": 18,
    "start_time": "2024-08-09T14:48:03.863Z"
   },
   {
    "duration": 775,
    "start_time": "2024-08-09T14:48:28.910Z"
   },
   {
    "duration": 400,
    "start_time": "2024-08-09T14:49:42.329Z"
   },
   {
    "duration": 360,
    "start_time": "2024-08-09T14:51:01.072Z"
   },
   {
    "duration": 69,
    "start_time": "2024-08-09T14:53:33.675Z"
   },
   {
    "duration": 9,
    "start_time": "2024-08-09T14:54:57.264Z"
   },
   {
    "duration": 19,
    "start_time": "2024-08-09T14:59:00.651Z"
   },
   {
    "duration": 9,
    "start_time": "2024-08-09T14:59:09.889Z"
   },
   {
    "duration": 7,
    "start_time": "2024-08-09T14:59:12.762Z"
   },
   {
    "duration": 8,
    "start_time": "2024-08-09T15:01:08.697Z"
   },
   {
    "duration": 14,
    "start_time": "2024-08-09T15:05:08.279Z"
   },
   {
    "duration": 188,
    "start_time": "2024-08-09T15:09:31.052Z"
   },
   {
    "duration": 234,
    "start_time": "2024-08-09T15:10:59.281Z"
   },
   {
    "duration": 247,
    "start_time": "2024-08-09T15:12:05.934Z"
   },
   {
    "duration": 218,
    "start_time": "2024-08-09T15:13:57.087Z"
   },
   {
    "duration": 249,
    "start_time": "2024-08-09T15:14:22.597Z"
   },
   {
    "duration": 279,
    "start_time": "2024-08-09T15:18:11.922Z"
   },
   {
    "duration": 364,
    "start_time": "2024-08-09T15:22:37.707Z"
   },
   {
    "duration": 298,
    "start_time": "2024-08-09T15:27:42.261Z"
   },
   {
    "duration": 300,
    "start_time": "2024-08-09T15:28:21.815Z"
   },
   {
    "duration": 314,
    "start_time": "2024-08-09T15:28:27.953Z"
   },
   {
    "duration": 302,
    "start_time": "2024-08-09T15:28:32.489Z"
   },
   {
    "duration": 322,
    "start_time": "2024-08-09T15:28:39.386Z"
   },
   {
    "duration": 417,
    "start_time": "2024-08-09T15:29:07.897Z"
   },
   {
    "duration": 278,
    "start_time": "2024-08-09T15:29:31.782Z"
   },
   {
    "duration": 285,
    "start_time": "2024-08-09T15:29:43.590Z"
   },
   {
    "duration": 296,
    "start_time": "2024-08-09T15:29:57.015Z"
   },
   {
    "duration": 86,
    "start_time": "2024-08-09T15:30:34.839Z"
   },
   {
    "duration": 15,
    "start_time": "2024-08-09T15:35:11.279Z"
   },
   {
    "duration": 239,
    "start_time": "2024-08-09T15:35:13.568Z"
   },
   {
    "duration": 211,
    "start_time": "2024-08-09T15:35:53.753Z"
   },
   {
    "duration": 3073,
    "start_time": "2024-08-09T15:37:45.439Z"
   },
   {
    "duration": 4107,
    "start_time": "2024-08-09T15:38:29.995Z"
   },
   {
    "duration": 14,
    "start_time": "2024-08-09T15:39:09.433Z"
   },
   {
    "duration": 11,
    "start_time": "2024-08-09T15:39:11.228Z"
   },
   {
    "duration": 3267,
    "start_time": "2024-08-09T15:39:28.252Z"
   },
   {
    "duration": 14,
    "start_time": "2024-08-09T15:39:37.400Z"
   },
   {
    "duration": 3294,
    "start_time": "2024-08-09T15:39:39.186Z"
   },
   {
    "duration": 5,
    "start_time": "2024-08-09T15:40:46.460Z"
   },
   {
    "duration": 3208,
    "start_time": "2024-08-09T15:40:50.011Z"
   },
   {
    "duration": 228,
    "start_time": "2024-08-09T15:41:05.382Z"
   },
   {
    "duration": 4,
    "start_time": "2024-08-09T15:41:40.430Z"
   },
   {
    "duration": 1047,
    "start_time": "2024-08-09T15:41:43.581Z"
   },
   {
    "duration": 4,
    "start_time": "2024-08-09T15:41:52.687Z"
   },
   {
    "duration": 1488,
    "start_time": "2024-08-09T15:41:55.389Z"
   },
   {
    "duration": 7,
    "start_time": "2024-08-09T15:42:06.057Z"
   },
   {
    "duration": 8,
    "start_time": "2024-08-09T15:42:54.597Z"
   },
   {
    "duration": 7,
    "start_time": "2024-08-09T15:42:58.838Z"
   },
   {
    "duration": 1000,
    "start_time": "2024-08-09T15:43:09.661Z"
   },
   {
    "duration": 10,
    "start_time": "2024-08-09T15:43:56.893Z"
   },
   {
    "duration": 206,
    "start_time": "2024-08-09T15:43:58.776Z"
   },
   {
    "duration": 12,
    "start_time": "2024-08-09T15:44:17.319Z"
   },
   {
    "duration": 12,
    "start_time": "2024-08-09T15:44:24.707Z"
   },
   {
    "duration": 432,
    "start_time": "2024-08-09T15:44:30.552Z"
   },
   {
    "duration": 12,
    "start_time": "2024-08-09T15:44:40.311Z"
   },
   {
    "duration": 204,
    "start_time": "2024-08-09T15:45:39.554Z"
   },
   {
    "duration": 192,
    "start_time": "2024-08-09T15:46:19.720Z"
   },
   {
    "duration": 7,
    "start_time": "2024-08-09T16:11:24.984Z"
   },
   {
    "duration": 117,
    "start_time": "2024-08-09T16:11:27.382Z"
   },
   {
    "duration": 6,
    "start_time": "2024-08-09T16:11:50.287Z"
   },
   {
    "duration": 412,
    "start_time": "2024-08-09T16:11:52.534Z"
   },
   {
    "duration": 5,
    "start_time": "2024-08-09T16:15:53.020Z"
   },
   {
    "duration": 307,
    "start_time": "2024-08-09T16:15:56.154Z"
   },
   {
    "duration": 6,
    "start_time": "2024-08-09T16:19:34.744Z"
   },
   {
    "duration": 361,
    "start_time": "2024-08-09T16:19:36.444Z"
   },
   {
    "duration": 475,
    "start_time": "2024-08-09T16:19:59.696Z"
   },
   {
    "duration": 376,
    "start_time": "2024-08-09T16:20:04.048Z"
   },
   {
    "duration": 14,
    "start_time": "2024-08-09T16:21:05.143Z"
   },
   {
    "duration": 5,
    "start_time": "2024-08-09T16:25:32.859Z"
   },
   {
    "duration": 359,
    "start_time": "2024-08-09T16:25:35.037Z"
   },
   {
    "duration": 6,
    "start_time": "2024-08-09T16:26:38.284Z"
   },
   {
    "duration": 347,
    "start_time": "2024-08-09T16:26:41.230Z"
   },
   {
    "duration": 86,
    "start_time": "2024-08-09T16:28:26.596Z"
   },
   {
    "duration": 344,
    "start_time": "2024-08-09T16:28:28.773Z"
   },
   {
    "duration": 5,
    "start_time": "2024-08-09T16:28:46.026Z"
   },
   {
    "duration": 347,
    "start_time": "2024-08-09T16:28:48.563Z"
   },
   {
    "duration": 6,
    "start_time": "2024-08-09T16:31:47.447Z"
   },
   {
    "duration": 361,
    "start_time": "2024-08-09T16:31:52.214Z"
   },
   {
    "duration": 7,
    "start_time": "2024-08-09T16:32:27.601Z"
   },
   {
    "duration": 362,
    "start_time": "2024-08-09T16:32:29.603Z"
   },
   {
    "duration": 434,
    "start_time": "2024-08-09T16:36:58.655Z"
   },
   {
    "duration": 11,
    "start_time": "2024-08-09T16:38:17.479Z"
   },
   {
    "duration": 10,
    "start_time": "2024-08-09T16:38:25.235Z"
   },
   {
    "duration": 11,
    "start_time": "2024-08-09T16:43:22.774Z"
   },
   {
    "duration": 12,
    "start_time": "2024-08-09T16:43:41.733Z"
   },
   {
    "duration": 11,
    "start_time": "2024-08-09T16:44:04.577Z"
   },
   {
    "duration": 358,
    "start_time": "2024-08-09T16:44:19.897Z"
   },
   {
    "duration": 45,
    "start_time": "2024-08-10T11:39:09.789Z"
   },
   {
    "duration": 4154,
    "start_time": "2024-08-10T11:39:14.770Z"
   },
   {
    "duration": 246,
    "start_time": "2024-08-10T11:39:18.926Z"
   },
   {
    "duration": 14,
    "start_time": "2024-08-10T11:39:19.173Z"
   },
   {
    "duration": 834,
    "start_time": "2024-08-10T11:39:19.188Z"
   },
   {
    "duration": 14,
    "start_time": "2024-08-10T11:39:20.023Z"
   },
   {
    "duration": 25,
    "start_time": "2024-08-10T11:39:20.039Z"
   },
   {
    "duration": 26,
    "start_time": "2024-08-10T11:39:20.065Z"
   },
   {
    "duration": 20,
    "start_time": "2024-08-10T11:39:20.092Z"
   },
   {
    "duration": 9,
    "start_time": "2024-08-10T11:39:20.113Z"
   },
   {
    "duration": 9,
    "start_time": "2024-08-10T11:39:20.124Z"
   },
   {
    "duration": 28,
    "start_time": "2024-08-10T11:39:20.134Z"
   },
   {
    "duration": 8,
    "start_time": "2024-08-10T11:39:20.164Z"
   },
   {
    "duration": 27,
    "start_time": "2024-08-10T11:39:20.174Z"
   },
   {
    "duration": 13,
    "start_time": "2024-08-10T11:39:20.202Z"
   },
   {
    "duration": 26,
    "start_time": "2024-08-10T11:39:20.216Z"
   },
   {
    "duration": 33,
    "start_time": "2024-08-10T11:39:20.244Z"
   },
   {
    "duration": 15,
    "start_time": "2024-08-10T11:39:20.278Z"
   },
   {
    "duration": 14,
    "start_time": "2024-08-10T11:39:20.295Z"
   },
   {
    "duration": 4,
    "start_time": "2024-08-10T11:39:20.311Z"
   },
   {
    "duration": 14,
    "start_time": "2024-08-10T11:39:20.317Z"
   },
   {
    "duration": 691,
    "start_time": "2024-08-10T11:39:20.332Z"
   },
   {
    "duration": 299,
    "start_time": "2024-08-10T11:39:21.024Z"
   },
   {
    "duration": 273,
    "start_time": "2024-08-10T11:39:21.324Z"
   },
   {
    "duration": 17,
    "start_time": "2024-08-10T11:39:21.599Z"
   },
   {
    "duration": 359,
    "start_time": "2024-08-10T11:39:21.617Z"
   },
   {
    "duration": 81,
    "start_time": "2024-08-10T11:39:21.978Z"
   },
   {
    "duration": 11,
    "start_time": "2024-08-10T11:39:22.061Z"
   },
   {
    "duration": 64,
    "start_time": "2024-08-10T11:39:22.075Z"
   },
   {
    "duration": 0,
    "start_time": "2024-08-10T11:39:22.140Z"
   },
   {
    "duration": 0,
    "start_time": "2024-08-10T11:39:22.141Z"
   },
   {
    "duration": 0,
    "start_time": "2024-08-10T11:39:22.142Z"
   },
   {
    "duration": 0,
    "start_time": "2024-08-10T11:39:22.144Z"
   },
   {
    "duration": 0,
    "start_time": "2024-08-10T11:39:22.145Z"
   },
   {
    "duration": 8,
    "start_time": "2024-08-10T11:39:36.950Z"
   },
   {
    "duration": 760,
    "start_time": "2024-08-10T11:40:01.710Z"
   },
   {
    "duration": 10,
    "start_time": "2024-08-10T11:40:30.930Z"
   },
   {
    "duration": 189,
    "start_time": "2024-08-10T11:40:34.300Z"
   },
   {
    "duration": 255,
    "start_time": "2024-08-10T11:41:00.720Z"
   },
   {
    "duration": 243,
    "start_time": "2024-08-10T11:41:13.207Z"
   },
   {
    "duration": 219,
    "start_time": "2024-08-10T11:41:17.469Z"
   },
   {
    "duration": 8,
    "start_time": "2024-08-10T11:41:21.737Z"
   },
   {
    "duration": 222,
    "start_time": "2024-08-10T11:41:25.920Z"
   },
   {
    "duration": 8,
    "start_time": "2024-08-10T11:41:32.966Z"
   },
   {
    "duration": 5,
    "start_time": "2024-08-10T11:41:43.180Z"
   },
   {
    "duration": 5,
    "start_time": "2024-08-10T11:42:02.756Z"
   },
   {
    "duration": 19,
    "start_time": "2024-08-10T11:42:22.919Z"
   },
   {
    "duration": 20,
    "start_time": "2024-08-10T11:42:59.209Z"
   },
   {
    "duration": 59,
    "start_time": "2024-08-10T11:45:54.339Z"
   },
   {
    "duration": 4,
    "start_time": "2024-08-10T11:46:07.118Z"
   },
   {
    "duration": 16,
    "start_time": "2024-08-10T11:46:12.617Z"
   },
   {
    "duration": 43,
    "start_time": "2024-08-10T11:46:19.316Z"
   },
   {
    "duration": 45,
    "start_time": "2024-08-10T11:48:15.688Z"
   },
   {
    "duration": 40,
    "start_time": "2024-08-10T11:59:38.799Z"
   },
   {
    "duration": 19,
    "start_time": "2024-08-10T12:01:06.020Z"
   },
   {
    "duration": 19,
    "start_time": "2024-08-10T12:02:15.808Z"
   },
   {
    "duration": 18,
    "start_time": "2024-08-10T12:02:40.828Z"
   },
   {
    "duration": 22,
    "start_time": "2024-08-10T12:02:51.929Z"
   },
   {
    "duration": 21,
    "start_time": "2024-08-10T12:02:56.209Z"
   },
   {
    "duration": 51,
    "start_time": "2024-08-10T12:03:46.477Z"
   },
   {
    "duration": 10,
    "start_time": "2024-08-10T12:05:11.329Z"
   },
   {
    "duration": 9,
    "start_time": "2024-08-10T12:11:00.340Z"
   },
   {
    "duration": 11,
    "start_time": "2024-08-10T12:11:32.407Z"
   },
   {
    "duration": 9,
    "start_time": "2024-08-10T12:14:55.407Z"
   },
   {
    "duration": 42,
    "start_time": "2024-08-10T12:22:39.617Z"
   },
   {
    "duration": 9,
    "start_time": "2024-08-10T12:22:48.967Z"
   },
   {
    "duration": 50,
    "start_time": "2024-08-10T12:24:18.857Z"
   },
   {
    "duration": 5,
    "start_time": "2024-08-10T12:24:28.333Z"
   },
   {
    "duration": 60,
    "start_time": "2024-08-10T16:21:06.417Z"
   },
   {
    "duration": 42,
    "start_time": "2024-08-10T16:21:09.196Z"
   },
   {
    "duration": 4399,
    "start_time": "2024-08-10T16:21:16.117Z"
   },
   {
    "duration": 240,
    "start_time": "2024-08-10T16:21:20.518Z"
   },
   {
    "duration": 13,
    "start_time": "2024-08-10T16:21:20.760Z"
   },
   {
    "duration": 860,
    "start_time": "2024-08-10T16:21:20.775Z"
   },
   {
    "duration": 13,
    "start_time": "2024-08-10T16:21:21.637Z"
   },
   {
    "duration": 32,
    "start_time": "2024-08-10T16:21:21.652Z"
   },
   {
    "duration": 34,
    "start_time": "2024-08-10T16:21:21.685Z"
   },
   {
    "duration": 23,
    "start_time": "2024-08-10T16:21:21.721Z"
   },
   {
    "duration": 13,
    "start_time": "2024-08-10T16:21:21.746Z"
   },
   {
    "duration": 9,
    "start_time": "2024-08-10T16:21:21.760Z"
   },
   {
    "duration": 32,
    "start_time": "2024-08-10T16:21:21.771Z"
   },
   {
    "duration": 17,
    "start_time": "2024-08-10T16:21:21.804Z"
   },
   {
    "duration": 24,
    "start_time": "2024-08-10T16:21:21.822Z"
   },
   {
    "duration": 67,
    "start_time": "2024-08-10T16:21:21.849Z"
   },
   {
    "duration": 19,
    "start_time": "2024-08-10T16:21:21.918Z"
   },
   {
    "duration": 25,
    "start_time": "2024-08-10T16:21:21.938Z"
   },
   {
    "duration": 19,
    "start_time": "2024-08-10T16:21:21.964Z"
   },
   {
    "duration": 35,
    "start_time": "2024-08-10T16:21:21.985Z"
   },
   {
    "duration": 9,
    "start_time": "2024-08-10T16:21:22.022Z"
   },
   {
    "duration": 17,
    "start_time": "2024-08-10T16:21:22.033Z"
   },
   {
    "duration": 787,
    "start_time": "2024-08-10T16:21:22.051Z"
   },
   {
    "duration": 323,
    "start_time": "2024-08-10T16:21:22.840Z"
   },
   {
    "duration": 280,
    "start_time": "2024-08-10T16:21:23.164Z"
   },
   {
    "duration": 17,
    "start_time": "2024-08-10T16:21:23.446Z"
   },
   {
    "duration": 383,
    "start_time": "2024-08-10T16:21:23.465Z"
   },
   {
    "duration": 84,
    "start_time": "2024-08-10T16:21:23.850Z"
   },
   {
    "duration": 6,
    "start_time": "2024-08-10T16:21:23.936Z"
   },
   {
    "duration": 9,
    "start_time": "2024-08-10T16:21:23.943Z"
   },
   {
    "duration": 273,
    "start_time": "2024-08-10T16:21:23.953Z"
   },
   {
    "duration": 248,
    "start_time": "2024-08-10T16:21:24.228Z"
   },
   {
    "duration": 229,
    "start_time": "2024-08-10T16:21:24.477Z"
   },
   {
    "duration": 9,
    "start_time": "2024-08-10T16:21:24.708Z"
   },
   {
    "duration": 238,
    "start_time": "2024-08-10T16:21:24.718Z"
   },
   {
    "duration": 19,
    "start_time": "2024-08-10T16:21:24.957Z"
   },
   {
    "duration": 25,
    "start_time": "2024-08-10T16:21:24.978Z"
   },
   {
    "duration": 187,
    "start_time": "2024-08-10T16:21:25.005Z"
   },
   {
    "duration": 5,
    "start_time": "2024-08-10T16:21:25.194Z"
   },
   {
    "duration": 420,
    "start_time": "2024-08-10T16:21:25.200Z"
   },
   {
    "duration": 433,
    "start_time": "2024-08-10T16:21:25.621Z"
   },
   {
    "duration": 333,
    "start_time": "2024-08-10T16:21:26.056Z"
   },
   {
    "duration": 9,
    "start_time": "2024-08-10T16:21:26.396Z"
   },
   {
    "duration": 11,
    "start_time": "2024-08-10T16:21:26.407Z"
   },
   {
    "duration": 7,
    "start_time": "2024-08-10T16:21:26.419Z"
   },
   {
    "duration": 9,
    "start_time": "2024-08-10T16:23:32.934Z"
   },
   {
    "duration": 10,
    "start_time": "2024-08-10T16:23:53.260Z"
   },
   {
    "duration": 43,
    "start_time": "2024-08-10T16:24:24.795Z"
   },
   {
    "duration": 7,
    "start_time": "2024-08-10T16:24:29.455Z"
   },
   {
    "duration": 5,
    "start_time": "2024-08-10T16:24:39.117Z"
   },
   {
    "duration": 336,
    "start_time": "2024-08-10T16:30:43.657Z"
   },
   {
    "duration": 2473,
    "start_time": "2024-08-10T17:51:08.664Z"
   },
   {
    "duration": 71,
    "start_time": "2024-08-10T17:51:11.139Z"
   },
   {
    "duration": 14,
    "start_time": "2024-08-10T17:51:11.212Z"
   },
   {
    "duration": 893,
    "start_time": "2024-08-10T17:51:11.228Z"
   },
   {
    "duration": 14,
    "start_time": "2024-08-10T17:51:12.123Z"
   },
   {
    "duration": 22,
    "start_time": "2024-08-10T17:51:12.139Z"
   },
   {
    "duration": 10,
    "start_time": "2024-08-10T17:51:12.162Z"
   },
   {
    "duration": 35,
    "start_time": "2024-08-10T17:51:12.174Z"
   },
   {
    "duration": 8,
    "start_time": "2024-08-10T17:51:12.211Z"
   },
   {
    "duration": 8,
    "start_time": "2024-08-10T17:51:12.221Z"
   },
   {
    "duration": 21,
    "start_time": "2024-08-10T17:51:12.231Z"
   },
   {
    "duration": 9,
    "start_time": "2024-08-10T17:51:12.254Z"
   },
   {
    "duration": 41,
    "start_time": "2024-08-10T17:51:12.265Z"
   },
   {
    "duration": 7,
    "start_time": "2024-08-10T17:51:12.308Z"
   },
   {
    "duration": 31,
    "start_time": "2024-08-10T17:51:12.316Z"
   },
   {
    "duration": 31,
    "start_time": "2024-08-10T17:51:12.349Z"
   },
   {
    "duration": 15,
    "start_time": "2024-08-10T17:51:12.382Z"
   },
   {
    "duration": 51,
    "start_time": "2024-08-10T17:51:12.398Z"
   },
   {
    "duration": 7,
    "start_time": "2024-08-10T17:51:12.451Z"
   },
   {
    "duration": 7,
    "start_time": "2024-08-10T17:51:12.459Z"
   },
   {
    "duration": 658,
    "start_time": "2024-08-10T17:51:12.468Z"
   },
   {
    "duration": 317,
    "start_time": "2024-08-10T17:51:13.128Z"
   },
   {
    "duration": 369,
    "start_time": "2024-08-10T17:51:13.447Z"
   },
   {
    "duration": 18,
    "start_time": "2024-08-10T17:51:13.818Z"
   },
   {
    "duration": 362,
    "start_time": "2024-08-10T17:51:13.838Z"
   },
   {
    "duration": 17,
    "start_time": "2024-08-10T17:51:14.202Z"
   },
   {
    "duration": 8,
    "start_time": "2024-08-10T17:51:14.220Z"
   },
   {
    "duration": 10,
    "start_time": "2024-08-10T17:51:14.232Z"
   },
   {
    "duration": 285,
    "start_time": "2024-08-10T17:51:14.243Z"
   },
   {
    "duration": 249,
    "start_time": "2024-08-10T17:51:14.530Z"
   },
   {
    "duration": 233,
    "start_time": "2024-08-10T17:51:14.780Z"
   },
   {
    "duration": 9,
    "start_time": "2024-08-10T17:51:15.015Z"
   },
   {
    "duration": 238,
    "start_time": "2024-08-10T17:51:15.025Z"
   },
   {
    "duration": 31,
    "start_time": "2024-08-10T17:51:15.265Z"
   },
   {
    "duration": 23,
    "start_time": "2024-08-10T17:51:15.298Z"
   },
   {
    "duration": 251,
    "start_time": "2024-08-10T17:51:15.323Z"
   },
   {
    "duration": 6,
    "start_time": "2024-08-10T17:51:15.575Z"
   },
   {
    "duration": 432,
    "start_time": "2024-08-10T17:51:15.582Z"
   },
   {
    "duration": 355,
    "start_time": "2024-08-10T17:51:16.016Z"
   },
   {
    "duration": 330,
    "start_time": "2024-08-10T17:51:16.372Z"
   },
   {
    "duration": 10,
    "start_time": "2024-08-10T17:51:16.703Z"
   },
   {
    "duration": 10,
    "start_time": "2024-08-10T17:51:16.714Z"
   },
   {
    "duration": 9,
    "start_time": "2024-08-10T17:51:16.726Z"
   },
   {
    "duration": 4671,
    "start_time": "2024-08-11T04:53:28.514Z"
   },
   {
    "duration": 208,
    "start_time": "2024-08-11T04:53:33.187Z"
   },
   {
    "duration": 14,
    "start_time": "2024-08-11T04:53:33.397Z"
   },
   {
    "duration": 885,
    "start_time": "2024-08-11T04:53:33.413Z"
   },
   {
    "duration": 16,
    "start_time": "2024-08-11T04:53:34.300Z"
   },
   {
    "duration": 15,
    "start_time": "2024-08-11T04:53:34.317Z"
   },
   {
    "duration": 32,
    "start_time": "2024-08-11T04:53:34.334Z"
   },
   {
    "duration": 20,
    "start_time": "2024-08-11T04:53:34.368Z"
   },
   {
    "duration": 18,
    "start_time": "2024-08-11T04:53:34.390Z"
   },
   {
    "duration": 3,
    "start_time": "2024-08-11T04:53:34.411Z"
   },
   {
    "duration": 15,
    "start_time": "2024-08-11T04:53:34.416Z"
   },
   {
    "duration": 29,
    "start_time": "2024-08-11T04:53:34.432Z"
   },
   {
    "duration": 20,
    "start_time": "2024-08-11T04:53:34.463Z"
   },
   {
    "duration": 7,
    "start_time": "2024-08-11T04:53:34.484Z"
   },
   {
    "duration": 8,
    "start_time": "2024-08-11T04:53:34.492Z"
   },
   {
    "duration": 52,
    "start_time": "2024-08-11T04:53:34.501Z"
   },
   {
    "duration": 16,
    "start_time": "2024-08-11T04:53:34.555Z"
   },
   {
    "duration": 18,
    "start_time": "2024-08-11T04:53:34.572Z"
   },
   {
    "duration": 6,
    "start_time": "2024-08-11T04:53:34.592Z"
   },
   {
    "duration": 97,
    "start_time": "2024-08-11T04:53:34.600Z"
   },
   {
    "duration": 785,
    "start_time": "2024-08-11T04:53:34.699Z"
   },
   {
    "duration": 328,
    "start_time": "2024-08-11T04:53:35.485Z"
   },
   {
    "duration": 286,
    "start_time": "2024-08-11T04:53:35.815Z"
   },
   {
    "duration": 19,
    "start_time": "2024-08-11T04:53:36.103Z"
   },
   {
    "duration": 389,
    "start_time": "2024-08-11T04:53:36.123Z"
   },
   {
    "duration": 90,
    "start_time": "2024-08-11T04:53:36.513Z"
   },
   {
    "duration": 86,
    "start_time": "2024-08-11T04:53:36.605Z"
   },
   {
    "duration": 12,
    "start_time": "2024-08-11T04:53:36.696Z"
   },
   {
    "duration": 274,
    "start_time": "2024-08-11T04:53:36.710Z"
   },
   {
    "duration": 275,
    "start_time": "2024-08-11T04:53:36.985Z"
   },
   {
    "duration": 247,
    "start_time": "2024-08-11T04:53:37.261Z"
   },
   {
    "duration": 9,
    "start_time": "2024-08-11T04:53:37.510Z"
   },
   {
    "duration": 236,
    "start_time": "2024-08-11T04:53:37.520Z"
   },
   {
    "duration": 22,
    "start_time": "2024-08-11T04:53:37.757Z"
   },
   {
    "duration": 11,
    "start_time": "2024-08-11T04:53:37.781Z"
   },
   {
    "duration": 218,
    "start_time": "2024-08-11T04:53:37.793Z"
   },
   {
    "duration": 6,
    "start_time": "2024-08-11T04:53:38.013Z"
   },
   {
    "duration": 370,
    "start_time": "2024-08-11T04:53:38.020Z"
   },
   {
    "duration": 446,
    "start_time": "2024-08-11T04:53:38.392Z"
   },
   {
    "duration": 363,
    "start_time": "2024-08-11T04:53:38.839Z"
   },
   {
    "duration": 10,
    "start_time": "2024-08-11T04:53:39.204Z"
   },
   {
    "duration": 55,
    "start_time": "2024-08-11T04:53:39.216Z"
   },
   {
    "duration": 11,
    "start_time": "2024-08-11T04:53:39.273Z"
   },
   {
    "duration": 99,
    "start_time": "2024-08-11T04:55:12.779Z"
   },
   {
    "duration": 4488,
    "start_time": "2024-08-11T04:55:25.923Z"
   },
   {
    "duration": 72,
    "start_time": "2024-08-11T04:55:30.413Z"
   },
   {
    "duration": 16,
    "start_time": "2024-08-11T04:55:30.487Z"
   },
   {
    "duration": 795,
    "start_time": "2024-08-11T04:55:30.505Z"
   },
   {
    "duration": 14,
    "start_time": "2024-08-11T04:55:31.303Z"
   },
   {
    "duration": 116,
    "start_time": "2024-08-11T04:55:31.319Z"
   },
   {
    "duration": 37,
    "start_time": "2024-08-11T04:55:31.436Z"
   },
   {
    "duration": 31,
    "start_time": "2024-08-11T04:55:31.475Z"
   },
   {
    "duration": 46,
    "start_time": "2024-08-11T04:55:31.508Z"
   },
   {
    "duration": 37,
    "start_time": "2024-08-11T04:55:31.557Z"
   },
   {
    "duration": 46,
    "start_time": "2024-08-11T04:55:31.595Z"
   },
   {
    "duration": 25,
    "start_time": "2024-08-11T04:55:31.642Z"
   },
   {
    "duration": 50,
    "start_time": "2024-08-11T04:55:31.669Z"
   },
   {
    "duration": 13,
    "start_time": "2024-08-11T04:55:31.720Z"
   },
   {
    "duration": 37,
    "start_time": "2024-08-11T04:55:31.735Z"
   },
   {
    "duration": 49,
    "start_time": "2024-08-11T04:55:31.774Z"
   },
   {
    "duration": 31,
    "start_time": "2024-08-11T04:55:31.824Z"
   },
   {
    "duration": 40,
    "start_time": "2024-08-11T04:55:31.857Z"
   },
   {
    "duration": 9,
    "start_time": "2024-08-11T04:55:31.899Z"
   },
   {
    "duration": 15,
    "start_time": "2024-08-11T04:55:31.909Z"
   },
   {
    "duration": 769,
    "start_time": "2024-08-11T04:55:31.925Z"
   },
   {
    "duration": 320,
    "start_time": "2024-08-11T04:55:32.695Z"
   },
   {
    "duration": 287,
    "start_time": "2024-08-11T04:55:33.016Z"
   },
   {
    "duration": 18,
    "start_time": "2024-08-11T04:55:33.304Z"
   },
   {
    "duration": 388,
    "start_time": "2024-08-11T04:55:33.323Z"
   },
   {
    "duration": 89,
    "start_time": "2024-08-11T04:55:33.713Z"
   },
   {
    "duration": 15,
    "start_time": "2024-08-11T04:55:33.803Z"
   },
   {
    "duration": 11,
    "start_time": "2024-08-11T04:55:33.821Z"
   },
   {
    "duration": 277,
    "start_time": "2024-08-11T04:55:33.833Z"
   },
   {
    "duration": 273,
    "start_time": "2024-08-11T04:55:34.112Z"
   },
   {
    "duration": 245,
    "start_time": "2024-08-11T04:55:34.386Z"
   },
   {
    "duration": 9,
    "start_time": "2024-08-11T04:55:34.632Z"
   },
   {
    "duration": 275,
    "start_time": "2024-08-11T04:55:34.643Z"
   },
   {
    "duration": 34,
    "start_time": "2024-08-11T04:55:34.920Z"
   },
   {
    "duration": 12,
    "start_time": "2024-08-11T04:55:34.956Z"
   },
   {
    "duration": 228,
    "start_time": "2024-08-11T04:55:34.969Z"
   },
   {
    "duration": 6,
    "start_time": "2024-08-11T04:55:35.198Z"
   },
   {
    "duration": 401,
    "start_time": "2024-08-11T04:55:35.205Z"
   },
   {
    "duration": 453,
    "start_time": "2024-08-11T04:55:35.608Z"
   },
   {
    "duration": 380,
    "start_time": "2024-08-11T04:55:36.063Z"
   },
   {
    "duration": 15,
    "start_time": "2024-08-11T04:55:36.444Z"
   },
   {
    "duration": 35,
    "start_time": "2024-08-11T04:55:36.461Z"
   },
   {
    "duration": 29,
    "start_time": "2024-08-11T04:55:36.497Z"
   },
   {
    "duration": 99,
    "start_time": "2024-08-11T04:55:54.495Z"
   },
   {
    "duration": 9,
    "start_time": "2024-08-11T04:56:28.879Z"
   },
   {
    "duration": 4,
    "start_time": "2024-08-11T04:56:30.052Z"
   },
   {
    "duration": 13,
    "start_time": "2024-08-11T04:56:33.311Z"
   },
   {
    "duration": 10,
    "start_time": "2024-08-11T04:56:33.636Z"
   },
   {
    "duration": 18,
    "start_time": "2024-08-11T04:56:34.203Z"
   },
   {
    "duration": 8,
    "start_time": "2024-08-11T04:56:36.664Z"
   },
   {
    "duration": 7,
    "start_time": "2024-08-11T04:56:37.279Z"
   },
   {
    "duration": 8,
    "start_time": "2024-08-11T04:56:37.696Z"
   },
   {
    "duration": 16,
    "start_time": "2024-08-11T04:56:38.839Z"
   }
  ],
  "kernelspec": {
   "display_name": "Python 3 (ipykernel)",
   "language": "python",
   "name": "python3"
  },
  "language_info": {
   "codemirror_mode": {
    "name": "ipython",
    "version": 3
   },
   "file_extension": ".py",
   "mimetype": "text/x-python",
   "name": "python",
   "nbconvert_exporter": "python",
   "pygments_lexer": "ipython3",
   "version": "3.9.5"
  },
  "toc": {
   "base_numbering": 1,
   "nav_menu": {
    "height": "311.545px",
    "width": "463.545px"
   },
   "number_sections": true,
   "sideBar": true,
   "skip_h1_title": true,
   "title_cell": "Оглавление",
   "title_sidebar": "Contents",
   "toc_cell": true,
   "toc_position": {
    "height": "calc(100% - 180px)",
    "left": "10px",
    "top": "150px",
    "width": "403.537px"
   },
   "toc_section_display": true,
   "toc_window_display": true
  }
 },
 "nbformat": 4,
 "nbformat_minor": 2
}
